{
 "cells": [
  {
   "cell_type": "markdown",
   "metadata": {},
   "source": []
  },
  {
   "cell_type": "code",
   "execution_count": 8,
   "metadata": {},
   "outputs": [],
   "source": [
    "def maxVowels(s: str, k: int) -> int:\n",
    "    window_start = 0\n",
    "    counts = {v:0 for v in \"aieou\".split()}\n",
    "    highest = 0\n",
    "    for window_end in range(len(s)):\n",
    "        right_char = s[window_end]\n",
    "        if right_char in counts:\n",
    "            counts[right_char] += 1\n",
    "        print(counts)\n",
    "        if window_end >= k-1:\n",
    "            highest = max(highest, sum(counts.values()))\n",
    "            left_char = s[window_start]\n",
    "            if left_char in counts:\n",
    "                counts[left_char] -= 1\n",
    "            window_start += 1\n",
    "    return highest"
   ]
  },
  {
   "cell_type": "code",
   "execution_count": 9,
   "metadata": {},
   "outputs": [
    {
     "name": "stdout",
     "output_type": "stream",
     "text": [
      "{'aieou': 0}\n",
      "{'aieou': 0}\n",
      "{'aieou': 0}\n",
      "{'aieou': 0}\n",
      "{'aieou': 0}\n",
      "{'aieou': 0}\n",
      "{'aieou': 0}\n",
      "{'aieou': 0}\n"
     ]
    },
    {
     "data": {
      "text/plain": [
       "0"
      ]
     },
     "execution_count": 9,
     "metadata": {},
     "output_type": "execute_result"
    }
   ],
   "source": [
    "maxVowels('oiwvb2ev', 2)"
   ]
  },
  {
   "cell_type": "code",
   "execution_count": null,
   "metadata": {},
   "outputs": [],
   "source": []
  }
 ],
 "metadata": {
  "kernelspec": {
   "display_name": "Python 3",
   "language": "python",
   "name": "python3"
  },
  "language_info": {
   "codemirror_mode": {
    "name": "ipython",
    "version": 3
   },
   "file_extension": ".py",
   "mimetype": "text/x-python",
   "name": "python",
   "nbconvert_exporter": "python",
   "pygments_lexer": "ipython3",
   "version": "3.9.1"
  }
 },
 "nbformat": 4,
 "nbformat_minor": 4
}
