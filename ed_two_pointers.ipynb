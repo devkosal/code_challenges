{
 "cells": [
  {
   "cell_type": "markdown",
   "metadata": {},
   "source": [
    "## Find indices of two numbers in a sorted array which sum up to target"
   ]
  },
  {
   "cell_type": "code",
   "execution_count": 7,
   "metadata": {},
   "outputs": [],
   "source": [
    "nums = [1,4,5,9,11,20,23]\n",
    "target1 = 9\n",
    "target2 = 20"
   ]
  },
  {
   "cell_type": "code",
   "execution_count": 5,
   "metadata": {},
   "outputs": [],
   "source": [
    "# 1 with dictionary \n",
    "def find_pairs(nums, target):\n",
    "    remaining_sums = {}\n",
    "    for i,num in enumerate(nums):\n",
    "        if num in remaining_sums:\n",
    "            return remaining_sums[num],i\n",
    "        else:\n",
    "            remaining_sums[target-num] = i\n",
    "    return \"Not Found\""
   ]
  },
  {
   "cell_type": "code",
   "execution_count": 8,
   "metadata": {},
   "outputs": [
    {
     "data": {
      "text/plain": [
       "(3, 4)"
      ]
     },
     "execution_count": 8,
     "metadata": {},
     "output_type": "execute_result"
    }
   ],
   "source": [
    "find_pairs(nums, target2) "
   ]
  },
  {
   "cell_type": "code",
   "execution_count": 18,
   "metadata": {},
   "outputs": [],
   "source": [
    "# 2 with two pointers\n",
    "def find_pairs(nums, target):\n",
    "    left, right = 0, len(nums)-1\n",
    "    \n",
    "    while left < right:\n",
    "        s = nums[left] + nums[right]\n",
    "        if s == target:\n",
    "            return [left, right]\n",
    "        elif s > target:\n",
    "            right -= 1\n",
    "        elif s < target:\n",
    "            left += 1\n",
    "    return None\n",
    "            "
   ]
  },
  {
   "cell_type": "code",
   "execution_count": 17,
   "metadata": {},
   "outputs": [
    {
     "data": {
      "text/plain": [
       "(1, 2)"
      ]
     },
     "execution_count": 17,
     "metadata": {},
     "output_type": "execute_result"
    }
   ],
   "source": [
    "find_pairs(nums, target1) "
   ]
  },
  {
   "cell_type": "markdown",
   "metadata": {},
   "source": [
    "Given an array of unsorted numbers, find all unique triplets in it that add\n",
    "up to zero."
   ]
  },
  {
   "cell_type": "markdown",
   "metadata": {},
   "source": [
    "https://www.educative.io/courses/grokking-the-coding-interview/gxk639mrr5r"
   ]
  },
  {
   "cell_type": "markdown",
   "metadata": {},
   "source": [
    "```\n",
    " Input: [-3, 0, 1, 2, -1, 1, -2]\n",
    "Output: [-3, 1, 2], [-2, 0, 2], [-2, 1, 1], [-1, 0, 1]\n",
    "Explanation: There are four unique triplets whose sum is equal t\n",
    "o zero.\n",
    "```"
   ]
  },
  {
   "cell_type": "markdown",
   "metadata": {},
   "source": [
    "```\n",
    "Input: [-5, 2, -1, -2, 3]\n",
    "Output: [[-5, 2, 3], [-2, -1, 3]]\n",
    "Explanation: There are two unique triplets whose sum is equal to z\n",
    "ero.\n",
    "```"
   ]
  },
  {
   "cell_type": "code",
   "execution_count": 90,
   "metadata": {},
   "outputs": [],
   "source": [
    "def find_triplets(nums):\n",
    "    triplets = []\n",
    "    nums.sort()\n",
    "    for i,num in enumerate(nums):\n",
    "        if i > 0 and nums[i] == nums[i-1]:\n",
    "            continue \n",
    "        search_pairs(nums, -num, i+1, triplets)\n",
    "    return triplets\n",
    "\n",
    "def search_pairs(nums, target, left, triplets):\n",
    "    right = len(nums) - 1\n",
    "    while left < right:\n",
    "        s = nums[left] + nums[right]\n",
    "        if s == target:\n",
    "            triplets.append([-target, nums[left], nums[right]])\n",
    "            left += 1\n",
    "            right -= 1\n",
    "            # here you may need to run a while loop instead of if in order \n",
    "            # to rid of any duplicates in left or right indices \n",
    "            # educative did that but it seems to work even without\n",
    "        if s > target:\n",
    "            right -= 1\n",
    "        elif s < target:\n",
    "            left += 1\n",
    "        "
   ]
  },
  {
   "cell_type": "code",
   "execution_count": 91,
   "metadata": {},
   "outputs": [
    {
     "data": {
      "text/plain": [
       "[[-3, 1, 2], [-2, 0, 2], [-2, 1, 1], [-1, 0, 1]]"
      ]
     },
     "execution_count": 91,
     "metadata": {},
     "output_type": "execute_result"
    }
   ],
   "source": [
    "find_triplets([-3, 0, 1, 2, -1, 1, -2]) # [[-3, 1, 2], [-2, 0, 2], [-2, 1, 1], [-1, 0, 1]]"
   ]
  },
  {
   "cell_type": "code",
   "execution_count": 47,
   "metadata": {},
   "outputs": [
    {
     "data": {
      "text/plain": [
       "[[-5, 2, 3], [-2, -1, 3]]"
      ]
     },
     "execution_count": 47,
     "metadata": {},
     "output_type": "execute_result"
    }
   ],
   "source": [
    "find_triplets([-5, 2, -1, -2, 3]) # [[-5, 2, 3], [-2, -1, 3]]"
   ]
  },
  {
   "cell_type": "code",
   "execution_count": 54,
   "metadata": {},
   "outputs": [
    {
     "name": "stdout",
     "output_type": "stream",
     "text": [
      "[-1, -1, -1, -1, 1, 1, 1, 2]\n"
     ]
    },
    {
     "data": {
      "text/plain": [
       "[[-1, -1, 2]]"
      ]
     },
     "execution_count": 54,
     "metadata": {},
     "output_type": "execute_result"
    }
   ],
   "source": [
    "find_triplets([2,1,1,1,-1,-1,-1,-1]) # [[-5, 2, 3], [-2, -1, 3]]"
   ]
  },
  {
   "cell_type": "markdown",
   "metadata": {},
   "source": [
    "# Triplet Sum Close to Target (medium)"
   ]
  },
  {
   "cell_type": "markdown",
   "metadata": {},
   "source": [
    "Given an array of unsorted numbers and a target number, find a triplet in the array whose sum is as close to the target number as possible, return the sum of the triplet. If there are more than one such triplet, return the sum of the triplet with the smallest sum."
   ]
  },
  {
   "cell_type": "markdown",
   "metadata": {},
   "source": [
    "```\n",
    "Input: [-2, 0, 1, 2], target=2\n",
    "Output: 1\n",
    "Explanation: The triplet [-2, 1, 2] has the closest sum to the tar\n",
    "get.\n",
    "```"
   ]
  },
  {
   "cell_type": "code",
   "execution_count": 85,
   "metadata": {},
   "outputs": [],
   "source": [
    "# would be better if not split into two functions\n",
    "# https://www.educative.io/courses/grokking-the-coding-interview/3YlQz7PE7OA\n",
    "def triplet_sum_close_to_target(nums, target):\n",
    "    nums.sort()\n",
    "    mn = float('inf') # minimum\n",
    "    best = None\n",
    "    for i,num in enumerate(nums):\n",
    "        if i > 0 and nums[i] == nums[i-1]:\n",
    "            continue\n",
    "        maybe_mn, maybe_best = search_closest(nums, target-num, i+1, mn)\n",
    "        if mn > maybe_mn:\n",
    "            mn, best = maybe_mn, maybe_best\n",
    "    return best\n",
    "\n",
    "def search_closest(nums, target, left, mn):\n",
    "    num = nums[left-1]\n",
    "    right = len(nums) - 1\n",
    "    best = None\n",
    "    while left < right:\n",
    "        s = nums[left] + nums[right]\n",
    "        if s == target:\n",
    "            return 0,0\n",
    "        elif mn > abs(target-s):\n",
    "            mn = abs(target-s)\n",
    "            best = sum([num] + [nums[left], nums[right]])\n",
    "        if s < target:\n",
    "            left += 1\n",
    "        elif s > target:\n",
    "            right -= 1\n",
    "    return mn, best\n",
    "        "
   ]
  },
  {
   "cell_type": "code",
   "execution_count": 86,
   "metadata": {},
   "outputs": [
    {
     "data": {
      "text/plain": [
       "1"
      ]
     },
     "execution_count": 86,
     "metadata": {},
     "output_type": "execute_result"
    }
   ],
   "source": [
    "triplet_sum_close_to_target([-2, 0, 1, 2], 2) # 1"
   ]
  },
  {
   "cell_type": "code",
   "execution_count": 87,
   "metadata": {},
   "outputs": [
    {
     "data": {
      "text/plain": [
       "0"
      ]
     },
     "execution_count": 87,
     "metadata": {},
     "output_type": "execute_result"
    }
   ],
   "source": [
    "triplet_sum_close_to_target([-3, -1, 1, 2], target=1) # 0"
   ]
  },
  {
   "cell_type": "code",
   "execution_count": 88,
   "metadata": {
    "scrolled": true
   },
   "outputs": [
    {
     "data": {
      "text/plain": [
       "3"
      ]
     },
     "execution_count": 88,
     "metadata": {},
     "output_type": "execute_result"
    }
   ],
   "source": [
    "triplet_sum_close_to_target([1, 0, 1, 1], target=100) # 3"
   ]
  },
  {
   "cell_type": "markdown",
   "metadata": {},
   "source": [
    "### Quadruplets "
   ]
  },
  {
   "cell_type": "code",
   "execution_count": 177,
   "metadata": {},
   "outputs": [],
   "source": [
    "def find_quads_target(arr, target):\n",
    "    \"\"\"failed at this. this is copy pasta\n",
    "    looks like it requires a double loop and then search for pairs\n",
    "    https://www.educative.io/courses/grokking-the-coding-interview/B6XOq8KlkWo\n",
    "    \"\"\"\n",
    "    arr.sort()\n",
    "    quadruplets = []\n",
    "    for i in range(0, len(arr)-3):\n",
    "    # skip same element to avoid duplicate quadruplets\n",
    "        if i > 0 and arr[i] == arr[i - 1]:\n",
    "            continue\n",
    "        for j in range(i + 1, len(arr)-2):\n",
    "          # skip same element to avoid duplicate quadruplets\n",
    "            if j > i + 1 and arr[j] == arr[j - 1]:\n",
    "                continue\n",
    "            search_pairs(arr, target, i, j, quadruplets)\n",
    "    return quadruplets\n",
    "\n",
    "def search_pairs(arr, target_sum, first, second, quadruplets):\n",
    "    left = second + 1\n",
    "    right = len(arr) - 1\n",
    "    while (left < right):\n",
    "        quad_sum = arr[first] + arr[second] + arr[left] + arr[right]\n",
    "        if quad_sum == target_sum:  # found the quadruplet\n",
    "            quadruplets.append(\n",
    "                [arr[first], arr[second], arr[left], arr[right]]\n",
    "                )\n",
    "            left += 1\n",
    "            right -= 1\n",
    "            while (left < right and arr[left] == arr[left - 1]):\n",
    "                left += 1  # skip same element to avoid duplicate quadruplets\n",
    "            while (left < right and arr[right] == arr[right + 1]):\n",
    "                right -= 1  # skip same element to avoid duplicate quadruplets\n",
    "        elif quad_sum < target_sum:\n",
    "            left += 1  # we need a pair with a bigger sum\n",
    "        else:\n",
    "            right -= 1  # we need a pair with a smaller sum"
   ]
  },
  {
   "cell_type": "code",
   "execution_count": 178,
   "metadata": {},
   "outputs": [
    {
     "data": {
      "text/plain": [
       "[[-3, -1, 1, 4], [-3, 1, 1, 2]]"
      ]
     },
     "execution_count": 178,
     "metadata": {},
     "output_type": "execute_result"
    }
   ],
   "source": [
    "find_quads_target([4, 1, 2, -1, 1, -3], target=1) # [-3, -1, 1, 4], [-3, 1, 1, 2]"
   ]
  },
  {
   "cell_type": "code",
   "execution_count": null,
   "metadata": {},
   "outputs": [],
   "source": []
  }
 ],
 "metadata": {
  "kernelspec": {
   "display_name": "Python 3",
   "language": "python",
   "name": "python3"
  },
  "language_info": {
   "codemirror_mode": {
    "name": "ipython",
    "version": 3
   },
   "file_extension": ".py",
   "mimetype": "text/x-python",
   "name": "python",
   "nbconvert_exporter": "python",
   "pygments_lexer": "ipython3",
   "version": "3.9.1"
  }
 },
 "nbformat": 4,
 "nbformat_minor": 4
}
