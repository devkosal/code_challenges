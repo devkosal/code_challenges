{
 "cells": [
  {
   "cell_type": "markdown",
   "metadata": {},
   "source": [
    "https://leetcode.com/problems/house-robber-iii/"
   ]
  },
  {
   "cell_type": "code",
   "execution_count": null,
   "metadata": {},
   "outputs": [],
   "source": [
    "def rob(root):\n",
    "    \n",
    "        "
   ]
  },
  {
   "cell_type": "code",
   "execution_count": null,
   "metadata": {},
   "outputs": [],
   "source": [
    "# This solution does not work!\n",
    "\n",
    "# Definition for a binary tree node.\n",
    "# class TreeNode:\n",
    "#     def __init__(self, x):\n",
    "#         self.val = x\n",
    "#         self.left = None\n",
    "#         self.right = None\n",
    "\n",
    "    def rob(self, root: TreeNode) -> int:\n",
    "        # Print nodes at a given level \n",
    "        def get_level(root , level): \n",
    "            if root is None: \n",
    "                return 0\n",
    "            if level == 1: \n",
    "                return root.val\n",
    "            elif level > 1: \n",
    "                return get_level(root.left , level-1) + get_level(root.right , level-1)\n",
    "                \n",
    "        def height(node): \n",
    "            if node is None: \n",
    "                return 0 \n",
    "            else : \n",
    "                # Compute the height of each subtree  \n",
    "                lheight = height(node.left) \n",
    "                rheight = height(node.right) \n",
    "                \n",
    "                #Use the larger one \n",
    "                if lheight > rheight : \n",
    "                    return lheight+1\n",
    "                else: \n",
    "                    return rheight+1\n",
    "                \n",
    "        def get_levels(root): \n",
    "            levels = []\n",
    "            h = height(root) \n",
    "            for i in range(1, h+1): \n",
    "                levels.append(get_level(root, i))\n",
    "            return levels\n",
    "        \n",
    "        levels = get_levels(root)\n",
    "        evens, odds = 0,0\n",
    "        for i in range(len(levels)):\n",
    "            if i % 2 == 0: \n",
    "                evens+= levels[i]\n",
    "            else:\n",
    "                odds += levels[i]\n",
    "        return max(evens,odds)\n",
    "        "
   ]
  }
 ],
 "metadata": {
  "kernelspec": {
   "display_name": "Python3 (fastai)",
   "language": "python",
   "name": "fastai"
  },
  "language_info": {
   "codemirror_mode": {
    "name": "ipython",
    "version": 3
   },
   "file_extension": ".py",
   "mimetype": "text/x-python",
   "name": "python",
   "nbconvert_exporter": "python",
   "pygments_lexer": "ipython3",
   "version": "3.7.5"
  }
 },
 "nbformat": 4,
 "nbformat_minor": 2
}
