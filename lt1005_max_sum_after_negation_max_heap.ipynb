{
 "cells": [
  {
   "cell_type": "markdown",
   "metadata": {},
   "source": [
    "https://leetcode.com/problems/maximize-sum-of-array-after-k-negations/"
   ]
  },
  {
   "cell_type": "code",
   "execution_count": 1,
   "metadata": {
    "ExecuteTime": {
     "end_time": "2020-09-12T21:32:06.078129Z",
     "start_time": "2020-09-12T21:32:06.072251Z"
    }
   },
   "outputs": [],
   "source": [
    "import heapq\n",
    "class Solution:\n",
    "    def largestSumAfterKNegations(self, A, K: int) -> int:\n",
    "            def isneg(x):\n",
    "                return abs(x)!=x\n",
    "            heapq.heapify(A)\n",
    "            n = len(A)\n",
    "            i = 0\n",
    "            # go through all negative numbers\n",
    "            while K > 0 and i < n and isneg(A[0]):\n",
    "                val = heapq.heappop(A)\n",
    "                heapq.heappush(A,-1*val)\n",
    "                i+=1\n",
    "                K-=1\n",
    "\n",
    "            if K%2 !=0 and i<n:\n",
    "                val = heapq.heappop(A)\n",
    "                heapq.heappush(A,-1*val)\n",
    "            return sum(A)"
   ]
  },
  {
   "cell_type": "code",
   "execution_count": null,
   "metadata": {},
   "outputs": [],
   "source": []
  }
 ],
 "metadata": {
  "kernelspec": {
   "display_name": "Python (data)",
   "language": "python",
   "name": "data"
  },
  "language_info": {
   "codemirror_mode": {
    "name": "ipython",
    "version": 3
   },
   "file_extension": ".py",
   "mimetype": "text/x-python",
   "name": "python",
   "nbconvert_exporter": "python",
   "pygments_lexer": "ipython3",
   "version": "3.8.3"
  }
 },
 "nbformat": 4,
 "nbformat_minor": 4
}
