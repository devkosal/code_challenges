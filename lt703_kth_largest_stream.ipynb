{
 "cells": [
  {
   "cell_type": "markdown",
   "metadata": {},
   "source": [
    "https://leetcode.com/problems/kth-largest-element-in-a-stream/submissions/"
   ]
  },
  {
   "cell_type": "code",
   "execution_count": 3,
   "metadata": {
    "ExecuteTime": {
     "end_time": "2020-09-11T04:31:56.343968Z",
     "start_time": "2020-09-11T04:31:56.339537Z"
    }
   },
   "outputs": [],
   "source": [
    "import heapq\n",
    "class KthLargest:\n",
    "    def __init__(self, k: int, nums):\n",
    "        self.k = k\n",
    "        self.nums = []\n",
    "        heapq.heapify(self.nums)\n",
    "        for n in nums:\n",
    "            heapq.heappush(self.nums,n)\n",
    "        \n",
    "    def add(self, val: int) -> int:\n",
    "        heapq.heappush(self.nums,val)  \n",
    "        return heapq.nlargest(self.k,self.nums)[-1]\n",
    "\n",
    "\n",
    "# Your KthLargest object will be instantiated and called as such:\n",
    "# obj = KthLargest(k, nums)\n",
    "# param_1 = obj.add(val)"
   ]
  },
  {
   "cell_type": "code",
   "execution_count": 5,
   "metadata": {
    "ExecuteTime": {
     "end_time": "2020-09-11T04:32:02.039456Z",
     "start_time": "2020-09-11T04:32:02.034773Z"
    }
   },
   "outputs": [],
   "source": [
    "import heapq\n",
    "class KthLargest:\n",
    "    def __init__(self, k: int, nums):\n",
    "        self.k = k\n",
    "        self.nums = heapq.nlargest(self.k,nums)[::-1]\n",
    "        \n",
    "    def add(self, val: int) -> int:\n",
    "        if len(self.nums) < self.k:\n",
    "            heapq.heappush(self.nums, val)\n",
    "        elif val > self.nums[0]:\n",
    "            heapq.heappushpop(self.nums, val) \n",
    "        return self.nums[0]\n",
    "\n",
    "\n",
    "# Your KthLargest object will be ainstantiated and called as such:\n",
    "# obj = KthLargest(k, nums)\n",
    "# param_1 = obj.add(val)"
   ]
  },
  {
   "cell_type": "code",
   "execution_count": null,
   "metadata": {},
   "outputs": [],
   "source": []
  }
 ],
 "metadata": {
  "kernelspec": {
   "display_name": "Python (data)",
   "language": "python",
   "name": "data"
  },
  "language_info": {
   "codemirror_mode": {
    "name": "ipython",
    "version": 3
   },
   "file_extension": ".py",
   "mimetype": "text/x-python",
   "name": "python",
   "nbconvert_exporter": "python",
   "pygments_lexer": "ipython3",
   "version": "3.8.3"
  }
 },
 "nbformat": 4,
 "nbformat_minor": 4
}
