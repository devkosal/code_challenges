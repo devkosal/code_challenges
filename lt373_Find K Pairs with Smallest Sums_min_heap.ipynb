{
 "cells": [
  {
   "cell_type": "markdown",
   "metadata": {},
   "source": [
    "https://leetcode.com/problems/find-k-pairs-with-smallest-sums/"
   ]
  },
  {
   "cell_type": "code",
   "execution_count": 1,
   "metadata": {
    "ExecuteTime": {
     "end_time": "2020-11-11T05:45:35.504419Z",
     "start_time": "2020-11-11T05:45:35.500246Z"
    }
   },
   "outputs": [],
   "source": [
    "import heapq\n",
    "class Solution:\n",
    "    def kSmallestPairs(self, nums1, nums2, k: int):\n",
    "        pairs = []\n",
    "        for i in nums1:\n",
    "            for j in nums2:\n",
    "                pair = (-(i+j), [i,j])\n",
    "                if len(pairs) < k:\n",
    "                    heapq.heappush(pairs, pair)\n",
    "                else:\n",
    "                    heapq.heappushpop(pairs, pair)\n",
    "        res = list(zip(*pairs))\n",
    "        return res[1] if res else []"
   ]
  },
  {
   "cell_type": "code",
   "execution_count": 2,
   "metadata": {
    "ExecuteTime": {
     "end_time": "2020-11-11T05:47:23.492111Z",
     "start_time": "2020-11-11T05:47:23.487156Z"
    }
   },
   "outputs": [],
   "source": [
    "class Solution:\n",
    "    \"\"\"\n",
    "    https://leetcode.com/problems/find-k-pairs-with-smallest-sums/discuss/492422/Python-Min-Heap\n",
    "    \"\"\"\n",
    "    def kSmallestPairs(self, nums1, nums2, k):\n",
    "        \n",
    "        if not nums1 or not nums2 or not k: return []\n",
    "        i = j = 0\n",
    "        minHeap = []\n",
    "        \n",
    "        for _ in range(k):\n",
    "            if i < len(nums1) and j < len(nums2):\n",
    "                if nums1[i] <= nums2[j]:\n",
    "                    for x in nums2[j:]: heapq.heappush(minHeap, (nums1[i], x))\n",
    "                    i += 1\n",
    "                else:\n",
    "                    for x in nums1[i:]: heapq.heappush(minHeap, (x, nums2[j]))\n",
    "                    j += 1\n",
    "                    \n",
    "        return heapq.nsmallest(k, minHeap, key = sum)"
   ]
  },
  {
   "cell_type": "code",
   "execution_count": null,
   "metadata": {},
   "outputs": [],
   "source": []
  }
 ],
 "metadata": {
  "kernelspec": {
   "display_name": "Python (data)",
   "language": "python",
   "name": "data"
  },
  "language_info": {
   "codemirror_mode": {
    "name": "ipython",
    "version": 3
   },
   "file_extension": ".py",
   "mimetype": "text/x-python",
   "name": "python",
   "nbconvert_exporter": "python",
   "pygments_lexer": "ipython3",
   "version": "3.8.3"
  }
 },
 "nbformat": 4,
 "nbformat_minor": 4
}
