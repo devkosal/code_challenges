{
 "cells": [
  {
   "cell_type": "markdown",
   "metadata": {},
   "source": [
    "https://leetcode.com/problems/remove-duplicates-from-sorted-list-ii/"
   ]
  },
  {
   "cell_type": "code",
   "execution_count": 1,
   "metadata": {},
   "outputs": [],
   "source": [
    "# Definition for singly-linked list.\n",
    "class ListNode:\n",
    "    def __init__(self, x):\n",
    "        self.val = x\n",
    "        self.next = None\n",
    "\n",
    "class Solution:\n",
    "    def deleteDuplicates(self, head: ListNode) -> ListNode:\n",
    "        if not head: return None\n",
    "        res = None\n",
    "        res_head = None\n",
    "        prev = None\n",
    "        while head:\n",
    "            if head.val == prev:\n",
    "                pass\n",
    "            elif head.next and head.val == head.next.val:\n",
    "                prev = head.val\n",
    "                head = head.next.next\n",
    "                continue\n",
    "            else:\n",
    "                if not res:\n",
    "                    res = ListNode(head.val)\n",
    "                    res_head = res\n",
    "                else:\n",
    "                    res.next = ListNode(head.val)\n",
    "                    res = res.next\n",
    "            head = head.next\n",
    "        return res_head"
   ]
  },
  {
   "cell_type": "code",
   "execution_count": null,
   "metadata": {},
   "outputs": [],
   "source": []
  }
 ],
 "metadata": {
  "kernelspec": {
   "display_name": "Python3 (fastai)",
   "language": "python",
   "name": "fastai"
  },
  "language_info": {
   "codemirror_mode": {
    "name": "ipython",
    "version": 3
   },
   "file_extension": ".py",
   "mimetype": "text/x-python",
   "name": "python",
   "nbconvert_exporter": "python",
   "pygments_lexer": "ipython3",
   "version": "3.7.5"
  }
 },
 "nbformat": 4,
 "nbformat_minor": 2
}
