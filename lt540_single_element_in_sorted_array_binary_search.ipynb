{
 "cells": [
  {
   "cell_type": "markdown",
   "metadata": {},
   "source": [
    "https://leetcode.com/problems/single-element-in-a-sorted-array/"
   ]
  },
  {
   "cell_type": "markdown",
   "metadata": {},
   "source": [
    "```\n",
    "[1,1,2,3,3,4,4,8,8] # 2\n",
    "[3,3,7,7,10,11,11] # 10\n",
    "```"
   ]
  },
  {
   "cell_type": "code",
   "execution_count": 5,
   "metadata": {},
   "outputs": [],
   "source": [
    "from typing import List\n",
    "class Solution:\n",
    "    def singleNonDuplicate(self, nums: List[int]) -> int:\n",
    "        l = len(nums)\n",
    "        if l == 1:\n",
    "            return nums[0]\n",
    "        if l % 2 == 0:\n",
    "            return -1\n",
    "        def helper(low, high):\n",
    "            # base case\n",
    "            if low > high:\n",
    "                return -1\n",
    "            mid = (low+high)//2  \n",
    "            # we only need to see if middle index is even to determine if we need to select left or right subarray\n",
    "            is_mid_even = mid % 2 == 0\n",
    "            left_num = nums[mid-1] if mid > 0 else -float('inf')\n",
    "            right_num = nums[mid+1] if mid < l-1 else float('inf')\n",
    "            mid_num = nums[mid]\n",
    "            if left_num < mid_num < right_num:\n",
    "                return mid_num\n",
    "            if is_mid_even:\n",
    "                if mid_num == left_num:\n",
    "                    high = mid\n",
    "                else:\n",
    "                    low = mid\n",
    "            else:\n",
    "                if mid_num == left_num:\n",
    "                    low = mid\n",
    "                else:\n",
    "                    high = mid\n",
    "            return helper(low, high)\n",
    "        return helper(0, len(nums))"
   ]
  },
  {
   "cell_type": "code",
   "execution_count": 6,
   "metadata": {},
   "outputs": [
    {
     "data": {
      "text/plain": [
       "2"
      ]
     },
     "execution_count": 6,
     "metadata": {},
     "output_type": "execute_result"
    }
   ],
   "source": [
    "Solution().singleNonDuplicate([1,1,2,3,3,4,4,8,8])"
   ]
  },
  {
   "cell_type": "code",
   "execution_count": 4,
   "metadata": {},
   "outputs": [
    {
     "data": {
      "text/plain": [
       "10"
      ]
     },
     "execution_count": 4,
     "metadata": {},
     "output_type": "execute_result"
    }
   ],
   "source": [
    "Solution().singleNonDuplicate([3,3,7,7,10,11,11])"
   ]
  },
  {
   "cell_type": "code",
   "execution_count": null,
   "metadata": {},
   "outputs": [],
   "source": []
  }
 ],
 "metadata": {
  "kernelspec": {
   "display_name": "Python 3",
   "language": "python",
   "name": "python3"
  },
  "language_info": {
   "codemirror_mode": {
    "name": "ipython",
    "version": 3
   },
   "file_extension": ".py",
   "mimetype": "text/x-python",
   "name": "python",
   "nbconvert_exporter": "python",
   "pygments_lexer": "ipython3",
   "version": "3.8.5"
  }
 },
 "nbformat": 4,
 "nbformat_minor": 4
}
