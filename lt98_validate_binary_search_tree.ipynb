{
 "cells": [
  {
   "cell_type": "markdown",
   "metadata": {},
   "source": [
    "https://leetcode.com/problems/validate-binary-search-tree/\n",
    "\n",
    "https://docs.google.com/document/d/1q__2T-MBXXi-oGRWMqtVUCWEoVNRJS_8akoy2_OYy_s/edit#"
   ]
  },
  {
   "cell_type": "markdown",
   "metadata": {},
   "source": [
    "I could not figure out the BST Validator solution by myself but I did figure out how to validate max heaps"
   ]
  },
  {
   "cell_type": "code",
   "execution_count": 3,
   "metadata": {},
   "outputs": [],
   "source": [
    "# actual soltution\n",
    "def isValidBST(root) -> bool:\n",
    "    def helper(node):\n",
    "        if not node:\n",
    "            return float('inf'), float('-inf'), True\n",
    "        min_l, max_l, flag_l = helper(node.left)\n",
    "        min_r, max_r, flag_r = helper(node.right)\n",
    "        if (max_l < node.val < min_r) and flag_l and flag_r:\n",
    "            return min(min_l,node.val), max(max_r,node.val), True\n",
    "        else:\n",
    "            return -1,-1,False\n",
    "    _,_,f = helper(root)\n",
    "    return f\n"
   ]
  },
  {
   "cell_type": "code",
   "execution_count": 5,
   "metadata": {},
   "outputs": [],
   "source": [
    "# max heap validator\n",
    "\n",
    "def isValidMaxHeap(self, root) -> bool:\n",
    "    def helper(root):\n",
    "        if root.left and root.val < root.left.val:\n",
    "            return False\n",
    "        elif root.right and root.val > root.right.val:\n",
    "            return False\n",
    "        else:\n",
    "            return True\n",
    "\n",
    "    return helper(root.left) and helper(root.right)"
   ]
  },
  {
   "cell_type": "code",
   "execution_count": null,
   "metadata": {},
   "outputs": [],
   "source": []
  }
 ],
 "metadata": {
  "kernelspec": {
   "display_name": "Python3 (fastai)",
   "language": "python",
   "name": "fastai"
  },
  "language_info": {
   "codemirror_mode": {
    "name": "ipython",
    "version": 3
   },
   "file_extension": ".py",
   "mimetype": "text/x-python",
   "name": "python",
   "nbconvert_exporter": "python",
   "pygments_lexer": "ipython3",
   "version": "3.7.5"
  }
 },
 "nbformat": 4,
 "nbformat_minor": 2
}
