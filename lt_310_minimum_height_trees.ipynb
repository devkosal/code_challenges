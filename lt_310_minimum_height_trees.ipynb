{
 "cells": [
  {
   "cell_type": "markdown",
   "metadata": {},
   "source": [
    "https://leetcode.com/problems/minimum-height-trees/"
   ]
  },
  {
   "cell_type": "markdown",
   "metadata": {},
   "source": [
    "https://www.youtube.com/watch?v=Bl9l5cUgTnQ&t=517s"
   ]
  },
  {
   "cell_type": "code",
   "execution_count": 79,
   "metadata": {},
   "outputs": [],
   "source": [
    "# implementation from video\n",
    "\n",
    "def findMinHeightTrees(n, edges):\n",
    "    if n == 1:\n",
    "        return [0]\n",
    "    adj = [set() for _ in range(n)]\n",
    "    for u, v in edges:\n",
    "        adj[u].add(v)\n",
    "        adj[v].add(u)\n",
    "    print(\"adj\",adj)\n",
    "    leaves = [i for i in range(n) if len(adj[i]) == 1]\n",
    "    print(\"leaves\",leaves)\n",
    "    while n > 2:\n",
    "        n -= len(leaves)\n",
    "        new_leaves = []\n",
    "        for leaf in leaves:\n",
    "            print(leaf)\n",
    "            print(\"before pop\",adj[leaf])\n",
    "            j = adj[leaf].pop()\n",
    "            print(\"j\",j)\n",
    "            print(\"after pop\",adj[leaf])\n",
    "            print(\"before remove\",adj[j])\n",
    "            adj[j].remove(leaf)\n",
    "            print(\"after remove\",adj[j])\n",
    "            print(\"adj\",adj)\n",
    "            if len(adj[j]) == 1:\n",
    "                new_leaves.append(j)\n",
    "        leaves = new_leaves\n",
    "        print(\"new leaves\",leaves)\n",
    "\n",
    "    return leaves"
   ]
  },
  {
   "cell_type": "code",
   "execution_count": 80,
   "metadata": {
    "scrolled": true
   },
   "outputs": [
    {
     "name": "stdout",
     "output_type": "stream",
     "text": [
      "adj [{3}, {3}, {3}, {0, 1, 2, 4}, {3, 5}, {4}]\n",
      "leaves [0, 1, 2, 5]\n",
      "0\n",
      "before pop {3}\n",
      "j 3\n",
      "after pop set()\n",
      "before remove {0, 1, 2, 4}\n",
      "after remove {1, 2, 4}\n",
      "adj [set(), {3}, {3}, {1, 2, 4}, {3, 5}, {4}]\n",
      "1\n",
      "before pop {3}\n",
      "j 3\n",
      "after pop set()\n",
      "before remove {1, 2, 4}\n",
      "after remove {2, 4}\n",
      "adj [set(), set(), {3}, {2, 4}, {3, 5}, {4}]\n",
      "2\n",
      "before pop {3}\n",
      "j 3\n",
      "after pop set()\n",
      "before remove {2, 4}\n",
      "after remove {4}\n",
      "adj [set(), set(), set(), {4}, {3, 5}, {4}]\n",
      "5\n",
      "before pop {4}\n",
      "j 4\n",
      "after pop set()\n",
      "before remove {3, 5}\n",
      "after remove {3}\n",
      "adj [set(), set(), set(), {4}, {3}, set()]\n",
      "new leaves [3, 4]\n"
     ]
    },
    {
     "data": {
      "text/plain": [
       "[3, 4]"
      ]
     },
     "execution_count": 80,
     "metadata": {},
     "output_type": "execute_result"
    }
   ],
   "source": [
    "findMinHeightTrees(6,\\\n",
    "[[0, 3], [1, 3], [2, 3], [4, 3], [5, 4]]) # [3,4]"
   ]
  },
  {
   "cell_type": "code",
   "execution_count": 76,
   "metadata": {},
   "outputs": [],
   "source": [
    "# my copy implementation\n",
    "def findMinHeightTrees(n, edges):\n",
    "    \"\"\"\n",
    "    key idea is to keep remove leaves until we reach the 1-2 center nodes which have the shortest distance to all other nodes\n",
    "    this would be different if our tree wasn't unidirected \n",
    "    \"\"\"\n",
    "    if n < 2: return [0]\n",
    "    adj = [set() for _ in range(n)] # creating adjacency graph which contain information on all adjacent nodes for a single node \n",
    "    for x,y in edges:\n",
    "        adj[x].add(y)\n",
    "        adj[y].add(x)\n",
    "    # leaves will always have adjcent nodes count to be 1 (since we are in a unidrected graph)\n",
    "    leaves = [i for i in range(n) if len(adj[i]) == 1]\n",
    "    while n > 2:\n",
    "        n -= len(leaves) # subtracting the length of leaves bc we are rremoving those nodes\n",
    "        new_leaves = []\n",
    "        for leaf in leaves:\n",
    "            k = adj[leaf].pop() # remove the leaf from the adj index (so it is an empty set)\n",
    "            adj[k].remove(leaf) # remove the leaf from its linked root node (there will only ever be one linked node since this is a leaf)\n",
    "            if len(adj[k]) == 1: # if the length of the linked node is 1, it is now a leaf, add it to our leaves\n",
    "                new_leaves.append(k)\n",
    "        leaves = new_leaves\n",
    "    return leaves"
   ]
  },
  {
   "cell_type": "code",
   "execution_count": 77,
   "metadata": {},
   "outputs": [
    {
     "data": {
      "text/plain": [
       "[3, 4]"
      ]
     },
     "execution_count": 77,
     "metadata": {},
     "output_type": "execute_result"
    }
   ],
   "source": [
    "findMinHeightTrees(6,\\\n",
    "[[0, 3], [1, 3], [2, 3], [4, 3], [5, 4]]) # [3,4]"
   ]
  }
 ],
 "metadata": {
  "kernelspec": {
   "display_name": "Python3 (fastai)",
   "language": "python",
   "name": "fastai"
  },
  "language_info": {
   "codemirror_mode": {
    "name": "ipython",
    "version": 3
   },
   "file_extension": ".py",
   "mimetype": "text/x-python",
   "name": "python",
   "nbconvert_exporter": "python",
   "pygments_lexer": "ipython3",
   "version": "3.7.5"
  }
 },
 "nbformat": 4,
 "nbformat_minor": 2
}
