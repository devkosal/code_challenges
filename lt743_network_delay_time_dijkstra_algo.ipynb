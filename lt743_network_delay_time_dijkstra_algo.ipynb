{
 "cells": [
  {
   "cell_type": "code",
   "execution_count": 39,
   "metadata": {},
   "outputs": [],
   "source": [
    "import heapq\n",
    "def networkDelayTime(times, N: int, K: int) -> int:\n",
    "    \"\"\"\n",
    "    times = nodes and edges\n",
    "    N = # of nodes from 1 to N\n",
    "    K = the starting node \n",
    "    \"\"\"\n",
    "    dists = [float('inf') for _ in range(0,N)] \n",
    "    visited = []\n",
    "    cons = [[] for _ in range(0,N)]\n",
    "\n",
    "    for u,v,w in times:\n",
    "        cons[u-1].append((w,v-1))\n",
    "\n",
    "    visited = []\n",
    "    hp = [(0,K-1)]\n",
    "\n",
    "    dists[K-1] = 0\n",
    "\n",
    "    while hp:\n",
    "        cur_dist, cur_node = heapq.heappop(hp)\n",
    "        visited.append(cur_node)\n",
    "        for dist, n in cons[cur_node]:\n",
    "            if n in visited:\n",
    "                continue\n",
    "            total_dist = cur_dist + dist\n",
    "            if total_dist < dists[n]:\n",
    "                dists[n] = total_dist\n",
    "                heapq.heappush(hp,(total_dist,n))\n",
    "\n",
    "    res = max(dists)\n",
    "    return -1 if res == float('inf') else res"
   ]
  },
  {
   "cell_type": "code",
   "execution_count": 42,
   "metadata": {},
   "outputs": [
    {
     "data": {
      "text/plain": [
       "2"
      ]
     },
     "execution_count": 42,
     "metadata": {},
     "output_type": "execute_result"
    }
   ],
   "source": [
    "times = [[2,1,1],[2,3,1],[3,4,1]]\n",
    "N = 4\n",
    "K = 2\n",
    "\n",
    "networkDelayTime(times,N,K)"
   ]
  },
  {
   "cell_type": "code",
   "execution_count": 43,
   "metadata": {},
   "outputs": [],
   "source": [
    "# Solution 2 (faster since we exit the while loop early)\n",
    "def networkDelayTime(times, N: int, K: int) -> int:\n",
    "    \"\"\"\n",
    "    times = nodes and edges\n",
    "    N = # of nodes from 1 to N\n",
    "    K = the starting node\n",
    "    \"\"\"\n",
    "    dists = [float('inf')] * N\n",
    "    cons = [[] for _ in range(0,N)]\n",
    "\n",
    "    for u,v,w in times:\n",
    "        cons[u-1].append((w,v-1))\n",
    "\n",
    "    hp = [(0,K-1)]\n",
    "    dists[K-1] = 0\n",
    "\n",
    "    while hp:\n",
    "        cur_dist, cur_node = heapq.heappop(hp)\n",
    "        if cur_dist > dists[cur_node]:\n",
    "            continue\n",
    "        for dist, n in cons[cur_node]:\n",
    "            total_dist = cur_dist + dist\n",
    "            if total_dist < dists[n]:\n",
    "                dists[n] = total_dist\n",
    "                heapq.heappush(hp,(total_dist,n))\n",
    "\n",
    "    res = max(dists)\n",
    "    return -1 if res == float('inf') else res"
   ]
  },
  {
   "cell_type": "code",
   "execution_count": 44,
   "metadata": {},
   "outputs": [
    {
     "data": {
      "text/plain": [
       "2"
      ]
     },
     "execution_count": 44,
     "metadata": {},
     "output_type": "execute_result"
    }
   ],
   "source": [
    "times = [[2,1,1],[2,3,1],[3,4,1]]\n",
    "N = 4\n",
    "K = 2\n",
    "\n",
    "networkDelayTime(times,N,K)"
   ]
  },
  {
   "cell_type": "code",
   "execution_count": null,
   "metadata": {},
   "outputs": [],
   "source": []
  }
 ],
 "metadata": {
  "kernelspec": {
   "display_name": "Python3 (fastai)",
   "language": "python",
   "name": "fastai"
  },
  "language_info": {
   "codemirror_mode": {
    "name": "ipython",
    "version": 3
   },
   "file_extension": ".py",
   "mimetype": "text/x-python",
   "name": "python",
   "nbconvert_exporter": "python",
   "pygments_lexer": "ipython3",
   "version": "3.7.5"
  }
 },
 "nbformat": 4,
 "nbformat_minor": 2
}
