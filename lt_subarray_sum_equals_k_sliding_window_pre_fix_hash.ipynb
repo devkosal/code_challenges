{
 "cells": [
  {
   "cell_type": "markdown",
   "metadata": {},
   "source": [
    "https://leetcode.com/problems/subarray-sum-equals-k/"
   ]
  },
  {
   "cell_type": "markdown",
   "metadata": {},
   "source": [
    "Other solutions: https://leetcode.com/problems/subarray-sum-equals-k/discuss/503178/Python5-Approaches-easy-to-understand-with-detailed-explanations"
   ]
  },
  {
   "cell_type": "code",
   "execution_count": 4,
   "metadata": {
    "ExecuteTime": {
     "end_time": "2020-09-12T19:05:07.152269Z",
     "start_time": "2020-09-12T19:05:07.148381Z"
    }
   },
   "outputs": [],
   "source": [
    "# Brute force (time limit in leetcode is exceeded)\n",
    "\n",
    "def subarraySum(nums, k: int) -> int:\n",
    "    cnt = 0\n",
    "    for i in range(len(nums)):\n",
    "        for j in range(i+1,len(nums)+1):\n",
    "            if sum(nums[i:j]) == k:\n",
    "                cnt += 1\n",
    "    return cnt\n"
   ]
  },
  {
   "cell_type": "code",
   "execution_count": 5,
   "metadata": {
    "ExecuteTime": {
     "end_time": "2020-09-12T19:05:07.307144Z",
     "start_time": "2020-09-12T19:05:07.297815Z"
    }
   },
   "outputs": [
    {
     "data": {
      "text/plain": [
       "2"
      ]
     },
     "execution_count": 5,
     "metadata": {},
     "output_type": "execute_result"
    }
   ],
   "source": [
    "subarraySum([1,1,1],2)"
   ]
  },
  {
   "cell_type": "markdown",
   "metadata": {},
   "source": [
    "Note: this solution only works for an array (nums) of positive numbers. "
   ]
  },
  {
   "cell_type": "code",
   "execution_count": 1,
   "metadata": {
    "ExecuteTime": {
     "end_time": "2020-09-12T18:54:28.238368Z",
     "start_time": "2020-09-12T18:54:28.230983Z"
    }
   },
   "outputs": [],
   "source": [
    "\n",
    "# Sliding Window\n",
    "class Solution:\n",
    "    def subarraySum(self, nums, k: int) -> int:\n",
    "        def isneg(x):\n",
    "            return abs(x)!=x\n",
    "        n = len(nums)\n",
    "        l,r = 0,0\n",
    "        res = 0\n",
    "        rs = 0\n",
    "        while l < n:\n",
    "            keep_going = False\n",
    "            while rs <= k or keep_going:\n",
    "                if r >= n:\n",
    "                    break\n",
    "                rs += nums[r]\n",
    "                if isneg(nums[r]):\n",
    "                    keep_going = True\n",
    "                r+=1\n",
    "                print(\"right\",rs,nums[l:r])\n",
    "                if rs == k and r-l > 0:\n",
    "                    res += 1\n",
    "            while r >= n or rs >= k:\n",
    "                if l>=n:\n",
    "                    break\n",
    "                rs -= nums[l]\n",
    "                l+=1\n",
    "                print(\"left\",rs,nums[l:r])\n",
    "                if rs == k and r-l > 0:\n",
    "                    res+=1\n",
    "        return res"
   ]
  },
  {
   "cell_type": "code",
   "execution_count": null,
   "metadata": {},
   "outputs": [],
   "source": []
  }
 ],
 "metadata": {
  "kernelspec": {
   "display_name": "Python (data)",
   "language": "python",
   "name": "data"
  },
  "language_info": {
   "codemirror_mode": {
    "name": "ipython",
    "version": 3
   },
   "file_extension": ".py",
   "mimetype": "text/x-python",
   "name": "python",
   "nbconvert_exporter": "python",
   "pygments_lexer": "ipython3",
   "version": "3.8.3"
  }
 },
 "nbformat": 4,
 "nbformat_minor": 4
}
