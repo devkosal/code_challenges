{
 "cells": [
  {
   "cell_type": "markdown",
   "metadata": {},
   "source": []
  },
  {
   "cell_type": "code",
   "execution_count": 1,
   "metadata": {
    "ExecuteTime": {
     "end_time": "2020-09-14T04:59:06.749417Z",
     "start_time": "2020-09-14T04:59:06.746911Z"
    }
   },
   "outputs": [],
   "source": [
    "import re"
   ]
  },
  {
   "cell_type": "code",
   "execution_count": 34,
   "metadata": {
    "ExecuteTime": {
     "end_time": "2020-09-14T05:20:17.714813Z",
     "start_time": "2020-09-14T05:20:17.710448Z"
    }
   },
   "outputs": [],
   "source": [
    "import string\n",
    "import re\n",
    "# string.ascii_lowercase:\n",
    "class Solution:\n",
    "    def reverseOnlyLetters(self, S: str) -> str:\n",
    "        words = list(\"\".join(re.findall(\"([A-Za-z]+)\",S)))\n",
    "        S = list(S)\n",
    "        for i,s in enumerate(S):\n",
    "            if s.lower() in string.ascii_lowercase:\n",
    "                S[i] = words.pop()\n",
    "        return \"\".join(S)"
   ]
  },
  {
   "cell_type": "code",
   "execution_count": null,
   "metadata": {},
   "outputs": [],
   "source": []
  }
 ],
 "metadata": {
  "kernelspec": {
   "display_name": "Python (data)",
   "language": "python",
   "name": "data"
  },
  "language_info": {
   "codemirror_mode": {
    "name": "ipython",
    "version": 3
   },
   "file_extension": ".py",
   "mimetype": "text/x-python",
   "name": "python",
   "nbconvert_exporter": "python",
   "pygments_lexer": "ipython3",
   "version": "3.8.3"
  }
 },
 "nbformat": 4,
 "nbformat_minor": 4
}
