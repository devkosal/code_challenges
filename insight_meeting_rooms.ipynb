{
 "cells": [
  {
   "cell_type": "markdown",
   "metadata": {},
   "source": [
    "Leetcode 253. Meeting rooms II (it is locked behind a paywall unfortunately) \n",
    "\n",
    "https://leetcode.com/problems/meeting-rooms-ii/\n"
   ]
  },
  {
   "cell_type": "markdown",
   "metadata": {},
   "source": [
    "Problem: Given a list of lists, each sub list represents a start and end time of a meeting. Given a list of all meeting times, what is the minimum number of rooms required to accommodate all meetings?\n",
    "\n",
    "Assume there will always be at least one meeting\n",
    "\n",
    "e.g.\n",
    "\n",
    "[[0,30],[10,15],[20,25]] -> 2\n",
    "\n",
    "*Problem was introduced by Jason*"
   ]
  },
  {
   "cell_type": "code",
   "execution_count": 10,
   "metadata": {},
   "outputs": [],
   "source": [
    "\n",
    "from heapq import heappush, heappop\n",
    "\n",
    "\n",
    "def meeting_room(times):\n",
    "    \"\"\"\n",
    "    intervals = [[0,30],[10,15],[20,25]]\n",
    "    \"\"\"\n",
    "    times = sorted(times, key = lambda x: x[0])\n",
    "    heap = []\n",
    "    num_rooms = 1\n",
    "    heappush(heap,times[0][1])\n",
    "    for s,e in times:\n",
    "        print(heap)\n",
    "        if s < heap[0]:\n",
    "            print(\"f\")\n",
    "            num_rooms += 1\n",
    "            heappop(heap)\n",
    "        heappush(heap, e)\n",
    "    return num_rooms"
   ]
  },
  {
   "cell_type": "code",
   "execution_count": 11,
   "metadata": {},
   "outputs": [
    {
     "name": "stdout",
     "output_type": "stream",
     "text": [
      "[30]\n",
      "f\n",
      "[30]\n",
      "f\n",
      "my answer: 3\n"
     ]
    }
   ],
   "source": [
    "# intervals = [[1,4], [5,6], [8,9], [2,6], [3,6], [12, 14], [10, 13], [8, 11]]\n",
    "intervals = [[0,30],[10,15]]\n",
    "print(\"my answer:\",meeting_room(intervals))"
   ]
  },
  {
   "cell_type": "code",
   "execution_count": 9,
   "metadata": {},
   "outputs": [
    {
     "name": "stdout",
     "output_type": "stream",
     "text": [
      "[30]\n",
      "2\n"
     ]
    }
   ],
   "source": [
    "# someone else's working solution\n",
    "\n",
    "sorted(intervals, key = lambda i:i[0])\n",
    "minHeap = []\n",
    "heappush(minHeap, intervals[0][1])\n",
    "for i in range(1, len(intervals)):\n",
    "    print(minHeap)\n",
    "    if intervals[i][0] >= minHeap[0]:\n",
    "        heappop(minHeap)\n",
    "    heappush(minHeap, intervals[i][1])\n",
    "\n",
    "print (len(minHeap))"
   ]
  },
  {
   "cell_type": "code",
   "execution_count": null,
   "metadata": {},
   "outputs": [],
   "source": []
  }
 ],
 "metadata": {
  "kernelspec": {
   "display_name": "Python3 (fastai)",
   "language": "python",
   "name": "fastai"
  },
  "language_info": {
   "codemirror_mode": {
    "name": "ipython",
    "version": 3
   },
   "file_extension": ".py",
   "mimetype": "text/x-python",
   "name": "python",
   "nbconvert_exporter": "python",
   "pygments_lexer": "ipython3",
   "version": "3.7.5"
  }
 },
 "nbformat": 4,
 "nbformat_minor": 2
}
