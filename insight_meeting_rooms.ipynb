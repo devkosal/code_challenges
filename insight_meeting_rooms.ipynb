{
 "cells": [
  {
   "cell_type": "markdown",
   "metadata": {},
   "source": [
    "Leetcode 253. Meeting rooms II (it is locked behind a paywall unfortunately) \n",
    "\n",
    "https://leetcode.com/problems/meeting-rooms-ii/\n"
   ]
  },
  {
   "cell_type": "markdown",
   "metadata": {},
   "source": [
    "Problem: Given a list of lists, each sub list represents a start and end time of a meeting. Given a list of all meeting times, what is the minimum number of rooms required to accommodate all meetings?\n",
    "\n",
    "Assume there will always be at least one meeting\n",
    "\n",
    "e.g.\n",
    "\n",
    "[[0,30],[10,15],[20,25]] -> 2\n",
    "\n",
    "*Problem was introduced by Jason*"
   ]
  },
  {
   "cell_type": "markdown",
   "metadata": {},
   "source": [
    "Also see: `code_challenges/ed_intervals.ipynb`"
   ]
  },
  {
   "cell_type": "code",
   "execution_count": 29,
   "metadata": {},
   "outputs": [],
   "source": [
    "from heapq import heappush, heappop\n",
    "\n",
    "def meeting_room(times):\n",
    "    \"\"\"\n",
    "    intervals = [[0,30],[10,15],[20,25]]\n",
    "    \"\"\"\n",
    "    times = sorted(times, key = lambda x: x[0])\n",
    "    heap = []\n",
    "    heappush(heap,times[0][1])\n",
    "    for s,e in times[1:]:\n",
    "        if s >= heap[0]:\n",
    "            heappop(heap)\n",
    "        heappush(heap, e)\n",
    "    return len(heap)"
   ]
  },
  {
   "cell_type": "code",
   "execution_count": 30,
   "metadata": {},
   "outputs": [
    {
     "name": "stdout",
     "output_type": "stream",
     "text": [
      "my answer: 3\n"
     ]
    }
   ],
   "source": [
    "intervals = [[1,4], [5,6], [8,9], [2,6], [3,6], [12, 14], [10, 13], [8, 11]] # 3\n",
    "# intervals = [[0,30],[10,15]] # 2\n",
    "print(\"my answer:\",meeting_room(intervals))"
   ]
  },
  {
   "cell_type": "code",
   "execution_count": 33,
   "metadata": {},
   "outputs": [],
   "source": [
    "# someone else's working solution\n",
    "def min_meeting_rooms(intervals):\n",
    "    intervals = sorted(intervals, key = lambda i:i[0])\n",
    "    minHeap = []\n",
    "    heappush(minHeap, intervals[0][1])\n",
    "    for i in range(1, len(intervals)):\n",
    "        if intervals[i][0] >= minHeap[0]:\n",
    "            heappop(minHeap)\n",
    "        heappush(minHeap, intervals[i][1])\n",
    "\n",
    "    return len(minHeap)"
   ]
  },
  {
   "cell_type": "code",
   "execution_count": 32,
   "metadata": {},
   "outputs": [
    {
     "name": "stdout",
     "output_type": "stream",
     "text": [
      "[[1, 4], [2, 6], [3, 6], [5, 6], [8, 9], [8, 11], [10, 13], [12, 14]]\n"
     ]
    },
    {
     "data": {
      "text/plain": [
       "3"
      ]
     },
     "execution_count": 32,
     "metadata": {},
     "output_type": "execute_result"
    }
   ],
   "source": [
    "min_meeting_rooms(intervals)"
   ]
  },
  {
   "cell_type": "code",
   "execution_count": null,
   "metadata": {},
   "outputs": [],
   "source": []
  }
 ],
 "metadata": {
  "kernelspec": {
   "display_name": "Python 3",
   "language": "python",
   "name": "python3"
  },
  "language_info": {
   "codemirror_mode": {
    "name": "ipython",
    "version": 3
   },
   "file_extension": ".py",
   "mimetype": "text/x-python",
   "name": "python",
   "nbconvert_exporter": "python",
   "pygments_lexer": "ipython3",
   "version": "3.9.2"
  }
 },
 "nbformat": 4,
 "nbformat_minor": 2
}
