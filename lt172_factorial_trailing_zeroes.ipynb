{
 "cells": [
  {
   "cell_type": "markdown",
   "metadata": {},
   "source": [
    "https://leetcode.com/problems/factorial-trailing-zeroes/"
   ]
  },
  {
   "cell_type": "code",
   "execution_count": 2,
   "metadata": {
    "ExecuteTime": {
     "end_time": "2020-09-13T21:46:44.100416Z",
     "start_time": "2020-09-13T21:46:44.097068Z"
    }
   },
   "outputs": [],
   "source": [
    "# Effecient solution\n",
    "class Solution:\n",
    "    def trailingZeroes(self, n: int) -> int:\n",
    "        f = 0\n",
    "        x = 5\n",
    "        while n >= x:\n",
    "            f += n//x\n",
    "            x*=5\n",
    "        return f if n else 0\n",
    "        "
   ]
  },
  {
   "cell_type": "markdown",
   "metadata": {},
   "source": [
    "Explanation: \n",
    "\n",
    "To know # of trailing zeroes, you just the minimum of the prime factoes 2 and 5. NFR\n",
    "\n",
    "I initially tried this by taking the minimum of the number of times either 2 or 5 divide into n. Next, I took ONLY 5 since # of 5's will be always have less than # of 2's because we are taking factorials. Next, I learned that I also needed to account for numbers which are divisible by 5 multiple times. Lastly, to get this to work, I needed to add in not only how many times 5 divides into n but also each of 5's powers which are less than n. "
   ]
  },
  {
   "cell_type": "markdown",
   "metadata": {},
   "source": [
    "# Try 1"
   ]
  },
  {
   "cell_type": "code",
   "execution_count": null,
   "metadata": {},
   "outputs": [],
   "source": [
    "class Solution:\n",
    "    def trailingZeroes(self, n: int) -> int:\n",
    "        f = n//5\n",
    "        x = 2\n",
    "        while n >= 5**x:\n",
    "            f+=x-1 # why this doesn't work\n",
    "            x+=1\n",
    "            print(5**x,x)\n",
    "        print(f)\n",
    "        return f if n else 1"
   ]
  },
  {
   "cell_type": "markdown",
   "metadata": {},
   "source": [
    "# Try 2 (works)"
   ]
  },
  {
   "cell_type": "code",
   "execution_count": null,
   "metadata": {},
   "outputs": [],
   "source": [
    "class Solution:\n",
    "    def trailingZeroes(self, n: int) -> int:\n",
    "        f = n//5\n",
    "        x = 2\n",
    "        while n >= 5**x:\n",
    "            print(n//5**x)\n",
    "            f+=n//5**x # difference maker\n",
    "            x+=1\n",
    "            print(5**x,x)\n",
    "        print(f)\n",
    "        return f if n else 1"
   ]
  }
 ],
 "metadata": {
  "kernelspec": {
   "display_name": "Python (data)",
   "language": "python",
   "name": "data"
  },
  "language_info": {
   "codemirror_mode": {
    "name": "ipython",
    "version": 3
   },
   "file_extension": ".py",
   "mimetype": "text/x-python",
   "name": "python",
   "nbconvert_exporter": "python",
   "pygments_lexer": "ipython3",
   "version": "3.8.3"
  }
 },
 "nbformat": 4,
 "nbformat_minor": 4
}
