{
 "cells": [
  {
   "cell_type": "markdown",
   "metadata": {},
   "source": [
    "https://leetcode.com/problems/two-sum/"
   ]
  },
  {
   "cell_type": "code",
   "execution_count": 15,
   "metadata": {
    "ExecuteTime": {
     "end_time": "2019-12-03T23:25:42.926544Z",
     "start_time": "2019-12-03T23:25:42.922879Z"
    }
   },
   "outputs": [],
   "source": [
    "def twoSum(nums, target):\n",
    "    l = len(nums)\n",
    "    return [[x,y] for x in range(l) for y in range(x+1,l) if x+y == target][0]"
   ]
  },
  {
   "cell_type": "code",
   "execution_count": 16,
   "metadata": {
    "ExecuteTime": {
     "end_time": "2019-12-03T23:25:43.016561Z",
     "start_time": "2019-12-03T23:25:43.012317Z"
    }
   },
   "outputs": [
    {
     "data": {
      "text/plain": [
       "[2, 3]"
      ]
     },
     "execution_count": 16,
     "metadata": {},
     "output_type": "execute_result"
    }
   ],
   "source": [
    "twoSum([1,2,3,4],5)"
   ]
  },
  {
   "cell_type": "code",
   "execution_count": 1,
   "metadata": {
    "ExecuteTime": {
     "end_time": "2019-12-04T15:14:20.107390Z",
     "start_time": "2019-12-04T15:14:20.101800Z"
    }
   },
   "outputs": [],
   "source": [
    "# https://leetcode.com/problems/two-sum/discuss/439010/Python3-solution-using-dictionary-95.47\n",
    "def twoSum(nums, target):\n",
    "    nums_dict = {}\n",
    "    for idx, num in enumerate(nums):\n",
    "        if num not in nums_dict.keys():\n",
    "            nums_dict[num] = [idx]\n",
    "        else:\n",
    "            nums_dict[num].append(idx)\n",
    "\n",
    "        for num in nums:\n",
    "            diff = target - num\n",
    "            if diff in nums_dict.keys():\n",
    "                if len(nums_dict[diff]) > 1:\n",
    "                    return [nums_dict[diff][0], nums_dict[diff][1]]\n",
    "\n",
    "                if nums_dict[diff] != nums_dict[num]:\n",
    "                    return [nums_dict[num][0], nums_dict[diff][0]]"
   ]
  },
  {
   "cell_type": "code",
   "execution_count": null,
   "metadata": {},
   "outputs": [],
   "source": []
  },
  {
   "cell_type": "markdown",
   "metadata": {},
   "source": [
    "# variation which looks for the closest value\n"
   ]
  },
  {
   "cell_type": "code",
   "execution_count": 31,
   "metadata": {
    "ExecuteTime": {
     "end_time": "2019-12-03T23:41:55.461465Z",
     "start_time": "2019-12-03T23:41:55.455640Z"
    }
   },
   "outputs": [],
   "source": [
    "def twoSum(nums, target):\n",
    "    def _closest_num(lis, x):\n",
    "        closest,diff = 0, float('inf')\n",
    "        for i in lis:\n",
    "            new_diff = abs(x - i)\n",
    "            if new_diff < diff: closest,diff = i,new_diff\n",
    "        return closest\n",
    "    l = len(nums)\n",
    "    results = {}\n",
    "    for x in range(len(nums)):\n",
    "        for y in range(x+1,len(nums)):\n",
    "            results[nums[x]+nums[y]] = [x,y]\n",
    "    return results[_closest_num(results.keys(),target)]"
   ]
  },
  {
   "cell_type": "code",
   "execution_count": 34,
   "metadata": {
    "ExecuteTime": {
     "end_time": "2019-12-03T23:44:58.733712Z",
     "start_time": "2019-12-03T23:44:58.728800Z"
    }
   },
   "outputs": [
    {
     "data": {
      "text/plain": [
       "[3, 5]"
      ]
     },
     "execution_count": 34,
     "metadata": {},
     "output_type": "execute_result"
    }
   ],
   "source": [
    "twoSum([4,5,87,3,90,33,17],23)\n",
    "twoSum([4,0,0,0,18,22],23)"
   ]
  },
  {
   "cell_type": "code",
   "execution_count": null,
   "metadata": {},
   "outputs": [],
   "source": [
    "# new solution 02.11.2020\n",
    "def twoSum(self, nums, target):\n",
    "    d = {}\n",
    "    for i,num in enumerate(nums):\n",
    "        diff = target - num\n",
    "        if num not in d:\n",
    "            d[diff] = i\n",
    "        else:\n",
    "            return [d[num],i]"
   ]
  }
 ],
 "metadata": {
  "kernelspec": {
   "display_name": "Python 3",
   "language": "python",
   "name": "python3"
  },
  "language_info": {
   "codemirror_mode": {
    "name": "ipython",
    "version": 3
   },
   "file_extension": ".py",
   "mimetype": "text/x-python",
   "name": "python",
   "nbconvert_exporter": "python",
   "pygments_lexer": "ipython3",
   "version": "3.7.5"
  },
  "varInspector": {
   "cols": {
    "lenName": 16,
    "lenType": 16,
    "lenVar": 40
   },
   "kernels_config": {
    "python": {
     "delete_cmd_postfix": "",
     "delete_cmd_prefix": "del ",
     "library": "var_list.py",
     "varRefreshCmd": "print(var_dic_list())"
    },
    "r": {
     "delete_cmd_postfix": ") ",
     "delete_cmd_prefix": "rm(",
     "library": "var_list.r",
     "varRefreshCmd": "cat(var_dic_list()) "
    }
   },
   "types_to_exclude": [
    "module",
    "function",
    "builtin_function_or_method",
    "instance",
    "_Feature"
   ],
   "window_display": false
  }
 },
 "nbformat": 4,
 "nbformat_minor": 2
}
