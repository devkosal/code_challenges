{
 "cells": [
  {
   "cell_type": "code",
   "execution_count": 2,
   "metadata": {
    "ExecuteTime": {
     "end_time": "2020-09-11T06:01:13.070514Z",
     "start_time": "2020-09-11T06:01:13.065954Z"
    }
   },
   "outputs": [],
   "source": [
    "class Solution:\n",
    "    def largeGroupPositions(self, s: str):\n",
    "        res = []\n",
    "        st = 0\n",
    "        for i in range(1,len(s)):\n",
    "            en = i - 1\n",
    "            match = s[i] == s[en]\n",
    "            last = i == len(s)-1\n",
    "            if not match or last:\n",
    "                if match and last:\n",
    "                    en += 1\n",
    "                if en-st >= 2:\n",
    "                    res.append([st,en])\n",
    "                st = i\n",
    "        return res\n",
    "            "
   ]
  },
  {
   "cell_type": "code",
   "execution_count": null,
   "metadata": {},
   "outputs": [],
   "source": []
  }
 ],
 "metadata": {
  "kernelspec": {
   "display_name": "Python (data)",
   "language": "python",
   "name": "data"
  },
  "language_info": {
   "codemirror_mode": {
    "name": "ipython",
    "version": 3
   },
   "file_extension": ".py",
   "mimetype": "text/x-python",
   "name": "python",
   "nbconvert_exporter": "python",
   "pygments_lexer": "ipython3",
   "version": "3.8.3"
  }
 },
 "nbformat": 4,
 "nbformat_minor": 4
}
