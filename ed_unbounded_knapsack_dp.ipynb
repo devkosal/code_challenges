{
 "cells": [
  {
   "cell_type": "markdown",
   "metadata": {},
   "source": [
    "Given two integer arrays to represent weights and profits of ‘N’ items, we need to find a subset of these items which will give us maximum profit such that their cumulative weight is not more than a given number ‘C’. We can assume an infinite supply of item quantities; therefore, each item can be selected multiple times."
   ]
  },
  {
   "cell_type": "code",
   "execution_count": 74,
   "metadata": {
    "ExecuteTime": {
     "end_time": "2020-12-06T20:17:10.822165Z",
     "start_time": "2020-12-06T20:17:10.818824Z"
    }
   },
   "outputs": [],
   "source": [
    "def uk(profits, weights, capacity):\n",
    "    lp = len(profits)\n",
    "    def ukr(c, i):\n",
    "        if c <= 0 or i >= lp:\n",
    "            return 0\n",
    "        check0 = 0\n",
    "        if weights[i] <= c:\n",
    "            check0 = profits[i] + ukr(c - weights[i], i)\n",
    "        check1 = ukr(c, i+1) \n",
    "        return max(check0, check1)\n",
    "    return ukr(capacity, 0)"
   ]
  },
  {
   "cell_type": "code",
   "execution_count": 75,
   "metadata": {
    "ExecuteTime": {
     "end_time": "2020-12-06T20:17:11.082361Z",
     "start_time": "2020-12-06T20:17:11.077665Z"
    }
   },
   "outputs": [
    {
     "data": {
      "text/plain": [
       "140"
      ]
     },
     "execution_count": 75,
     "metadata": {},
     "output_type": "execute_result"
    }
   ],
   "source": [
    "uk([15, 50, 60, 90], [1, 3, 4, 5], 8) # 140"
   ]
  },
  {
   "cell_type": "code",
   "execution_count": 78,
   "metadata": {
    "ExecuteTime": {
     "end_time": "2020-12-06T20:31:17.709151Z",
     "start_time": "2020-12-06T20:31:17.704858Z"
    }
   },
   "outputs": [],
   "source": [
    "def uk(profits, weights, capacity):\n",
    "    \"\"\"memoization\"\"\"\n",
    "    lp = len(profits)\n",
    "    dp = [[-1 for _ in range(capacity+1)] for _ in range(lp)]\n",
    "    def ukr(c, i):\n",
    "        if c <= 0 or i >= lp:\n",
    "            return 0\n",
    "        # if not already visited\n",
    "        if dp[i][c] == -1:\n",
    "            check0 = 0\n",
    "            if weights[i] <= c:\n",
    "                check0 = profits[i] + ukr(c - weights[i], i)\n",
    "            check1 = ukr(c, i+1) \n",
    "            dp[i][c] = max(check0, check1)\n",
    "        return dp[i][c]\n",
    "    return ukr(capacity, 0)"
   ]
  },
  {
   "cell_type": "code",
   "execution_count": 79,
   "metadata": {
    "ExecuteTime": {
     "end_time": "2020-12-06T20:31:17.978800Z",
     "start_time": "2020-12-06T20:31:17.974877Z"
    }
   },
   "outputs": [
    {
     "data": {
      "text/plain": [
       "140"
      ]
     },
     "execution_count": 79,
     "metadata": {},
     "output_type": "execute_result"
    }
   ],
   "source": [
    "uk([15, 50, 60, 90], [1, 3, 4, 5], 8) # 140"
   ]
  },
  {
   "cell_type": "markdown",
   "metadata": {},
   "source": [
    "## Split a rod"
   ]
  },
  {
   "cell_type": "markdown",
   "metadata": {},
   "source": [
    "Given a rod of length ‘n’, we are asked to cut the rod and sell the pieces in a way that will maximize the profit. We are also given the price of every piece of length ‘i’ where ‘1 <= i <= n’.\n",
    "\n",
    "Example:\n",
    "\n",
    "Lengths: [1, 2, 3, 4, 5]\n",
    "Prices: [2, 6, 7, 10, 13]\n",
    "Rod Length: 5\n",
    "\n",
    "Let’s try different combinations of cutting the rod:\n",
    "\n",
    "Five pieces of length 1 => 10 price\n",
    "Two pieces of length 2 and one piece of length 1 => 14 price\n",
    "One piece of length 3 and two pieces of length 1 => 11 price\n",
    "One piece of length 3 and one piece of length 2 => 13 price\n",
    "One piece of length 4 and one piece of length 1 => 12 price\n",
    "One piece of length 5 => 13 price\n",
    "\n",
    "This shows that we get the maximum price (14) by cutting the rod into two pieces of length ‘2’ and one piece of length ‘1’."
   ]
  },
  {
   "cell_type": "code",
   "execution_count": 11,
   "metadata": {},
   "outputs": [],
   "source": [
    "lengths = [1,2,3,4,5]\n",
    "profits = [2,6,7,10,13]"
   ]
  },
  {
   "cell_type": "code",
   "execution_count": 14,
   "metadata": {},
   "outputs": [
    {
     "data": {
      "text/plain": [
       "14"
      ]
     },
     "execution_count": 14,
     "metadata": {},
     "output_type": "execute_result"
    }
   ],
   "source": [
    "# brute force\n",
    "def get_combo(lengths, profits, rod_length):\n",
    "    n = len(lengths)\n",
    "    def helper(rl, i):\n",
    "        if rl <= 0 or i >= n:\n",
    "            return 0\n",
    "        check0 = 0\n",
    "        if lengths[i] <= rl:\n",
    "            check0 = profits[i] + helper(rl-lengths[i], i)\n",
    "        check1 = helper(rl, i+1)\n",
    "        return max(check0, check1)\n",
    "    return helper(rod_length, 0)\n",
    "get_combo(lengths, profits, 5)"
   ]
  },
  {
   "cell_type": "code",
   "execution_count": 22,
   "metadata": {},
   "outputs": [
    {
     "data": {
      "text/plain": [
       "14"
      ]
     },
     "execution_count": 22,
     "metadata": {},
     "output_type": "execute_result"
    }
   ],
   "source": [
    "# bottom up (sort of)\n",
    "def get_combo(lengths, profits, rod_length):\n",
    "    n = len(lengths)\n",
    "    dp = [[None for _ in range(n)] for _ in range(rod_length+1)]\n",
    "    def helper(rl, i):\n",
    "        if rl <= 0 or i >= n:\n",
    "            return 0\n",
    "        check0 = 0\n",
    "        if lengths[i] <= rl:\n",
    "            check0 = profits[i] + (dp[rl-lengths[i]][i] or helper(rl-lengths[i], i))\n",
    "        check1 = dp[rl][i] or helper(rl, i+1)\n",
    "        dp[rl][i] = max(check0, check1)\n",
    "        return dp[rl][i]\n",
    "    return helper(rod_length, 0)\n",
    "get_combo(lengths, profits, 5)"
   ]
  },
  {
   "cell_type": "markdown",
   "metadata": {},
   "source": [
    "### Coin Change"
   ]
  },
  {
   "cell_type": "markdown",
   "metadata": {},
   "source": [
    "Given a number array to represent different coin denominations and a total amount ‘T’, we need to find all the different ways to make a change for ‘T’ with the given coin denominations. We can assume an infinite supply of coins, therefore, each coin can be chosen multiple times.\n",
    "\n",
    "```\n",
    "Denominations: {1,2,3}\n",
    "Total amount: 5\n",
    "Output: 5\n",
    "Explanation: There are five ways to make the change for '5', here are those ways:\n",
    "  1. {1,1,1,1,1} \n",
    "  2. {1,1,1,2} \n",
    "  3. {1,2,2}\n",
    "  4. {1,1,3}\n",
    "  5. {2,3}\n",
    "\n",
    "```"
   ]
  },
  {
   "cell_type": "code",
   "execution_count": 33,
   "metadata": {},
   "outputs": [],
   "source": [
    "# brute force\n",
    "def cc(d,T):\n",
    "    n = len(d)\n",
    "    def ccr(t,i):\n",
    "        if t == 0:\n",
    "            return 1\n",
    "        if i >= n or t < 0:\n",
    "            return 0\n",
    "        check0 = ccr(t-d[i], i)\n",
    "        check1 = ccr(t, i+1)\n",
    "        return check0 + check1\n",
    "    return ccr(T, 0)"
   ]
  },
  {
   "cell_type": "code",
   "execution_count": 34,
   "metadata": {},
   "outputs": [
    {
     "data": {
      "text/plain": [
       "5"
      ]
     },
     "execution_count": 34,
     "metadata": {},
     "output_type": "execute_result"
    }
   ],
   "source": [
    "cc([1,2,3], 5)"
   ]
  },
  {
   "cell_type": "code",
   "execution_count": 37,
   "metadata": {},
   "outputs": [
    {
     "data": {
      "text/plain": [
       "5"
      ]
     },
     "execution_count": 37,
     "metadata": {},
     "output_type": "execute_result"
    }
   ],
   "source": [
    "# bottom up \n",
    "def cc(d, t):\n",
    "    n = len(d)\n",
    "    dp = [[0 for _ in range(t+1)] for _ in range(n)]\n",
    "    # can always have zero total amount with an empty set\n",
    "    for i in range(n):\n",
    "        dp[i][0] = 1\n",
    "    \n",
    "    for i in range(n):\n",
    "        for j in range(1,t+1):\n",
    "            dp[i][j] = (dp[i-1][j] if i > 0 else 0) + (dp[i][j-d[i]] if j >= d[i] else 0)\n",
    "    return dp[-1][-1]\n",
    "            \n",
    "cc([1,2,3], 5)"
   ]
  },
  {
   "cell_type": "code",
   "execution_count": null,
   "metadata": {},
   "outputs": [],
   "source": []
  }
 ],
 "metadata": {
  "kernelspec": {
   "display_name": "Python 3",
   "language": "python",
   "name": "python3"
  },
  "language_info": {
   "codemirror_mode": {
    "name": "ipython",
    "version": 3
   },
   "file_extension": ".py",
   "mimetype": "text/x-python",
   "name": "python",
   "nbconvert_exporter": "python",
   "pygments_lexer": "ipython3",
   "version": "3.9.1"
  }
 },
 "nbformat": 4,
 "nbformat_minor": 4
}
