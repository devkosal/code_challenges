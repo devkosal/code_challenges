{
 "cells": [
  {
   "cell_type": "markdown",
   "metadata": {},
   "source": [
    "Given two integer arrays to represent weights and profits of ‘N’ items, we need to find a subset of these items which will give us maximum profit such that their cumulative weight is not more than a given number ‘C’. We can assume an infinite supply of item quantities; therefore, each item can be selected multiple times."
   ]
  },
  {
   "cell_type": "code",
   "execution_count": 74,
   "metadata": {
    "ExecuteTime": {
     "end_time": "2020-12-06T20:17:10.822165Z",
     "start_time": "2020-12-06T20:17:10.818824Z"
    }
   },
   "outputs": [],
   "source": [
    "def uk(profits, weights, capacity):\n",
    "    lp = len(profits)\n",
    "    def ukr(c, i):\n",
    "        if c <= 0 or i >= lp:\n",
    "            return 0\n",
    "        check0 = 0\n",
    "        if weights[i] <= c:\n",
    "            check0 = profits[i] + ukr(c - weights[i], i)\n",
    "        check1 = ukr(c, i+1) \n",
    "        return max(check0, check1)\n",
    "    return ukr(capacity, 0)"
   ]
  },
  {
   "cell_type": "code",
   "execution_count": 75,
   "metadata": {
    "ExecuteTime": {
     "end_time": "2020-12-06T20:17:11.082361Z",
     "start_time": "2020-12-06T20:17:11.077665Z"
    }
   },
   "outputs": [
    {
     "data": {
      "text/plain": [
       "140"
      ]
     },
     "execution_count": 75,
     "metadata": {},
     "output_type": "execute_result"
    }
   ],
   "source": [
    "uk([15, 50, 60, 90], [1, 3, 4, 5], 8) # 140"
   ]
  },
  {
   "cell_type": "code",
   "execution_count": 78,
   "metadata": {
    "ExecuteTime": {
     "end_time": "2020-12-06T20:31:17.709151Z",
     "start_time": "2020-12-06T20:31:17.704858Z"
    }
   },
   "outputs": [],
   "source": [
    "def uk(profits, weights, capacity):\n",
    "    \"\"\"memoization\"\"\"\n",
    "    lp = len(profits)\n",
    "    dp = [[-1 for _ in range(capacity+1)] for _ in range(lp)]\n",
    "    def ukr(c, i):\n",
    "        if c <= 0 or i >= lp:\n",
    "            return 0\n",
    "        # if not already visited\n",
    "        if dp[i][c] == -1:\n",
    "            check0 = 0\n",
    "            if weights[i] <= c:\n",
    "                check0 = profits[i] + ukr(c - weights[i], i)\n",
    "            check1 = ukr(c, i+1) \n",
    "            dp[i][c] = max(check0, check1)\n",
    "        return dp[i][c]\n",
    "    return ukr(capacity, 0)"
   ]
  },
  {
   "cell_type": "code",
   "execution_count": 79,
   "metadata": {
    "ExecuteTime": {
     "end_time": "2020-12-06T20:31:17.978800Z",
     "start_time": "2020-12-06T20:31:17.974877Z"
    }
   },
   "outputs": [
    {
     "data": {
      "text/plain": [
       "140"
      ]
     },
     "execution_count": 79,
     "metadata": {},
     "output_type": "execute_result"
    }
   ],
   "source": [
    "uk([15, 50, 60, 90], [1, 3, 4, 5], 8) # 140"
   ]
  },
  {
   "cell_type": "code",
   "execution_count": null,
   "metadata": {},
   "outputs": [],
   "source": []
  }
 ],
 "metadata": {
  "kernelspec": {
   "display_name": "Python (data)",
   "language": "python",
   "name": "data"
  },
  "language_info": {
   "codemirror_mode": {
    "name": "ipython",
    "version": 3
   },
   "file_extension": ".py",
   "mimetype": "text/x-python",
   "name": "python",
   "nbconvert_exporter": "python",
   "pygments_lexer": "ipython3",
   "version": "3.8.3"
  }
 },
 "nbformat": 4,
 "nbformat_minor": 4
}
