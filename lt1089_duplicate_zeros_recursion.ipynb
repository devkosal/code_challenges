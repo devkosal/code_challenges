{
 "cells": [
  {
   "cell_type": "markdown",
   "metadata": {},
   "source": [
    "https://leetcode.com/problems/duplicate-zeros/"
   ]
  },
  {
   "cell_type": "code",
   "execution_count": 1,
   "metadata": {
    "ExecuteTime": {
     "end_time": "2020-09-12T05:32:53.687539Z",
     "start_time": "2020-09-12T05:32:53.682748Z"
    }
   },
   "outputs": [],
   "source": [
    "class Solution:\n",
    "    def duplicateZeros(self, arr) -> None:\n",
    "        \"\"\"\n",
    "        Do not return anything, modify arr in-place instead.\n",
    "        \"\"\"\n",
    "        n = len(arr)\n",
    "        def shift(val,i):\n",
    "            if i >= n-1:\n",
    "                return\n",
    "            arr[i+1],val = val,arr[i+1]\n",
    "            shift(val,i+1)\n",
    "        i = 0\n",
    "        while i < n:\n",
    "            if arr[i] == 0:\n",
    "                shift(arr[i],i)\n",
    "                i+=2\n",
    "            else:\n",
    "                i+=1 \n"
   ]
  },
  {
   "cell_type": "code",
   "execution_count": 2,
   "metadata": {
    "ExecuteTime": {
     "end_time": "2020-09-12T05:33:24.462298Z",
     "start_time": "2020-09-12T05:33:24.458629Z"
    }
   },
   "outputs": [],
   "source": [
    "def duplicateZeros(self, arr):\n",
    "        n = len(arr)\n",
    "        i = 0\n",
    "        while i < n:\n",
    "            if arr[i] == 0:\n",
    "                arr = arr[:i] + [0] + arr[i:n-1]\n",
    "                i+=2\n",
    "            else:\n",
    "                i+=1 \n",
    "        print(arr)"
   ]
  },
  {
   "cell_type": "code",
   "execution_count": null,
   "metadata": {},
   "outputs": [],
   "source": []
  }
 ],
 "metadata": {
  "kernelspec": {
   "display_name": "Python (data)",
   "language": "python",
   "name": "data"
  },
  "language_info": {
   "codemirror_mode": {
    "name": "ipython",
    "version": 3
   },
   "file_extension": ".py",
   "mimetype": "text/x-python",
   "name": "python",
   "nbconvert_exporter": "python",
   "pygments_lexer": "ipython3",
   "version": "3.8.3"
  }
 },
 "nbformat": 4,
 "nbformat_minor": 4
}
