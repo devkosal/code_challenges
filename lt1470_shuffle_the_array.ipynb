{
 "cells": [
  {
   "cell_type": "markdown",
   "metadata": {},
   "source": [
    "https://leetcode.com/problems/shuffle-the-array/"
   ]
  },
  {
   "cell_type": "code",
   "execution_count": 3,
   "metadata": {
    "ExecuteTime": {
     "end_time": "2020-09-11T07:04:44.666820Z",
     "start_time": "2020-09-11T07:04:44.662808Z"
    }
   },
   "outputs": [],
   "source": [
    "class Solution:\n",
    "    def shuffle(self, nums, n: int):\n",
    "        if n <= 0:\n",
    "            return []\n",
    "        x = nums[:n]\n",
    "        y = nums[n:]\n",
    "        res = []\n",
    "        for i in range(n):\n",
    "            res += [x[i],y[i]]\n",
    "        return res"
   ]
  },
  {
   "cell_type": "code",
   "execution_count": null,
   "metadata": {},
   "outputs": [],
   "source": [
    "class Solution:\n",
    "    def shuffle(self, nums, n: int):\n",
    "        if n <= 0:\n",
    "            return []\n",
    "        i = 0\n",
    "        res = []\n",
    "        while i < n:\n",
    "            res += [nums[i],nums[i+n]]\n",
    "            i+=1\n",
    "        return res"
   ]
  }
 ],
 "metadata": {
  "kernelspec": {
   "display_name": "Python (data)",
   "language": "python",
   "name": "data"
  },
  "language_info": {
   "codemirror_mode": {
    "name": "ipython",
    "version": 3
   },
   "file_extension": ".py",
   "mimetype": "text/x-python",
   "name": "python",
   "nbconvert_exporter": "python",
   "pygments_lexer": "ipython3",
   "version": "3.8.3"
  }
 },
 "nbformat": 4,
 "nbformat_minor": 4
}
