{
 "cells": [
  {
   "cell_type": "markdown",
   "metadata": {},
   "source": [
    "# find_max_sum_in_sub_array_size_k"
   ]
  },
  {
   "cell_type": "markdown",
   "metadata": {},
   "source": [
    "https://www.educative.io/courses/grokking-the-coding-interview/JPKr0kqLGNP"
   ]
  },
  {
   "cell_type": "code",
   "execution_count": 2,
   "metadata": {},
   "outputs": [],
   "source": [
    "def max_sum_array(nums, K):\n",
    "    \"\"\"\n",
    "    find the maximum sum for a sub-array of size k in nums\n",
    "    \"\"\"\n",
    "    max_sum = 0\n",
    "    cur_sum = 0\n",
    "    left = 0\n",
    "    for right, rn in enumerate(nums):\n",
    "        cur_sum += rn\n",
    "        if right - left + 1 == K:\n",
    "            max_sum = max(max_sum, cur_sum)\n",
    "            cur_sum -= nums[left]\n",
    "            left += 1\n",
    "    return max_sum\n",
    "    "
   ]
  },
  {
   "cell_type": "code",
   "execution_count": 4,
   "metadata": {},
   "outputs": [],
   "source": [
    "#max_sum_array() # need to add test cases"
   ]
  },
  {
   "cell_type": "markdown",
   "metadata": {},
   "source": []
  }
 ],
 "metadata": {
  "kernelspec": {
   "display_name": "Python 3",
   "language": "python",
   "name": "python3"
  },
  "language_info": {
   "codemirror_mode": {
    "name": "ipython",
    "version": 3
   },
   "file_extension": ".py",
   "mimetype": "text/x-python",
   "name": "python",
   "nbconvert_exporter": "python",
   "pygments_lexer": "ipython3",
   "version": "3.8.5"
  }
 },
 "nbformat": 4,
 "nbformat_minor": 4
}
