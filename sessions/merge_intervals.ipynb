{
 "cells": [
  {
   "cell_type": "code",
   "execution_count": 6,
   "metadata": {},
   "outputs": [],
   "source": [
    "from typing import List"
   ]
  },
  {
   "cell_type": "markdown",
   "metadata": {},
   "source": [
    "# Merge Overlapping Intervals"
   ]
  },
  {
   "cell_type": "markdown",
   "metadata": {},
   "source": [
    "https://leetcode.com/problems/merge-intervals/submissions/"
   ]
  },
  {
   "cell_type": "code",
   "execution_count": 8,
   "metadata": {},
   "outputs": [],
   "source": [
    "def merge(intervals: List[List[int]]) -> List[List[int]]:\n",
    "    res = []\n",
    "    intervals.sort(key = lambda x: x[0], reverse=True)\n",
    "    start, end = intervals.pop()\n",
    "    while intervals:\n",
    "        cur_start, cur_end = intervals.pop()\n",
    "        # this means we have an overlapping interval\n",
    "        if cur_start <= end:\n",
    "            end = max(end, cur_end)\n",
    "        else:\n",
    "            res.append([start,end])\n",
    "            start, end = cur_start, cur_end\n",
    "    res.append([start,end])\n",
    "    return res"
   ]
  },
  {
   "cell_type": "markdown",
   "metadata": {},
   "source": [
    "# Get Maximum Platforms Needed (similar to Meeting Rooms)"
   ]
  },
  {
   "cell_type": "code",
   "execution_count": 9,
   "metadata": {},
   "outputs": [],
   "source": [
    "def get_max_platforms(intervals: List[List[int]]) -> List[List[int]]:\n",
    "    max_platforms = 0\n",
    "    intervals = intervals[::-1]\n",
    "    start, end = intervals.pop()\n",
    "    num_platforms = 1\n",
    "    while intervals:\n",
    "        cur_start, cur_end = intervals.pop()\n",
    "        # this means we have an overlapping interval\n",
    "        if cur_start <= end:\n",
    "            end = max(end, cur_end)\n",
    "            num_platforms += 1\n",
    "        else:\n",
    "            num_platforms = 1\n",
    "            start, end = cur_start, cur_end\n",
    "        max_platforms = max(max_platforms, num_platforms)\n",
    "    return max_platforms\n"
   ]
  },
  {
   "cell_type": "code",
   "execution_count": 10,
   "metadata": {},
   "outputs": [
    {
     "data": {
      "text/plain": [
       "4"
      ]
     },
     "execution_count": 10,
     "metadata": {},
     "output_type": "execute_result"
    }
   ],
   "source": [
    "get_max_platforms([[9,9.1],[9.05,12],[9.5,11.2], [11,11.3],[15,19],[18,20]]) # 4"
   ]
  },
  {
   "cell_type": "code",
   "execution_count": null,
   "metadata": {},
   "outputs": [],
   "source": []
  }
 ],
 "metadata": {
  "kernelspec": {
   "display_name": "Python 3",
   "language": "python",
   "name": "python3"
  },
  "language_info": {
   "codemirror_mode": {
    "name": "ipython",
    "version": 3
   },
   "file_extension": ".py",
   "mimetype": "text/x-python",
   "name": "python",
   "nbconvert_exporter": "python",
   "pygments_lexer": "ipython3",
   "version": "3.8.5"
  }
 },
 "nbformat": 4,
 "nbformat_minor": 4
}
