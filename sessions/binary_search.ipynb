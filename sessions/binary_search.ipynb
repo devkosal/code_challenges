{
 "cells": [
  {
   "cell_type": "markdown",
   "metadata": {},
   "source": [
    "# Find the Ceiling"
   ]
  },
  {
   "cell_type": "code",
   "execution_count": 10,
   "metadata": {},
   "outputs": [],
   "source": [
    "def bs_ceiling(nums, key):\n",
    "    \"\"\"\n",
    "    find index of number greater than or equal to key\n",
    "    \"\"\"\n",
    "    l = len(nums)\n",
    "    if key > nums[-1]:\n",
    "        return -1\n",
    "    def helper(low, high):\n",
    "        mid = (low+high)//2\n",
    "        num_mid = nums[mid]\n",
    "        # key\n",
    "        if low > high:\n",
    "            return low\n",
    "        elif key == num_mid:\n",
    "            return mid\n",
    "        elif key > num_mid:\n",
    "            low = mid + 1\n",
    "        else:\n",
    "            high = mid - 1\n",
    "        return helper(low, high)\n",
    "    return helper(0, l)"
   ]
  },
  {
   "cell_type": "code",
   "execution_count": 11,
   "metadata": {},
   "outputs": [
    {
     "data": {
      "text/plain": [
       "(1, 4)"
      ]
     },
     "execution_count": 11,
     "metadata": {},
     "output_type": "execute_result"
    }
   ],
   "source": [
    "inp1 = {\"nums\":[4,6,10],\"key\":6} # 1\n",
    "inp2 = {\"nums\":[1,3,8,10,15], \"key\":14} # 4\n",
    "bs_ceiling(**inp1), bs_ceiling(**inp2)"
   ]
  },
  {
   "cell_type": "markdown",
   "metadata": {},
   "source": [
    "# Find the Floor"
   ]
  },
  {
   "cell_type": "code",
   "execution_count": 3,
   "metadata": {},
   "outputs": [],
   "source": [
    "def bs_floor(nums, key):\n",
    "    \"\"\"\n",
    "    find index of number less than or equal to key\n",
    "    \"\"\"\n",
    "    l = len(nums)\n",
    "    if key < nums[0]:\n",
    "        return -1\n",
    "    def helper(low, high):\n",
    "        mid = (low+high)//2\n",
    "        num_mid = nums[mid]\n",
    "        # key\n",
    "        if low > high:\n",
    "            return high\n",
    "        elif key == num_mid:\n",
    "            return mid\n",
    "        elif key > num_mid:\n",
    "            low = mid + 1\n",
    "        else:\n",
    "            high = mid - 1\n",
    "        return helper(low, high)\n",
    "    return helper(0, l)"
   ]
  },
  {
   "cell_type": "code",
   "execution_count": 9,
   "metadata": {},
   "outputs": [
    {
     "data": {
      "text/plain": [
       "(1, 0)"
      ]
     },
     "execution_count": 9,
     "metadata": {},
     "output_type": "execute_result"
    }
   ],
   "source": [
    "inp1 = {\"nums\":[4,6,10],\"key\":6} # 1\n",
    "inp2 = {\"nums\":[1,3,8,10,15], \"key\":-4} # 0\n",
    "bs_ceiling(**inp1), bs_ceiling(**inp2)"
   ]
  },
  {
   "cell_type": "code",
   "execution_count": null,
   "metadata": {},
   "outputs": [],
   "source": []
  }
 ],
 "metadata": {
  "kernelspec": {
   "display_name": "Python 3",
   "language": "python",
   "name": "python3"
  },
  "language_info": {
   "codemirror_mode": {
    "name": "ipython",
    "version": 3
   },
   "file_extension": ".py",
   "mimetype": "text/x-python",
   "name": "python",
   "nbconvert_exporter": "python",
   "pygments_lexer": "ipython3",
   "version": "3.8.5"
  }
 },
 "nbformat": 4,
 "nbformat_minor": 4
}
