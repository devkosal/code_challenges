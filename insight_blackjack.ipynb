{
 "cells": [
  {
   "cell_type": "markdown",
   "metadata": {},
   "source": [
    "### Methods\n",
    "- play\n",
    "- build/reset deck\n",
    "- player balance \n",
    "- bet"
   ]
  },
  {
   "cell_type": "code",
   "execution_count": 1,
   "metadata": {},
   "outputs": [],
   "source": [
    "import random"
   ]
  },
  {
   "cell_type": "code",
   "execution_count": 2,
   "metadata": {},
   "outputs": [],
   "source": [
    "class Blackjack:\n",
    "    def __init__(self, balance):\n",
    "        self.balance = balance\n",
    "    def reset_deck(self):\n",
    "        self.deck = [1,2,3,4,5,6,7,8,9,10,10,10,10]*4\n",
    "        \n",
    "    def deal_cards(self):\n",
    "        self.dealer_cards, self.player_cards = [], []\n",
    "        for i in range(4):\n",
    "            card = random.choice(self.deck)\n",
    "            self.deck.pop(card)\n",
    "            if i % 2 == 0: \n",
    "                self.dealer_cards.append(card)\n",
    "            else:\n",
    "                self.player_cards.append(card)\n",
    "    \n",
    "    def deal_one(self, receipent):\n",
    "        card = random.choice(self.deck)\n",
    "        self.deck.pop(card)\n",
    "        receipent.append(card)\n",
    "            \n",
    "    def get_max_valid_sum(self, cards):\n",
    "        max1 = sum(cards)\n",
    "        max2 = sum([11 if card == 1 else card for card in cards])\n",
    "        return max2 if max2 <= 21 else max1\n",
    "    \n",
    "    def play_round(self, bet):\n",
    "        self.reset_deck()\n",
    "        self.deal_cards()\n",
    "        print(f\"The Dealer's cards are: {self.dealer_cards[0]},*\")\n",
    "        print(f\"Your cards are: {self.player_cards}\")\n",
    "        action = \"\"\n",
    "        while sum(self.player_cards) <= 21:\n",
    "            action = input(\"Enter 'h' for hit, 's' for stand: \")\n",
    "            if action.lower() == \"h\": \n",
    "                self.deal_one(self.player_cards)\n",
    "                print(f\"Your current cards: {self.player_cards}\")\n",
    "            elif action.lower() == \"s\":\n",
    "                break\n",
    "            else: \n",
    "                \"You have entered an unsupported action.\"\n",
    "        player_sum = self.get_max_valid_sum(self.player_cards)\n",
    "        if player_sum > 21: \n",
    "            print(f\"You have busted at {player_sum}!\")\n",
    "            self.balance -= bet\n",
    "        else:\n",
    "            print(f\"You stood at {player_sum}\")\n",
    "            while True:\n",
    "                if  self.get_max_valid_sum(self.dealer_cards) < 17:\n",
    "                    self.deal_one(self.dealer_cards)\n",
    "                    print(f\"Dealer's current cards: {self.dealer_cards}\")\n",
    "                elif sum(self.dealer_cards) > 21:\n",
    "                    print(f\"The dealer has busted! You win {bet} this round!\")\n",
    "                    self.balance += bet\n",
    "                    break\n",
    "                else:\n",
    "                    print(f\"The dealer stands at {self.dealer_cards}\")\n",
    "                    if sum(self.dealer_cards) > player_sum: \n",
    "                        self.balance -= bet\n",
    "                        print(f\"The dealer wins this round. Your new balance is {self.balance}\")\n",
    "                    elif sum(self.dealer_cards) < player_sum:\n",
    "                        self.balance += bet\n",
    "                        print(f\"You win this round! Your new balance is {self.balance}\")\n",
    "                    else:\n",
    "                        print(f\"Looks like you and dealer tied this round. Your balance remains {self.balance}\")\n",
    "                    break\n",
    "\n",
    "    def play(self):\n",
    "        playing = True\n",
    "        while playing and self.balance > 0:\n",
    "            print(\"\\n\")\n",
    "            bet = float('inf')\n",
    "            while bet > self.balance:\n",
    "                bet = int(input(f\"Please enter a bet amount. Your current balance is {self.balance}: \"))\n",
    "            self.play_round(bet)\n",
    "            action = \"\"\n",
    "            while action not in [\"y\",\"n\"]:\n",
    "                action = input(\"Would you like to continue playing? Enter 'y' or 'n': \")\n",
    "            if action == \"n\": playing = False\n",
    "        print(f\"\\nThis Blackjack game has concluded! Your final balance is {self.balance}\")\n",
    "            "
   ]
  },
  {
   "cell_type": "code",
   "execution_count": 3,
   "metadata": {},
   "outputs": [],
   "source": [
    "b = Blackjack(100)"
   ]
  },
  {
   "cell_type": "code",
   "execution_count": null,
   "metadata": {},
   "outputs": [
    {
     "name": "stdout",
     "output_type": "stream",
     "text": [
      "\n",
      "\n"
     ]
    }
   ],
   "source": [
    "b.play()"
   ]
  },
  {
   "cell_type": "code",
   "execution_count": null,
   "metadata": {},
   "outputs": [],
   "source": []
  }
 ],
 "metadata": {
  "kernelspec": {
   "display_name": "Python3 (fastai)",
   "language": "python",
   "name": "fastai"
  },
  "language_info": {
   "codemirror_mode": {
    "name": "ipython",
    "version": 3
   },
   "file_extension": ".py",
   "mimetype": "text/x-python",
   "name": "python",
   "nbconvert_exporter": "python",
   "pygments_lexer": "ipython3",
   "version": "3.7.5"
  }
 },
 "nbformat": 4,
 "nbformat_minor": 2
}
