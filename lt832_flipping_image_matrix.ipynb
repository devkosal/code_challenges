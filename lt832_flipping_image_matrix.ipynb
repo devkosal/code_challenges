{
 "cells": [
  {
   "cell_type": "markdown",
   "metadata": {},
   "source": [
    "https://leetcode.com/problems/flipping-an-image/"
   ]
  },
  {
   "cell_type": "code",
   "execution_count": 1,
   "metadata": {
    "ExecuteTime": {
     "end_time": "2020-09-11T22:20:47.403733Z",
     "start_time": "2020-09-11T22:20:47.398534Z"
    }
   },
   "outputs": [],
   "source": [
    "class Solution:\n",
    "    def flipAndInvertImage(self, A):\n",
    "        n = len(A)\n",
    "        if n <= 0:\n",
    "            return A\n",
    "        m = len(A[0])\n",
    "\n",
    "        res = [[0 for _ in range(n)] for _ in range(m)]\n",
    "        for i in range(n):\n",
    "            for j in range(m):\n",
    "                if A[i][-j-1] == 0:\n",
    "                    res[i][j] = 1\n",
    "        return res"
   ]
  },
  {
   "cell_type": "code",
   "execution_count": null,
   "metadata": {},
   "outputs": [],
   "source": []
  }
 ],
 "metadata": {
  "kernelspec": {
   "display_name": "Python (data)",
   "language": "python",
   "name": "data"
  },
  "language_info": {
   "codemirror_mode": {
    "name": "ipython",
    "version": 3
   },
   "file_extension": ".py",
   "mimetype": "text/x-python",
   "name": "python",
   "nbconvert_exporter": "python",
   "pygments_lexer": "ipython3",
   "version": "3.8.3"
  }
 },
 "nbformat": 4,
 "nbformat_minor": 4
}
