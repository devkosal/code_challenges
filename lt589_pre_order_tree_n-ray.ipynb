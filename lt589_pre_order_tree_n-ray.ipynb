{
 "cells": [
  {
   "cell_type": "markdown",
   "metadata": {},
   "source": [
    "https://leetcode.com/problems/n-ary-tree-preorder-traversal/"
   ]
  },
  {
   "cell_type": "code",
   "execution_count": 1,
   "metadata": {
    "ExecuteTime": {
     "end_time": "2020-10-07T05:40:47.565858Z",
     "start_time": "2020-10-07T05:40:47.560751Z"
    }
   },
   "outputs": [],
   "source": [
    "# Definition for a Node.\n",
    "class Node:\n",
    "    def __init__(self, val=None, children=None):\n",
    "        self.val = val\n",
    "        self.children = children\n",
    "from collections import deque\n",
    "class Solution:\n",
    "    def preorder(self, root: 'Node'):\n",
    "        if not root:\n",
    "            return []\n",
    "        res = [root.val]\n",
    "        c = deque(root.children)\n",
    "        while c:\n",
    "            cur = c.popleft()\n",
    "            res.append(cur.val)\n",
    "            c.extendleft(cur.children[::-1])\n",
    "        return res"
   ]
  },
  {
   "cell_type": "code",
   "execution_count": null,
   "metadata": {},
   "outputs": [],
   "source": [
    "class Solution:\n",
    "    '''\n",
    "    recursive solution, UNTESTED\n",
    "    '''\n",
    "    def preorder(self, root: 'Node'):\n",
    "        if not root: \n",
    "            return []\n",
    "        if not root.children:\n",
    "            return [root.val]       \n",
    "        return [root.val] + sum([self.postorder(r) for r in root.children],[])"
   ]
  }
 ],
 "metadata": {
  "kernelspec": {
   "display_name": "Python (data)",
   "language": "python",
   "name": "data"
  },
  "language_info": {
   "codemirror_mode": {
    "name": "ipython",
    "version": 3
   },
   "file_extension": ".py",
   "mimetype": "text/x-python",
   "name": "python",
   "nbconvert_exporter": "python",
   "pygments_lexer": "ipython3",
   "version": "3.8.3"
  }
 },
 "nbformat": 4,
 "nbformat_minor": 4
}
