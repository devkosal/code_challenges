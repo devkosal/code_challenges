{
 "cells": [
  {
   "cell_type": "markdown",
   "metadata": {},
   "source": [
    "https://leetcode.com/problems/add-two-numbers/submissions/"
   ]
  },
  {
   "cell_type": "code",
   "execution_count": null,
   "metadata": {},
   "outputs": [],
   "source": [
    "# Definition for singly-linked list.\n",
    "# class ListNode:\n",
    "#     def __init__(self, x):\n",
    "#         self.val = x\n",
    "#         self.next = None\n",
    "\n",
    "class Solution:\n",
    "    def addTwoNumbers(self, l1: ListNode, l2: ListNode) -> ListNode:\n",
    "        def _node2list(l:ListNode):\n",
    "            n,res = l, []\n",
    "            while n:\n",
    "                res.append(n.val) \n",
    "                n = n.next\n",
    "            return res\n",
    "        \n",
    "        def _str2node(value:str):\n",
    "            res = ListNode(value[0])\n",
    "            res.next = _str2node(value[1:]) if len(value) > 1 else None\n",
    "            return res\n",
    "                \n",
    "        l1,l2 = _node2list(l1), _node2list(l2)\n",
    "\n",
    "        l1 = \"\".join([str(i) for i in l1[::-1]])\n",
    "        l2 = \"\".join([str(i) for i in l2[::-1]])\n",
    "        return _str2node(str(int(l1) + int(l2))[::-1])"
   ]
  },
  {
   "cell_type": "markdown",
   "metadata": {},
   "source": [
    "## Full Recursion"
   ]
  },
  {
   "cell_type": "code",
   "execution_count": null,
   "metadata": {},
   "outputs": [],
   "source": [
    "class Solution:\n",
    "    def addTwoNumbers(self, l1: ListNode, l2: ListNode) -> ListNode:\n",
    "        def _node2str(l:ListNode):\n",
    "            if not l.next: return str(l.val)\n",
    "            return str(l.val) + _node2str(l.next) \n",
    "        \n",
    "        def _str2node(value:str):\n",
    "            res = ListNode(value[0])\n",
    "            res.next = _str2node(value[1:]) if len(value) > 1 else None\n",
    "            return res\n",
    "                \n",
    "        l1,l2 = _node2str(l1)[::-1], _node2str(l2)[::-1]\n",
    "        return _str2node(str(int(l1) + int(l2))[::-1])\n",
    "        "
   ]
  }
 ],
 "metadata": {
  "kernelspec": {
   "display_name": "Python 3",
   "language": "python",
   "name": "python3"
  },
  "language_info": {
   "codemirror_mode": {
    "name": "ipython",
    "version": 3
   },
   "file_extension": ".py",
   "mimetype": "text/x-python",
   "name": "python",
   "nbconvert_exporter": "python",
   "pygments_lexer": "ipython3",
   "version": "3.7.3"
  },
  "varInspector": {
   "cols": {
    "lenName": 16,
    "lenType": 16,
    "lenVar": 40
   },
   "kernels_config": {
    "python": {
     "delete_cmd_postfix": "",
     "delete_cmd_prefix": "del ",
     "library": "var_list.py",
     "varRefreshCmd": "print(var_dic_list())"
    },
    "r": {
     "delete_cmd_postfix": ") ",
     "delete_cmd_prefix": "rm(",
     "library": "var_list.r",
     "varRefreshCmd": "cat(var_dic_list()) "
    }
   },
   "types_to_exclude": [
    "module",
    "function",
    "builtin_function_or_method",
    "instance",
    "_Feature"
   ],
   "window_display": false
  }
 },
 "nbformat": 4,
 "nbformat_minor": 2
}
