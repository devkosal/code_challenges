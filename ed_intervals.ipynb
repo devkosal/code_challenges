{
 "cells": [
  {
   "cell_type": "markdown",
   "id": "ambient-warrior",
   "metadata": {},
   "source": [
    "merge intervals\n",
    "\n",
    "https://www.educative.io/courses/grokking-the-coding-interview/3jyVPKRA8yx"
   ]
  },
  {
   "cell_type": "markdown",
   "id": "better-falls",
   "metadata": {},
   "source": [
    "```\n",
    "Intervals: [[1,4], [2,5], [7,9]]\n",
    "Output: [[1,5], [7,9]]\n",
    "Explanation: Since the first two intervals [1,4] and [2,5] overlap, we merged them into \n",
    "one [1,5].\n",
    "```"
   ]
  },
  {
   "cell_type": "markdown",
   "id": "naked-neighborhood",
   "metadata": {},
   "source": [
    "https://leetcode.com/problems/merge-intervals/submissions/"
   ]
  },
  {
   "cell_type": "code",
   "execution_count": 15,
   "id": "legislative-cowboy",
   "metadata": {},
   "outputs": [
    {
     "data": {
      "text/plain": [
       "[[1, 9]]"
      ]
     },
     "execution_count": 15,
     "metadata": {},
     "output_type": "execute_result"
    }
   ],
   "source": [
    "def merge(intervals):\n",
    "    merged = []\n",
    "    l = len(intervals)\n",
    "    intervals = sorted(intervals, key = lambda x: x[0])\n",
    "    start, end = intervals[0]\n",
    "    for i, (new_start, new_end) in enumerate(intervals[1:]):\n",
    "        if new_start > end:\n",
    "            merged.append([start, end])\n",
    "            start = new_start\n",
    "        end = max(end, new_end)\n",
    "    merged.append([start, end])\n",
    "    return merged\n",
    "\n",
    "merge([[1, 4],[2, 5], [4, 9]])\n",
    "# merge([[1, 3]])"
   ]
  },
  {
   "cell_type": "markdown",
   "id": "neutral-spare",
   "metadata": {},
   "source": [
    "Insert Interval"
   ]
  },
  {
   "cell_type": "markdown",
   "id": "hairy-fight",
   "metadata": {},
   "source": [
    "https://www.educative.io/courses/grokking-the-coding-interview/3jKlyNMJPEM"
   ]
  },
  {
   "cell_type": "markdown",
   "id": "coordinate-oliver",
   "metadata": {},
   "source": [
    "Given a list of non-overlapping intervals sorted by their start time, insert a given interval at the correct position and merge all necessary intervals to produce a list that has only mutually exclusive intervals."
   ]
  },
  {
   "cell_type": "markdown",
   "id": "noted-theology",
   "metadata": {},
   "source": [
    "```\n",
    "Example 1:\n",
    "\n",
    "Input: Intervals=[[1,3], [5,7], [8,12]], New Interval=[4,6]\n",
    "Output: [[1,3], [4,7], [8,12]]\n",
    "Explanation: After insertion, since [4,6] overlaps with [5,7], we merged them into one [4,7].\n",
    "Example 2:\n",
    "\n",
    "Input: Intervals=[[1,3], [5,7], [8,12]], New Interval=[4,10]\n",
    "Output: [[1,3], [4,12]]\n",
    "Explanation: After insertion, since [4,10] overlaps with [5,7] & [8,12], we merged them into [4,12].\n",
    "Example 3:\n",
    "\n",
    "Input: Intervals=[[2,3],[5,7]], New Interval=[1,4]\n",
    "Output: [[1,4], [5,7]]\n",
    "Explanation: After insertion, since [1,4] overlaps with [2,3], we merged them into one [1,4].\n",
    "\n",
    "```"
   ]
  },
  {
   "cell_type": "code",
   "execution_count": 16,
   "id": "understanding-commerce",
   "metadata": {},
   "outputs": [],
   "source": [
    "def insert(intervals, new_interval):\n",
    "    n = len(intervals)\n",
    "    i = 0\n",
    "    res = []\n",
    "    # skip until we find an interval ending after the start of the new interval \n",
    "    while i < n and intervals[i][1] < new_interval[0]:\n",
    "        res.append(intervals[i])\n",
    "        i += 1\n",
    "    \n",
    "    # combine intervals into new interval until there is overlap between current inteval and the new interval\n",
    "    # or unit start of current interval is less than end of new interval\n",
    "    while i < n and intervals[i][0] <= new_interval[1]:\n",
    "        new_interval[0] = min(intervals[i][0], new_interval[0])\n",
    "        new_interval[1] = max(intervals[i][1], new_interval[1])\n",
    "        i += 1\n",
    "        \n",
    "    \n",
    "    res.append(new_interval)\n",
    "    \n",
    "    while i < n:\n",
    "        res.append(intervals[i])\n",
    "        i += 1\n",
    "    \n",
    "    return res\n",
    "            "
   ]
  },
  {
   "cell_type": "markdown",
   "id": "sonic-there",
   "metadata": {},
   "source": [
    "min meetings rooms"
   ]
  },
  {
   "cell_type": "markdown",
   "id": "cross-bunny",
   "metadata": {},
   "source": [
    "https://www.educative.io/courses/grokking-the-coding-interview/JQMAmrVPL7l"
   ]
  },
  {
   "cell_type": "markdown",
   "id": "hairy-bargain",
   "metadata": {},
   "source": [
    "```\n",
    "Example 1:\n",
    "\n",
    "Meetings: [[1,4], [2,5], [7,9]]\n",
    "Output: 2\n",
    "Explanation: Since [1,4] and [2,5] overlap, we need two rooms to hold these two meetings. [7,9] can \n",
    "occur in any of the two rooms later.\n",
    "Example 2:\n",
    "\n",
    "Meetings: [[6,7], [2,4], [8,12]]\n",
    "Output: 1\n",
    "Explanation: None of the meetings overlap, therefore we only need one room to hold all meetings.\n",
    "Example 3:\n",
    "\n",
    "Meetings: [[1,4], [2,3], [3,6]]\n",
    "Output:2\n",
    "Explanation: Since [1,4] overlaps with the other two meetings [2,3] and [3,6], we need two rooms to \n",
    "hold all the meetings.\n",
    "\n",
    "Example 4:\n",
    "\n",
    "Meetings: [[4,5], [2,3], [2,4], [3,5]]\n",
    "Output: 2\n",
    "Explanation: We will need one room for [2,3] and [3,5], and another room for [2,4] and [4,5].\n",
    "\n",
    "Here is a visual representation of Example 4:\n",
    "\n",
    "\n",
    "```"
   ]
  },
  {
   "cell_type": "code",
   "execution_count": 28,
   "id": "popular-pickup",
   "metadata": {},
   "outputs": [],
   "source": [
    "import heapq\n",
    "\n",
    "def min_meeting_rooms(meetings):\n",
    "    \"\"\"\n",
    "    we don't need the heap len var since we never pop without pushing so we can just return the len of heap\n",
    "    \"\"\"\n",
    "    if not meetings:\n",
    "        return 0\n",
    "    meetings = sorted(meetings, key = lambda x: x[0])\n",
    "    minheap = [meetings[0][1]]\n",
    "#     max_heap_len = 1\n",
    "    for start, end in meetings[1:]:\n",
    "        # if the new meeting starts before or when the soonest ending one ends\n",
    "        if start >= minheap[0]:\n",
    "            heapq.heappushpop(minheap, end)\n",
    "        else:\n",
    "            heapq.heappush(minheap, end)\n",
    "#         max_heap_len = max(max_heap_len, len(minheap))\n",
    "    return len(minheap)"
   ]
  },
  {
   "cell_type": "code",
   "execution_count": 29,
   "id": "normal-right",
   "metadata": {},
   "outputs": [
    {
     "data": {
      "text/plain": [
       "2"
      ]
     },
     "execution_count": 29,
     "metadata": {},
     "output_type": "execute_result"
    }
   ],
   "source": [
    "min_meeting_rooms([[1,4], [2,5], [7,9]])"
   ]
  },
  {
   "cell_type": "code",
   "execution_count": 30,
   "id": "adjacent-string",
   "metadata": {},
   "outputs": [
    {
     "data": {
      "text/plain": [
       "1"
      ]
     },
     "execution_count": 30,
     "metadata": {},
     "output_type": "execute_result"
    }
   ],
   "source": [
    "min_meeting_rooms([[6,7], [2,4], [8,12]])"
   ]
  },
  {
   "cell_type": "code",
   "execution_count": 31,
   "id": "measured-specialist",
   "metadata": {},
   "outputs": [
    {
     "data": {
      "text/plain": [
       "2"
      ]
     },
     "execution_count": 31,
     "metadata": {},
     "output_type": "execute_result"
    }
   ],
   "source": [
    "min_meeting_rooms([[1,4], [2,3], [3,6]])"
   ]
  },
  {
   "cell_type": "code",
   "execution_count": 43,
   "id": "separate-elements",
   "metadata": {},
   "outputs": [
    {
     "data": {
      "text/plain": [
       "3"
      ]
     },
     "execution_count": 43,
     "metadata": {},
     "output_type": "execute_result"
    }
   ],
   "source": [
    "min_meeting_rooms([[1,4], [5,6], [8,9], [2,6], [3,6], [12, 14], [10, 13], [8, 11]])"
   ]
  },
  {
   "cell_type": "code",
   "execution_count": 32,
   "id": "tender-chinese",
   "metadata": {},
   "outputs": [
    {
     "data": {
      "text/plain": [
       "2"
      ]
     },
     "execution_count": 32,
     "metadata": {},
     "output_type": "execute_result"
    }
   ],
   "source": [
    "min_meeting_rooms([[4,5], [2,3], [2,4], [3,5]])"
   ]
  },
  {
   "cell_type": "markdown",
   "id": "married-rebound",
   "metadata": {},
   "source": [
    "Maximum CPU Load (hard) #"
   ]
  },
  {
   "cell_type": "markdown",
   "id": "heavy-supplement",
   "metadata": {},
   "source": [
    "```\n",
    "Example 1:\n",
    "\n",
    "Jobs: [[1,4,3], [2,5,4], [7,9,6]]\n",
    "Output: 7\n",
    "Explanation: Since [1,4,3] and [2,5,4] overlap, their maximum CPU load (3+4=7) will be when both the \n",
    "jobs are running at the same time i.e., during the time interval (2,4).\n",
    "Example 2:\n",
    "\n",
    "Jobs: [[6,7,10], [2,4,11], [8,12,15]]\n",
    "Output: 15\n",
    "Explanation: None of the jobs overlap, therefore we will take the maximum load of any job which is 15.\n",
    "Example 3:\n",
    "\n",
    "Jobs: [[1,4,2], [2,4,1], [3,6,5]]\n",
    "Output: 8\n",
    "Explanation: Maximum CPU load will be 8 as all jobs overlap during the time interval [3,4]. \n",
    "\n",
    "```"
   ]
  },
  {
   "cell_type": "code",
   "execution_count": 40,
   "id": "accessible-copyright",
   "metadata": {},
   "outputs": [],
   "source": [
    "def find_max_cpu_load(jobs):\n",
    "    if not jobs:\n",
    "        return 0\n",
    "    jobs = sorted(jobs, key = lambda x: x[0])\n",
    "    current_load = jobs[0][2]\n",
    "    max_load = current_load\n",
    "    minheap = [(jobs[0][1], current_load)]\n",
    "    for start, end, load in jobs[1:]:\n",
    "        while len(minheap) > 0 and start >= minheap[0][0]:\n",
    "            _ , neg_load = heapq.heappop(minheap)\n",
    "            current_load -= neg_load\n",
    "        heapq.heappush(minheap, (end, load))\n",
    "        current_load += load\n",
    "        max_load = max(max_load, current_load)\n",
    "    \n",
    "    return max_load"
   ]
  },
  {
   "cell_type": "code",
   "execution_count": 41,
   "id": "sudden-democrat",
   "metadata": {},
   "outputs": [
    {
     "data": {
      "text/plain": [
       "(7, 15)"
      ]
     },
     "execution_count": 41,
     "metadata": {},
     "output_type": "execute_result"
    }
   ],
   "source": [
    "find_max_cpu_load([[1,4,3], [2,5,4], [7,9,6]]), find_max_cpu_load([[6,7,10], [2,4,11], [8,12,15]])"
   ]
  },
  {
   "cell_type": "code",
   "execution_count": 42,
   "id": "headed-marsh",
   "metadata": {},
   "outputs": [
    {
     "data": {
      "text/plain": [
       "8"
      ]
     },
     "execution_count": 42,
     "metadata": {},
     "output_type": "execute_result"
    }
   ],
   "source": [
    "find_max_cpu_load([[1,4,2], [2,4,1], [3,6,5]])"
   ]
  },
  {
   "cell_type": "markdown",
   "id": "abroad-connecticut",
   "metadata": {},
   "source": [
    "## Free Employee Intervals"
   ]
  },
  {
   "cell_type": "markdown",
   "id": "trained-vermont",
   "metadata": {},
   "source": [
    "https://www.educative.io/courses/grokking-the-coding-interview/RLwKZWgMJ1q"
   ]
  },
  {
   "cell_type": "code",
   "execution_count": 7,
   "id": "meaning-bankruptcy",
   "metadata": {},
   "outputs": [],
   "source": [
    "def find_employee_free_time(intervals):\n",
    "    intervals = sum(intervals, [])\n",
    "    intervals = sorted(intervals, key = lambda x: x[0])\n",
    "    res = []\n",
    "    start, end = intervals[0]\n",
    "    for st, en in intervals[1:]:\n",
    "        if st > end:\n",
    "            res.append((end, st))\n",
    "        end = max(end, en)\n",
    "    return res"
   ]
  },
  {
   "cell_type": "code",
   "execution_count": 8,
   "id": "considerable-heading",
   "metadata": {},
   "outputs": [
    {
     "data": {
      "text/plain": [
       "[(3, 5)]"
      ]
     },
     "execution_count": 8,
     "metadata": {},
     "output_type": "execute_result"
    }
   ],
   "source": [
    "intervals = [[(1, 3), (5, 6)], [(2, 3), (6, 8)]]\n",
    "find_employee_free_time(intervals)"
   ]
  },
  {
   "cell_type": "code",
   "execution_count": 10,
   "id": "quick-religion",
   "metadata": {},
   "outputs": [
    {
     "data": {
      "text/plain": [
       "[(4, 6), (8, 9)]"
      ]
     },
     "execution_count": 10,
     "metadata": {},
     "output_type": "execute_result"
    }
   ],
   "source": [
    "intervals = [[(1, 3), (9, 12)], [(2, 4)], [(6, 8)]]\n",
    "find_employee_free_time(intervals)"
   ]
  },
  {
   "cell_type": "code",
   "execution_count": 12,
   "id": "difficult-ceremony",
   "metadata": {},
   "outputs": [
    {
     "data": {
      "text/plain": [
       "[(5, 7)]"
      ]
     },
     "execution_count": 12,
     "metadata": {},
     "output_type": "execute_result"
    }
   ],
   "source": [
    "intervals = [[(1, 3)], [(2, 4)], [(3, 5), (7, 9)]]\n",
    "find_employee_free_time(intervals)"
   ]
  },
  {
   "cell_type": "code",
   "execution_count": null,
   "id": "laden-horizon",
   "metadata": {},
   "outputs": [],
   "source": []
  }
 ],
 "metadata": {
  "kernelspec": {
   "display_name": "Python 3",
   "language": "python",
   "name": "python3"
  },
  "language_info": {
   "codemirror_mode": {
    "name": "ipython",
    "version": 3
   },
   "file_extension": ".py",
   "mimetype": "text/x-python",
   "name": "python",
   "nbconvert_exporter": "python",
   "pygments_lexer": "ipython3",
   "version": "3.9.2"
  }
 },
 "nbformat": 4,
 "nbformat_minor": 5
}
