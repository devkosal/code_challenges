{
 "cells": [
  {
   "cell_type": "markdown",
   "metadata": {},
   "source": [
    "https://leetcode.com/problems/shift-2d-grid/submissions/"
   ]
  },
  {
   "cell_type": "code",
   "execution_count": 9,
   "metadata": {
    "ExecuteTime": {
     "end_time": "2020-09-23T13:47:18.398522Z",
     "start_time": "2020-09-23T13:47:18.394280Z"
    }
   },
   "outputs": [],
   "source": [
    "class Solution:\n",
    "    def shiftGrid(self, grid, k: int):\n",
    "        m = len(grid)\n",
    "        n = len(grid[0])\n",
    "        num_el = m*n\n",
    "        k = k % num_el\n",
    "        if k == 0:\n",
    "            return grid\n",
    "        grid = sum(grid,[])\n",
    "        grid = grid[-k:] + grid[:-k]\n",
    "        grid.reverse()\n",
    "        res = []\n",
    "        for i in range(m):\n",
    "            res.append([grid.pop() for _ in range(n)])\n",
    "        return res"
   ]
  },
  {
   "cell_type": "code",
   "execution_count": 11,
   "metadata": {
    "ExecuteTime": {
     "end_time": "2020-09-23T13:47:30.341116Z",
     "start_time": "2020-09-23T13:47:30.336792Z"
    }
   },
   "outputs": [
    {
     "data": {
      "text/plain": [
       "[[7, 8, 9], [1, 2, 3], [4, 5, 6]]"
      ]
     },
     "execution_count": 11,
     "metadata": {},
     "output_type": "execute_result"
    }
   ],
   "source": [
    "Solution().shiftGrid([[1,2,3],[4,5,6],[7,8,9]],3)"
   ]
  },
  {
   "cell_type": "code",
   "execution_count": null,
   "metadata": {},
   "outputs": [],
   "source": []
  }
 ],
 "metadata": {
  "kernelspec": {
   "display_name": "Python (data)",
   "language": "python",
   "name": "data"
  },
  "language_info": {
   "codemirror_mode": {
    "name": "ipython",
    "version": 3
   },
   "file_extension": ".py",
   "mimetype": "text/x-python",
   "name": "python",
   "nbconvert_exporter": "python",
   "pygments_lexer": "ipython3",
   "version": "3.8.3"
  }
 },
 "nbformat": 4,
 "nbformat_minor": 4
}
