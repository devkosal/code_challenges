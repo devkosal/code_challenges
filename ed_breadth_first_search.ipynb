{
 "cells": [
  {
   "cell_type": "code",
   "execution_count": 1,
   "metadata": {},
   "outputs": [],
   "source": [
    "class TreeNode:\n",
    "    def __init__(self, val):\n",
    "        self.val = val\n",
    "        self.left, self.right = None, None"
   ]
  },
  {
   "cell_type": "code",
   "execution_count": 4,
   "metadata": {},
   "outputs": [],
   "source": [
    "root = TreeNode(12)\n",
    "root.left = TreeNode(7)\n",
    "root.right = TreeNode(1)\n",
    "root.left.left = TreeNode(9)\n",
    "root.right.left = TreeNode(10)\n",
    "root.right.right = TreeNode(5)"
   ]
  },
  {
   "cell_type": "markdown",
   "metadata": {},
   "source": [
    "### Binary Tree Level Order Traversal (easy)"
   ]
  },
  {
   "cell_type": "markdown",
   "metadata": {},
   "source": [
    "Given a binary tree, populate an array to represent its level-by-level traversal. You should populate the values of all nodes of each level from left to right in separate sub-arrays."
   ]
  },
  {
   "cell_type": "code",
   "execution_count": 16,
   "metadata": {},
   "outputs": [],
   "source": [
    "def get_depth(root):\n",
    "    def helper(root, i):\n",
    "        if not root.left and not root.right:\n",
    "            return i\n",
    "        r,l = 0,0\n",
    "        if root.left:\n",
    "            l = helper(root.left, i+1)\n",
    "        if root.right:\n",
    "            r = helper(root.right, i+1)\n",
    "        return max(l,r)\n",
    "    return helper(root, 0)\n",
    "\n",
    "def traverse(root):\n",
    "    res = [[] for _ in range(get_depth(root)+1)]\n",
    "    def helper(root, i):\n",
    "        res[i].append(root.val)\n",
    "        if root.left:\n",
    "            helper(root.left, i+1)\n",
    "        if root.right:\n",
    "            helper(root.right, i+1)\n",
    "    helper(root, 0)\n",
    "    return res"
   ]
  },
  {
   "cell_type": "code",
   "execution_count": 17,
   "metadata": {},
   "outputs": [
    {
     "data": {
      "text/plain": [
       "[[12], [7, 1], [9, 10, 5]]"
      ]
     },
     "execution_count": 17,
     "metadata": {},
     "output_type": "execute_result"
    }
   ],
   "source": [
    "get_depth(root)\n",
    "traverse(root)"
   ]
  },
  {
   "cell_type": "code",
   "execution_count": 21,
   "metadata": {},
   "outputs": [],
   "source": [
    "from collections import deque\n",
    "def traverse(root):\n",
    "    res = []\n",
    "    q = deque([root])\n",
    "    while q:\n",
    "        num_vals = len(q)\n",
    "        level_res = []\n",
    "        for _ in range(num_vals):\n",
    "            r = q.popleft()\n",
    "            level_res.append(r.val)\n",
    "            if r.left:\n",
    "                q.append(r.left)\n",
    "            if r.right:\n",
    "                q.append(r.right)\n",
    "        res.append(level_res)\n",
    "    return res\n",
    "            \n",
    "            "
   ]
  },
  {
   "cell_type": "code",
   "execution_count": 22,
   "metadata": {},
   "outputs": [
    {
     "data": {
      "text/plain": [
       "[[12], [7, 1], [9, 10, 5]]"
      ]
     },
     "execution_count": 22,
     "metadata": {},
     "output_type": "execute_result"
    }
   ],
   "source": [
    "traverse(root)"
   ]
  },
  {
   "cell_type": "code",
   "execution_count": 28,
   "metadata": {},
   "outputs": [
    {
     "data": {
      "text/plain": [
       "3"
      ]
     },
     "execution_count": 28,
     "metadata": {},
     "output_type": "execute_result"
    }
   ],
   "source": [
    "def get_depth(root):\n",
    "    q = deque([root])\n",
    "    depth = 0\n",
    "    while q:\n",
    "        has_next_level = False\n",
    "        num_items = len(q)\n",
    "        for _ in range(num_items):\n",
    "            r = q.popleft()\n",
    "            if r.right:\n",
    "                q.append(r.right)\n",
    "            if r.left:\n",
    "                q.append(r.left)\n",
    "        depth += 1\n",
    "    return depth\n",
    "get_depth(root)"
   ]
  },
  {
   "cell_type": "markdown",
   "metadata": {},
   "source": [
    "### Reverse level order traversal"
   ]
  },
  {
   "cell_type": "code",
   "execution_count": 42,
   "metadata": {},
   "outputs": [],
   "source": [
    "def reverse_traverse(root):\n",
    "    q = deque([root])\n",
    "    res = deque()\n",
    "    while q:\n",
    "        num_items = len(q)\n",
    "        level_res = deque()\n",
    "        for _ in range(num_items):\n",
    "            r = q.popleft()\n",
    "            level_res.append(r.val)\n",
    "            if r.left:\n",
    "                q.append(r.left)\n",
    "            if r.right:\n",
    "                q.append(r.right)\n",
    "        res.appendleft(level_res)\n",
    "    return res"
   ]
  },
  {
   "cell_type": "code",
   "execution_count": 43,
   "metadata": {},
   "outputs": [
    {
     "data": {
      "text/plain": [
       "deque([deque([9, 10, 5]), deque([7, 1]), deque([12])])"
      ]
     },
     "execution_count": 43,
     "metadata": {},
     "output_type": "execute_result"
    }
   ],
   "source": [
    "reverse_traverse(root)"
   ]
  },
  {
   "cell_type": "markdown",
   "metadata": {},
   "source": [
    "### zigzag order traversal"
   ]
  },
  {
   "cell_type": "code",
   "execution_count": null,
   "metadata": {},
   "outputs": [],
   "source": [
    "def zig_traverse(root):\n",
    "    q = deque([root])\n",
    "    res = deque()\n",
    "    while q:\n",
    "        num_items = len(q)\n",
    "        level_res = deque()\n",
    "        for _ in range(num_items):\n",
    "            r = q.popleft()\n",
    "            level_res.append(r.val)\n",
    "            if r.left:\n",
    "                q.append(r.left)\n",
    "            if r.right:\n",
    "                q.append(r.right)\n",
    "        res.appendleft(level_res)\n",
    "    return res"
   ]
  },
  {
   "cell_type": "markdown",
   "metadata": {},
   "source": [
    "### Connect All Level Order Siblings (medium) -- Problem 1"
   ]
  },
  {
   "cell_type": "code",
   "execution_count": null,
   "metadata": {},
   "outputs": [],
   "source": [
    "def connect_level_order(tree):\n",
    "    pass"
   ]
  }
 ],
 "metadata": {
  "kernelspec": {
   "display_name": "Python 3",
   "language": "python",
   "name": "python3"
  },
  "language_info": {
   "codemirror_mode": {
    "name": "ipython",
    "version": 3
   },
   "file_extension": ".py",
   "mimetype": "text/x-python",
   "name": "python",
   "nbconvert_exporter": "python",
   "pygments_lexer": "ipython3",
   "version": "3.9.1"
  }
 },
 "nbformat": 4,
 "nbformat_minor": 4
}
