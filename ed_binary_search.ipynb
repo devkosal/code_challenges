{
 "cells": [
  {
   "cell_type": "markdown",
   "metadata": {},
   "source": [
    "https://www.educative.io/courses/grokking-the-coding-interview/R8LzZQlj8lO"
   ]
  },
  {
   "cell_type": "code",
   "execution_count": 1,
   "metadata": {},
   "outputs": [
    {
     "name": "stdout",
     "output_type": "stream",
     "text": [
      "2\n",
      "4\n",
      "0\n",
      "2\n"
     ]
    }
   ],
   "source": [
    "def binary_search(arr, key):\n",
    "    reverse = arr[0] > arr[-1]\n",
    "    if reverse:\n",
    "        arr.reverse()\n",
    "    def helper(low, high):\n",
    "        if low > high:\n",
    "            return -1\n",
    "        mid = (low+high)//2\n",
    "        if arr[mid] == key:\n",
    "            return mid if not reverse else len(arr) - 1 - mid\n",
    "        elif arr[mid] > key:\n",
    "            high = mid - 1\n",
    "        elif arr[mid] < key:\n",
    "            low = mid + 1\n",
    "        return helper(low, high)\n",
    "\n",
    "    return helper(0, len(arr)-1)\n",
    "\n",
    "def main():\n",
    "    print(binary_search([4, 6, 10], 10))\n",
    "    print(binary_search([1, 2, 3, 4, 5, 6, 7], 5))\n",
    "    print(binary_search([10, 6, 4], 10))\n",
    "    print(binary_search([10, 6, 4], 4))\n",
    "\n",
    "\n",
    "main()\n"
   ]
  },
  {
   "cell_type": "markdown",
   "metadata": {},
   "source": [
    "## Find Next Letter"
   ]
  },
  {
   "cell_type": "markdown",
   "metadata": {},
   "source": [
    "```\n",
    "Given an array of lowercase letters sorted in ascending order, find the smallest letter in the given array greater than a given ‘key’.\n",
    "\n",
    "Assume the given array is a circular list, which means that the last letter is assumed to be connected with the first letter. This also means that the smallest letter in the given array is greater than the last letter of the array and is also the first letter of the array.\n",
    "\n",
    "Write a function to return the next letter of the given ‘key’.\n",
    "\n",
    "Example 1:\n",
    "\n",
    "Input: ['a', 'c', 'f', 'h'], key = 'f'\n",
    "Output: 'h'\n",
    "Explanation: The smallest letter greater than 'f' is 'h' in the given array.\n",
    "Example 2:\n",
    "\n",
    "Input: ['a', 'c', 'f', 'h'], key = 'b'\n",
    "Output: 'c'\n",
    "Explanation: The smallest letter greater than 'b' is 'c'.\n",
    "Example 3:\n",
    "\n",
    "Input: ['a', 'c', 'f', 'h'], key = 'm'\n",
    "Output: 'a'\n",
    "Explanation: As the array is assumed to be circular, the smallest letter greater than 'm' is 'a'.\n",
    "Example 4:\n",
    "\n",
    "Input: ['a', 'c', 'f', 'h'], key = 'h'\n",
    "Output: 'a'\n",
    "Explanation: As the array is assumed to be circular, the smallest letter greater than 'h' is 'a'.\n",
    "\n",
    "```"
   ]
  },
  {
   "cell_type": "code",
   "execution_count": 4,
   "metadata": {},
   "outputs": [
    {
     "name": "stdout",
     "output_type": "stream",
     "text": [
      "h\n",
      "c\n",
      "a\n"
     ]
    }
   ],
   "source": [
    "def search_next_letter(letters, key):\n",
    "    if key > letters[-1] or key < letters[0]:\n",
    "        return letters[0]\n",
    "    def helper(low, high):\n",
    "        # if low > high:\n",
    "        #     return letters[0]\n",
    "        mid = (low+high)//2\n",
    "        m = letters[mid]\n",
    "        if (mid < len(letters) and m <= key and letters[mid+1] > key):\n",
    "            return letters[mid+1]\n",
    "        elif m > key:\n",
    "            high = mid - 1\n",
    "        elif m < key:\n",
    "            low = mid + 1\n",
    "        return helper(low, high)\n",
    "        \n",
    "    return helper(0, len(letters)-1)\n",
    "\n",
    "\n",
    "def main():\n",
    "    print(search_next_letter(['a', 'c', 'f', 'h'], 'f'))\n",
    "    print(search_next_letter(['a', 'c', 'f', 'h'], 'b'))\n",
    "    print(search_next_letter(['a', 'c', 'f', 'h'], 'm'))\n",
    "\n",
    "\n",
    "main()\n"
   ]
  },
  {
   "cell_type": "markdown",
   "metadata": {},
   "source": [
    "### Minimum Difference Element (medium)"
   ]
  },
  {
   "cell_type": "markdown",
   "metadata": {},
   "source": [
    "```\n",
    "Given an array of numbers sorted in ascending order, find the element in the array that has the minimum difference with the given ‘key’.\n",
    "\n",
    "Example 1:\n",
    "\n",
    "Input: [4, 6, 10], key = 7\n",
    "Output: 6\n",
    "Explanation: The difference between the key '7' and '6' is minimum than any other number in the array \n",
    "Example 2:\n",
    "\n",
    "Input: [4, 6, 10], key = 4\n",
    "Output: 4\n",
    "Example 3:\n",
    "\n",
    "Input: [1, 3, 8, 10, 15], key = 12\n",
    "Output: 10\n",
    "Example 4:\n",
    "\n",
    "Input: [4, 6, 10], key = 17\n",
    "Output: 10\n",
    "```"
   ]
  },
  {
   "cell_type": "code",
   "execution_count": 1,
   "metadata": {},
   "outputs": [
    {
     "name": "stdout",
     "output_type": "stream",
     "text": [
      "6\n",
      "4\n",
      "10\n",
      "10\n"
     ]
    }
   ],
   "source": [
    "\n",
    "def search_min_diff_element(arr, key):\n",
    "    if key <= arr[0]:\n",
    "        return arr[0]\n",
    "    if key >= arr[-1]:\n",
    "        return arr[-1]\n",
    "    def helper(low, high):\n",
    "        if low > high:\n",
    "            return [-1,-1]\n",
    "        mid = (low+high)//2\n",
    "        mid_num = arr[mid]\n",
    "        if mid < len(arr)-1 and mid_num <= key <= arr[mid+1]:\n",
    "            return [arr[mid-1], mid_num]\n",
    "        elif key > mid_num:\n",
    "            low = mid + 1\n",
    "        elif key < mid_num:\n",
    "            high = mid - 1\n",
    "        return helper(low, high)\n",
    "    \n",
    "    res = helper(0,len(arr)-1)\n",
    "    if res == [-1,-1]: \n",
    "        return -1\n",
    "    else:\n",
    "        return res[0] if abs(key-res[0]) < abs(key-res[1]) else res[1]\n",
    "\n",
    "\n",
    "def main():\n",
    "    print(search_min_diff_element([4, 6, 10], 7))\n",
    "    print(search_min_diff_element([4, 6, 10], 4))\n",
    "    print(search_min_diff_element([1, 3, 8, 10, 15], 12))\n",
    "    print(search_min_diff_element([4, 6, 10], 17))\n",
    "\n",
    "\n",
    "main()\n"
   ]
  },
  {
   "cell_type": "code",
   "execution_count": null,
   "metadata": {},
   "outputs": [],
   "source": []
  }
 ],
 "metadata": {
  "kernelspec": {
   "display_name": "Python 3",
   "language": "python",
   "name": "python3"
  },
  "language_info": {
   "codemirror_mode": {
    "name": "ipython",
    "version": 3
   },
   "file_extension": ".py",
   "mimetype": "text/x-python",
   "name": "python",
   "nbconvert_exporter": "python",
   "pygments_lexer": "ipython3",
   "version": "3.8.5"
  }
 },
 "nbformat": 4,
 "nbformat_minor": 4
}
