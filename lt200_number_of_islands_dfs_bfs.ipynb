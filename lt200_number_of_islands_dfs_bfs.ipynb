{
 "cells": [
  {
   "cell_type": "markdown",
   "metadata": {
    "ExecuteTime": {
     "end_time": "2020-09-10T04:55:59.882613Z",
     "start_time": "2020-09-10T04:55:59.879280Z"
    }
   },
   "source": [
    "https://leetcode.com/problems/number-of-islands/"
   ]
  },
  {
   "cell_type": "markdown",
   "metadata": {},
   "source": [
    "# DFS"
   ]
  },
  {
   "cell_type": "code",
   "execution_count": 54,
   "metadata": {
    "ExecuteTime": {
     "end_time": "2020-09-10T05:16:01.002745Z",
     "start_time": "2020-09-10T05:16:00.995975Z"
    }
   },
   "outputs": [],
   "source": [
    "class Solution:     \n",
    "    def dfs(self, i, j):\n",
    "        if i<0 or j<0 or i>=self.n or j>=self.m or self.grid[i][j]!=\"1\":\n",
    "            return\n",
    "        self.grid[i][j] = \"v\"\n",
    "        \n",
    "        self.dfs(i+1,j)\n",
    "        self.dfs(i-1,j)\n",
    "        self.dfs(i,j+1)\n",
    "        self.dfs(i,j-1)\n",
    "        \n",
    "    def numIslands(self, grid) -> int:\n",
    "        self.grid = grid\n",
    "        count = 0\n",
    "        self.n = len(self.grid)\n",
    "        self.m = len(self.grid[0]) if self.n > 0 else 0\n",
    "        if not self.n or not self.m:\n",
    "            return count\n",
    "        \n",
    "        for i in range(self.n):\n",
    "            for j in range(self.m):\n",
    "                if self.grid[i][j] == \"1\":\n",
    "                    self.dfs(i, j)\n",
    "                    count += 1\n",
    "        return count\n",
    "            "
   ]
  },
  {
   "cell_type": "code",
   "execution_count": 56,
   "metadata": {
    "ExecuteTime": {
     "end_time": "2020-09-10T05:16:06.195004Z",
     "start_time": "2020-09-10T05:16:06.191344Z"
    }
   },
   "outputs": [
    {
     "name": "stdout",
     "output_type": "stream",
     "text": [
      "['1', '1', '1', '1', '0']\n",
      "['1', '1', '0', '1', '0']\n",
      "['1', '1', '0', '0', '0']\n",
      "['0', '0', '0', '0', '0']\n"
     ]
    }
   ],
   "source": [
    "# test case\n",
    "t1 = [[\"1\",\"1\",\"1\",\"1\",\"0\"],[\"1\",\"1\",\"0\",\"1\",\"0\"],[\"1\",\"1\",\"0\",\"0\",\"0\"],[\"0\",\"0\",\"0\",\"0\",\"0\"]]\n",
    "for t in t1:\n",
    "    print(t)"
   ]
  },
  {
   "cell_type": "code",
   "execution_count": 57,
   "metadata": {
    "ExecuteTime": {
     "end_time": "2020-09-10T05:16:06.563730Z",
     "start_time": "2020-09-10T05:16:06.559838Z"
    }
   },
   "outputs": [
    {
     "data": {
      "text/plain": [
       "1"
      ]
     },
     "execution_count": 57,
     "metadata": {},
     "output_type": "execute_result"
    }
   ],
   "source": [
    "s = Solution()\n",
    "s.numIslands(t1)"
   ]
  },
  {
   "cell_type": "markdown",
   "metadata": {},
   "source": [
    "# BFS"
   ]
  },
  {
   "cell_type": "code",
   "execution_count": null,
   "metadata": {},
   "outputs": [],
   "source": []
  }
 ],
 "metadata": {
  "kernelspec": {
   "display_name": "Python (data)",
   "language": "python",
   "name": "data"
  },
  "language_info": {
   "codemirror_mode": {
    "name": "ipython",
    "version": 3
   },
   "file_extension": ".py",
   "mimetype": "text/x-python",
   "name": "python",
   "nbconvert_exporter": "python",
   "pygments_lexer": "ipython3",
   "version": "3.8.3"
  }
 },
 "nbformat": 4,
 "nbformat_minor": 4
}
