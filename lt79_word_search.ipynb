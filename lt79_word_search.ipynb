{
 "cells": [
  {
   "cell_type": "markdown",
   "metadata": {},
   "source": [
    "https://leetcode.com/problems/word-search/"
   ]
  },
  {
   "cell_type": "markdown",
   "metadata": {},
   "source": [
    "https://www.youtube.com/watch?v=oyRp1IKWqU4"
   ]
  },
  {
   "cell_type": "code",
   "execution_count": 1,
   "metadata": {
    "ExecuteTime": {
     "end_time": "2019-11-13T18:39:09.847056Z",
     "start_time": "2019-11-13T18:39:09.844043Z"
    }
   },
   "outputs": [],
   "source": [
    "board = [['A','B','C','E'],\n",
    "  ['S','F','C','S'],\n",
    "  ['A','D','E','E']]"
   ]
  },
  {
   "cell_type": "code",
   "execution_count": 2,
   "metadata": {
    "ExecuteTime": {
     "end_time": "2019-11-13T18:39:10.707226Z",
     "start_time": "2019-11-13T18:39:10.694654Z"
    }
   },
   "outputs": [],
   "source": [
    "class Solution:\n",
    "    def where(self, ltr):\n",
    "        instances = []\n",
    "        for row in range(len(self.board)):\n",
    "            for col in range(len(self.board[row])):\n",
    "                if self.board[row][col] == ltr:\n",
    "                    instances.append([row,col])\n",
    "        return instances\n",
    "            \n",
    "    def directions(self,x,y):\n",
    "        n,m = len(self.board), len(self.board[0])\n",
    "        idxs = [(x-1,y), (x+1,y), (x,y-1), (x,y+1)]\n",
    "        return [[x,y] for (x,y) in idxs if x >= 0  and x < n and y >= 0  and y < m]\n",
    "\n",
    "    def is_adjacent(self, idx, ltr):\n",
    "        x,y = idx[0],idx[1]\n",
    "        dirs = self.directions(x,y)\n",
    "        print(dirs)\n",
    "        finds = [d for d in dirs if self.board[d[0]][d[1]]==ltr and d not in self.used]\n",
    "        if len(finds) > 0:\n",
    "            return finds[0]\n",
    "        else:\n",
    "            return None\n",
    "        \n",
    "    def exist(self, board, word: str) -> bool:\n",
    "        self.board = board\n",
    "        instances = self.where(word[0])\n",
    "        i,count = 0,len(instances)\n",
    "        while count > 0:\n",
    "            self.used = [instances[i]]\n",
    "            word_so_far = word[0]\n",
    "            for ltr in word[1:]:\n",
    "                # if func(self.used[-1],ltr): self.used.append(func(self.used[-1],ltr)) else: break\n",
    "                res = self.is_adjacent(self.used[-1], ltr)\n",
    "                if res: \n",
    "                    self.used.append(res)\n",
    "                    word_so_far += ltr\n",
    "                else: \n",
    "                    break\n",
    "            if word_so_far == word:\n",
    "                print(\"true\")\n",
    "                return\n",
    "            i += 1\n",
    "            count -= 1\n",
    "        print(\"false\")"
   ]
  },
  {
   "cell_type": "code",
   "execution_count": 3,
   "metadata": {
    "ExecuteTime": {
     "end_time": "2019-11-13T18:40:19.461313Z",
     "start_time": "2019-11-13T18:40:19.458708Z"
    }
   },
   "outputs": [],
   "source": [
    "sol = Solution()"
   ]
  },
  {
   "cell_type": "code",
   "execution_count": null,
   "metadata": {},
   "outputs": [],
   "source": [
    "sol.exist(board,\"SEE\")"
   ]
  }
 ],
 "metadata": {
  "kernelspec": {
   "display_name": "Python 3",
   "language": "python",
   "name": "python3"
  },
  "language_info": {
   "codemirror_mode": {
    "name": "ipython",
    "version": 3
   },
   "file_extension": ".py",
   "mimetype": "text/x-python",
   "name": "python",
   "nbconvert_exporter": "python",
   "pygments_lexer": "ipython3",
   "version": "3.7.4"
  },
  "varInspector": {
   "cols": {
    "lenName": 16,
    "lenType": 16,
    "lenVar": 40
   },
   "kernels_config": {
    "python": {
     "delete_cmd_postfix": "",
     "delete_cmd_prefix": "del ",
     "library": "var_list.py",
     "varRefreshCmd": "print(var_dic_list())"
    },
    "r": {
     "delete_cmd_postfix": ") ",
     "delete_cmd_prefix": "rm(",
     "library": "var_list.r",
     "varRefreshCmd": "cat(var_dic_list()) "
    }
   },
   "types_to_exclude": [
    "module",
    "function",
    "builtin_function_or_method",
    "instance",
    "_Feature"
   ],
   "window_display": false
  }
 },
 "nbformat": 4,
 "nbformat_minor": 2
}
