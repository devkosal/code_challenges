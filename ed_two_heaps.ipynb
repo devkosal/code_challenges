{
 "cells": [
  {
   "cell_type": "markdown",
   "id": "respiratory-holder",
   "metadata": {},
   "source": [
    "### Find the median of a Number Stream"
   ]
  },
  {
   "cell_type": "code",
   "execution_count": 3,
   "id": "valued-administration",
   "metadata": {
    "scrolled": true
   },
   "outputs": [
    {
     "ename": "IndentationError",
     "evalue": "expected an indented block (<ipython-input-3-8e3ad5ef9f3f>, line 59)",
     "output_type": "error",
     "traceback": [
      "\u001b[0;36m  File \u001b[0;32m\"<ipython-input-3-8e3ad5ef9f3f>\"\u001b[0;36m, line \u001b[0;32m59\u001b[0m\n\u001b[0;31m    medianOfAStream = MedianOfAStream()\u001b[0m\n\u001b[0m                                       ^\u001b[0m\n\u001b[0;31mIndentationError\u001b[0m\u001b[0;31m:\u001b[0m expected an indented block\n"
     ]
    }
   ],
   "source": [
    "import heapq\n",
    "\n",
    "class MedianOfAStream:\n",
    "    def __init__(self):\n",
    "        self.left = []\n",
    "        self.right = []\n",
    "        self.median = None\n",
    "\n",
    "    def insert_num(self, num):\n",
    "        if not self.left and not self.right:\n",
    "            self.left.append(-num)\n",
    "            return\n",
    "        if len(self.left) == 1 and not self.right:\n",
    "            self.right.append(num)\n",
    "            if -self.left[0] > self.right[0]:\n",
    "                self.left, self.right = self.right, self.left\n",
    "                # swtich signs as well for heap's sake\n",
    "                self.left[0] = -self.left[0]\n",
    "                self.right[0] = -self.right[0]\n",
    "            return \n",
    "        \n",
    "        left_max, right_min = -self.left[0], self.right[0]\n",
    "\n",
    "        if num >= left_max and num <= right_min:\n",
    "            if not self.median:\n",
    "                self.median = num\n",
    "            else:\n",
    "                if self.median > num:\n",
    "                    heapq.heappush(self.right, self.median)\n",
    "                    heapq.heappush(self.left, -num)\n",
    "                else:\n",
    "                    heapq.heappush(self.right, num)\n",
    "                    heapq.heappush(self.left, -self.median)\n",
    "                self.median = None\n",
    "            return\n",
    "        elif num <= left_max:\n",
    "            if self.median:\n",
    "                heapq.heappush(self.left, -num)\n",
    "                heapq.heappush(self.right, self.median)\n",
    "                self.median = None\n",
    "            else:\n",
    "                self.median = -heapq.heappushpop(self.left, -num)\n",
    "        elif num >= right_min:\n",
    "            if self.median:\n",
    "                heapq.heappush(self.right, num)\n",
    "                heapq.heappush(self.left, -self.median)\n",
    "                self.median = None\n",
    "            else:\n",
    "                self.median = heapq.heappushpop(self.right, num)\n",
    "\n",
    "\n",
    "    def find_median(self):\n",
    "        return self.median if self.median else (-self.left[0] + self.right[0])/2\n",
    "\n",
    "    \n",
    "    def remove_num(self, num):\n",
    "        if self.median:\n",
    "            if num < self.median:\n",
    "                \n",
    "            \n",
    "\n",
    "medianOfAStream = MedianOfAStream()\n",
    "medianOfAStream.insert_num(3)\n",
    "medianOfAStream.insert_num(1)\n",
    "print(\"The median is: \" + str(medianOfAStream.find_median()))\n",
    "medianOfAStream.insert_num(5)\n",
    "print(\"The median is: \" + str(medianOfAStream.find_median()))\n",
    "medianOfAStream.insert_num(4)\n",
    "print(\"The median is: \" + str(medianOfAStream.find_median()))"
   ]
  },
  {
   "cell_type": "code",
   "execution_count": null,
   "id": "qualified-indian",
   "metadata": {},
   "outputs": [],
   "source": [
    "class SlidingWindowMedian:\n",
    "\n",
    "    def find_sliding_window_median(self, nums, k):\n",
    "        result = []\n",
    "        for window_start in range(len(nums)-k):\n",
    "            \n",
    "        return result\n",
    "\n",
    "\n",
    "slidingWindowMedian = SlidingWindowMedian()\n",
    "result = slidingWindowMedian.find_sliding_window_median(\n",
    "    [1, 2, -1, 3, 5], 2)\n",
    "print(\"Sliding window medians are: \" + str(result))\n",
    "\n",
    "slidingWindowMedian = SlidingWindowMedian()\n",
    "result = slidingWindowMedian.find_sliding_window_median(\n",
    "    [1, 2, -1, 3, 5], 3)\n",
    "print(\"Sliding window medians are: \" + str(result))\n",
    "\n",
    "\n"
   ]
  },
  {
   "cell_type": "markdown",
   "id": "seeing-mount",
   "metadata": {},
   "source": [
    "### Maximizing Capital"
   ]
  },
  {
   "cell_type": "markdown",
   "id": "aware-clark",
   "metadata": {},
   "source": [
    "https://www.educative.io/courses/grokking-the-coding-interview/B6x69OLX4jY"
   ]
  },
  {
   "cell_type": "markdown",
   "id": "empty-estate",
   "metadata": {},
   "source": [
    "came up with an alternative solution here (brute force but still cool)"
   ]
  },
  {
   "cell_type": "code",
   "execution_count": null,
   "id": "hungry-dream",
   "metadata": {},
   "outputs": [],
   "source": [
    "def find_maximum_capital(capital, profits, numberOfProjects, initialCapital):\n",
    "    ln = len(capital)\n",
    "    def helper(i, currentCapital, remaining_num_projects):\n",
    "        if i >= ln or remaining_num_projects == 0:\n",
    "            return 0\n",
    "        required_capital = capital[i]\n",
    "        # case 1\n",
    "        case1 = 0\n",
    "        if currentCapital >= required_capital:\n",
    "            new_capital = currentCapital + profits[i]\n",
    "            case1 = profits[i] + helper(i+1, new_capital, remaining_num_projects-1)\n",
    "        case2 = helper(i+1, currentCapital, remaining_num_projects)\n",
    "        return max(case1, case2)\n",
    "    return helper(0, initialCapital, numberOfProjects) + initialCapital\n",
    "\n",
    "def main():\n",
    "\n",
    "    print(\"Maximum capital: \" +\n",
    "                str(find_maximum_capital([0, 1, 2], [1, 2, 3], 2, 1)))\n",
    "    print(\"Maximum capital: \" +\n",
    "                str(find_maximum_capital([0, 1, 2, 3], [1, 2, 3, 5], 3, 0)))\n",
    "\n",
    "\n",
    "main()\n",
    "\n"
   ]
  },
  {
   "cell_type": "markdown",
   "id": "loving-supplier",
   "metadata": {},
   "source": [
    "### Next Interval"
   ]
  },
  {
   "cell_type": "markdown",
   "id": "marine-lithuania",
   "metadata": {},
   "source": [
    "https://www.educative.io/courses/grokking-the-coding-interview/gkkmqXO6zrY"
   ]
  },
  {
   "cell_type": "code",
   "execution_count": 4,
   "id": "rolled-oxygen",
   "metadata": {},
   "outputs": [
    {
     "name": "stdout",
     "output_type": "stream",
     "text": [
      "Next interval indices are: [1, 2, -1]\n",
      "Next interval indices are: [2, -1, -1]\n"
     ]
    }
   ],
   "source": [
    "import heapq\n",
    "def find_next_interval(intervals):\n",
    "    result = []\n",
    "    min_start_heap = []\n",
    "    for i,it in enumerate(intervals):\n",
    "        heapq.heappush(min_start_heap, (it[0], i))\n",
    "    \n",
    "    for st,en in intervals:\n",
    "        heap = min_start_heap.copy()\n",
    "        while heap:\n",
    "            start, i = heapq.heappop(heap)\n",
    "            if en <= start:\n",
    "                result.append(i)\n",
    "                break\n",
    "            elif not heap:\n",
    "                result.append(-1)\n",
    "    return result\n",
    "\n",
    "\n",
    "def main():\n",
    "\n",
    "    result = find_next_interval(\n",
    "        [(2, 3), (3, 4), (5, 6)])\n",
    "    print(\"Next interval indices are: \" + str(result))\n",
    "\n",
    "    result = find_next_interval(\n",
    "        [(3, 4), (1, 5), (4, 6)])\n",
    "    print(\"Next interval indices are: \" + str(result))\n",
    "\n",
    "\n",
    "main()\n"
   ]
  },
  {
   "cell_type": "code",
   "execution_count": null,
   "id": "greater-ferry",
   "metadata": {},
   "outputs": [],
   "source": []
  }
 ],
 "metadata": {
  "kernelspec": {
   "display_name": "Python 3",
   "language": "python",
   "name": "python3"
  },
  "language_info": {
   "codemirror_mode": {
    "name": "ipython",
    "version": 3
   },
   "file_extension": ".py",
   "mimetype": "text/x-python",
   "name": "python",
   "nbconvert_exporter": "python",
   "pygments_lexer": "ipython3",
   "version": "3.9.2"
  }
 },
 "nbformat": 4,
 "nbformat_minor": 5
}
