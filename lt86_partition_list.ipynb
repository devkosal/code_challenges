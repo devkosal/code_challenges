{
 "cells": [
  {
   "cell_type": "markdown",
   "metadata": {},
   "source": [
    "https://leetcode.com/problems/partition-list/"
   ]
  },
  {
   "cell_type": "code",
   "execution_count": 1,
   "metadata": {},
   "outputs": [],
   "source": [
    "# Definition for singly-linked list.\n",
    "class ListNode:\n",
    "    def __init__(self, x):\n",
    "        self.val = x\n",
    "        self.next = None\n",
    "\n",
    "class Solution:\n",
    "    def partition(self, head: ListNode, x: int) -> ListNode:\n",
    "        if not head: return head\n",
    "        L,R = None,None\n",
    "        node = head\n",
    "        while node:\n",
    "            if node.val < x:\n",
    "                if L:\n",
    "                    L.next = node\n",
    "                    L = L.next\n",
    "                else:\n",
    "                    L = node\n",
    "                    L_head = node\n",
    "            else:\n",
    "                if R:\n",
    "                    R.next = node\n",
    "                    R = R.next\n",
    "                else:\n",
    "                    R = node\n",
    "                    R_head = node\n",
    "            node = node.next\n",
    "        if not R: return L_head\n",
    "        R.next = None\n",
    "        if not L: return R_head\n",
    "        L.next = R_head\n",
    "        return L_head"
   ]
  },
  {
   "cell_type": "code",
   "execution_count": null,
   "metadata": {},
   "outputs": [],
   "source": []
  }
 ],
 "metadata": {
  "kernelspec": {
   "display_name": "Python3 (fastai)",
   "language": "python",
   "name": "fastai"
  },
  "language_info": {
   "codemirror_mode": {
    "name": "ipython",
    "version": 3
   },
   "file_extension": ".py",
   "mimetype": "text/x-python",
   "name": "python",
   "nbconvert_exporter": "python",
   "pygments_lexer": "ipython3",
   "version": "3.7.5"
  }
 },
 "nbformat": 4,
 "nbformat_minor": 2
}
