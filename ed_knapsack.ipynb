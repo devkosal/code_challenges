{
 "cells": [
  {
   "cell_type": "markdown",
   "metadata": {},
   "source": [
    "https://www.educative.io/module/lesson/algorithms-in-python/gxZKVEEno33"
   ]
  },
  {
   "cell_type": "code",
   "execution_count": 3,
   "metadata": {
    "ExecuteTime": {
     "end_time": "2020-11-20T18:44:33.452719Z",
     "start_time": "2020-11-20T18:44:33.447963Z"
    }
   },
   "outputs": [],
   "source": [
    "def knap_sack_recursive(profits, profits_length, weights, capacity, current_index):\n",
    "    \"\"\"\n",
    "    Finds the maximum value that can be put in a knapsack\n",
    "    :param profits: The profit that can be gained by each item\n",
    "    :param profits_length: The number of pieces of jewelry\n",
    "    :param weights: The weight of each piece of jewelry\n",
    "    :param capacity: The maximum weight that the knapsack can hold\n",
    "    :param current_index: Current index of the weights\n",
    "    :return: Maximum value that can be put in a knapsack\n",
    "    \"\"\"\n",
    "    # Base Case\n",
    "    if capacity <= 0 or current_index >= profits_length or current_index < 0:\n",
    "        return 0\n",
    "\n",
    "    # If weight of the nth item is more than Knapsack, then\n",
    "    # this item cannot be included in the optimal solution\n",
    "    profit1 = 0\n",
    "    if weights[current_index] <= capacity:\n",
    "        profit1 = profits[current_index] + knap_sack_recursive(profits, profits_length, weights,\n",
    "                                                     capacity - weights[current_index], current_index + 1)\n",
    "\n",
    "    profit2 = knap_sack_recursive(profits, profits_length, weights, capacity, current_index + 1)\n",
    "\n",
    "    # Return the maximum of two cases:\n",
    "    # (1) nth item included\n",
    "    # (2) not included\n",
    "    return max(profit1, profit2)\n",
    "\n",
    "\n",
    "def knap_sack(profits, weights, capacity):\n",
    "    \"\"\"\n",
    "    Finds the maximum value that can be put in a knapsack\n",
    "    :param profits: The profit that can be gained by each\n",
    "    :param profits_length: The number of pieces of jewelry\n",
    "    :param weights: The weight of each piece of jewelry\n",
    "    :param capacity: The maximum weight that the knapsack can hold\n",
    "    :return: Maximum value that can be put in a knapsack\n",
    "    \"\"\"\n",
    "    profits_length = len(profits)\n",
    "    return knap_sack_recursive(profits, profits_length, weights, capacity, 0)"
   ]
  },
  {
   "cell_type": "code",
   "execution_count": 4,
   "metadata": {
    "ExecuteTime": {
     "end_time": "2020-11-20T18:44:35.980415Z",
     "start_time": "2020-11-20T18:44:35.976117Z"
    }
   },
   "outputs": [
    {
     "name": "stdout",
     "output_type": "stream",
     "text": [
      "Total knapsack profit =  22\n",
      "Total knapsack profit =  17\n"
     ]
    }
   ],
   "source": [
    "# Driver code to test the above function\n",
    "profits = [1, 6, 10, 16]  # The values of the jewelry\n",
    "weights = [1, 2, 3, 5]  # The weight of each\n",
    "print(\"Total knapsack profit = \", knap_sack(profits, weights, 7))\n",
    "print(\"Total knapsack profit = \", knap_sack(profits, weights, 6))"
   ]
  },
  {
   "cell_type": "code",
   "execution_count": null,
   "metadata": {},
   "outputs": [],
   "source": []
  }
 ],
 "metadata": {
  "kernelspec": {
   "display_name": "Python (data)",
   "language": "python",
   "name": "data"
  },
  "language_info": {
   "codemirror_mode": {
    "name": "ipython",
    "version": 3
   },
   "file_extension": ".py",
   "mimetype": "text/x-python",
   "name": "python",
   "nbconvert_exporter": "python",
   "pygments_lexer": "ipython3",
   "version": "3.8.3"
  }
 },
 "nbformat": 4,
 "nbformat_minor": 2
}
