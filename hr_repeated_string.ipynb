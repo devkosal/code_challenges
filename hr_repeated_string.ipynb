{
 "cells": [
  {
   "cell_type": "markdown",
   "metadata": {},
   "source": [
    "https://www.hackerrank.com/challenges/repeated-string/problem"
   ]
  },
  {
   "cell_type": "code",
   "execution_count": 1,
   "metadata": {
    "ExecuteTime": {
     "end_time": "2020-09-23T12:59:35.749562Z",
     "start_time": "2020-09-23T12:59:35.745455Z"
    }
   },
   "outputs": [],
   "source": [
    "# Complete the repeatedString function below.\n",
    "def repeatedString(s, n):\n",
    "    c = s.count(\"a\")\n",
    "    m = len(s)\n",
    "    quot = n // m\n",
    "    rem = n % m\n",
    "    return quot*c + s[:rem].count(\"a\")"
   ]
  },
  {
   "cell_type": "code",
   "execution_count": null,
   "metadata": {},
   "outputs": [],
   "source": []
  }
 ],
 "metadata": {
  "kernelspec": {
   "display_name": "Python (data)",
   "language": "python",
   "name": "data"
  },
  "language_info": {
   "codemirror_mode": {
    "name": "ipython",
    "version": 3
   },
   "file_extension": ".py",
   "mimetype": "text/x-python",
   "name": "python",
   "nbconvert_exporter": "python",
   "pygments_lexer": "ipython3",
   "version": "3.8.3"
  }
 },
 "nbformat": 4,
 "nbformat_minor": 4
}
