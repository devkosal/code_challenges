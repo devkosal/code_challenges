{
 "cells": [
  {
   "cell_type": "markdown",
   "metadata": {},
   "source": [
    "https://leetcode.com/problems/minimum-size-subarray-sum/"
   ]
  },
  {
   "cell_type": "code",
   "execution_count": 2,
   "metadata": {},
   "outputs": [],
   "source": [
    "def minSubArrayLen(s: int, nums: int) -> int:\n",
    "    if len(nums) == 0: return 0\n",
    "    l = 0 \n",
    "    r = 1\n",
    "    min_dist = float('inf')\n",
    "    running_sum = nums[l]\n",
    "    for _ in range(len(nums)*2):\n",
    "        if running_sum >= s:\n",
    "            running_sum -= nums[l]\n",
    "            min_dist = min(min_dist,r-l)\n",
    "            l+=1\n",
    "        elif running_sum < s and r < len(nums): \n",
    "            running_sum += nums[r]\n",
    "            r+=1\n",
    "        elif running_sum < s:\n",
    "            break\n",
    "    return 0 if min_dist == float('inf') else min_dist"
   ]
  },
  {
   "cell_type": "code",
   "execution_count": null,
   "metadata": {},
   "outputs": [],
   "source": []
  }
 ],
 "metadata": {
  "kernelspec": {
   "display_name": "Python3 (fastai)",
   "language": "python",
   "name": "fastai"
  },
  "language_info": {
   "codemirror_mode": {
    "name": "ipython",
    "version": 3
   },
   "file_extension": ".py",
   "mimetype": "text/x-python",
   "name": "python",
   "nbconvert_exporter": "python",
   "pygments_lexer": "ipython3",
   "version": "3.7.5"
  }
 },
 "nbformat": 4,
 "nbformat_minor": 2
}
