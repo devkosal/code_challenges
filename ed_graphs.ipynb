{
 "cells": [
  {
   "cell_type": "code",
   "execution_count": 22,
   "id": "embedded-crack",
   "metadata": {},
   "outputs": [],
   "source": [
    "from collections import deque"
   ]
  },
  {
   "cell_type": "markdown",
   "id": "portuguese-channels",
   "metadata": {},
   "source": [
    "https://www.educative.io/courses/grokking-the-coding-interview/gxJrM9goEMr"
   ]
  },
  {
   "cell_type": "code",
   "execution_count": 21,
   "id": "angry-yugoslavia",
   "metadata": {},
   "outputs": [
    {
     "name": "stdout",
     "output_type": "stream",
     "text": [
      "Is scheduling possible: True\n",
      "Is scheduling possible: False\n",
      "Is scheduling possible: True\n"
     ]
    }
   ],
   "source": [
    "def is_scheduling_possible(tasks, prerequisites):\n",
    "    \"\"\"this technique uses BFS\"\"\"\n",
    "    if tasks == 0:\n",
    "        return True\n",
    "    child_connects = {i:0 for i in range(tasks)}\n",
    "    graph = {i:[] for i in range(tasks)}\n",
    "    for left,right in prerequisites:\n",
    "        graph[left].append(right)\n",
    "        child_connects[right] += 1\n",
    "    res = []\n",
    "    current_tasks = deque([k for (k,v) in child_connects.items() if v == 0])\n",
    "    while current_tasks:\n",
    "        task = current_tasks.popleft()\n",
    "        res.append(task)\n",
    "        for child in graph[task]:\n",
    "            child_connects[child] -= 1\n",
    "            if child_connects[child] == 0:\n",
    "                current_tasks.append(child)\n",
    "    return len(res) == tasks\n",
    "\n",
    "\n",
    "print(\"Is scheduling possible: \" +\n",
    "    str(is_scheduling_possible(3, [[0, 1], [1, 2]]))) # True\n",
    "print(\"Is scheduling possible: \" +\n",
    "    str(is_scheduling_possible(3, [[0, 1], [1, 2], [2, 0]]))) # False\n",
    "print(\"Is scheduling possible: \" +\n",
    "    str(is_scheduling_possible(6, [[0, 4], [1, 4], [3, 2], [1, 3]]))) # True"
   ]
  },
  {
   "cell_type": "markdown",
   "id": "portable-growing",
   "metadata": {},
   "source": [
    "https://www.educative.io/courses/grokking-the-coding-interview/BnnArPGKolJ"
   ]
  },
  {
   "cell_type": "code",
   "execution_count": 23,
   "id": "suspected-combination",
   "metadata": {},
   "outputs": [
    {
     "name": "stdout",
     "output_type": "stream",
     "text": [
      "Is scheduling possible: [0, 1, 2]\n",
      "Is scheduling possible: []\n",
      "Is scheduling possible: [0, 1, 4, 3, 2, 5]\n"
     ]
    }
   ],
   "source": [
    "def find_order(tasks, prerequisites):\n",
    "    if not tasks:\n",
    "        return []\n",
    "    res = []\n",
    "    graph = {i:[] for i in range(tasks)}\n",
    "    in_degree = {i:0 for i in range(tasks)}\n",
    "    for left, right in prerequisites:\n",
    "        graph[left].append(right)\n",
    "        in_degree[right] += 1\n",
    "    \n",
    "    current_tasks = deque([k for (k,v) in in_degree.items() if v == 0])\n",
    "    while current_tasks:\n",
    "        task = current_tasks.popleft()\n",
    "        res.append(task)\n",
    "        for child in graph[task]:\n",
    "            in_degree[child] -= 1\n",
    "            if in_degree[child] == 0:\n",
    "                current_tasks.append(child)\n",
    "    return res if len(res) == tasks else []\n",
    "\n",
    "\n",
    "print(\"Is scheduling possible: \" + str(find_order(3, [[0, 1], [1, 2]])))\n",
    "print(\"Is scheduling possible: \" +\n",
    "    str(find_order(3, [[0, 1], [1, 2], [2, 0]])))\n",
    "print(\"Is scheduling possible: \" +\n",
    "    str(find_order(6, [[2, 5], [0, 5], [0, 4], [1, 4], [3, 2], [1, 3]])))\n"
   ]
  },
  {
   "cell_type": "markdown",
   "id": "appointed-order",
   "metadata": {},
   "source": [
    "- Is scheduling possible: [0, 1, 2]\n",
    "- Is scheduling possible: []\n",
    "- Is scheduling possible: [0, 1, 4, 3, 2, 5]"
   ]
  },
  {
   "cell_type": "code",
   "execution_count": null,
   "id": "equal-tomorrow",
   "metadata": {},
   "outputs": [],
   "source": []
  }
 ],
 "metadata": {
  "kernelspec": {
   "display_name": "Python 3",
   "language": "python",
   "name": "python3"
  },
  "language_info": {
   "codemirror_mode": {
    "name": "ipython",
    "version": 3
   },
   "file_extension": ".py",
   "mimetype": "text/x-python",
   "name": "python",
   "nbconvert_exporter": "python",
   "pygments_lexer": "ipython3",
   "version": "3.9.2"
  }
 },
 "nbformat": 4,
 "nbformat_minor": 5
}
