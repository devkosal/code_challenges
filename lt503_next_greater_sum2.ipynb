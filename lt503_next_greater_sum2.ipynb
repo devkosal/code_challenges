{
 "cells": [
  {
   "cell_type": "code",
   "execution_count": 1,
   "metadata": {},
   "outputs": [],
   "source": [
    "def nextGreaterElements(self, nums):\n",
    "    n = len(nums)\n",
    "    if n == 0: return nums\n",
    "    res = [None for _ in range(n)]\n",
    "    max_num = max(nums)\n",
    "    for i in range(n):\n",
    "        if nums[i] == max_num:\n",
    "            res[i] = -1\n",
    "        else:\n",
    "            for n in nums[i:]+nums:\n",
    "                if n > nums[i]:\n",
    "                    res[i] = n\n",
    "                    break\n",
    "    return res"
   ]
  },
  {
   "cell_type": "code",
   "execution_count": null,
   "metadata": {},
   "outputs": [],
   "source": []
  }
 ],
 "metadata": {
  "kernelspec": {
   "display_name": "Python3 (fastai)",
   "language": "python",
   "name": "fastai"
  },
  "language_info": {
   "codemirror_mode": {
    "name": "ipython",
    "version": 3
   },
   "file_extension": ".py",
   "mimetype": "text/x-python",
   "name": "python",
   "nbconvert_exporter": "python",
   "pygments_lexer": "ipython3",
   "version": "3.7.5"
  }
 },
 "nbformat": 4,
 "nbformat_minor": 2
}
