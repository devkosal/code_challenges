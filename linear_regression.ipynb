{
 "cells": [
  {
   "cell_type": "markdown",
   "metadata": {},
   "source": [
    "# Implementation"
   ]
  },
  {
   "cell_type": "code",
   "execution_count": 263,
   "metadata": {
    "ExecuteTime": {
     "end_time": "2020-09-12T17:19:59.775069Z",
     "start_time": "2020-09-12T17:19:59.769729Z"
    }
   },
   "outputs": [],
   "source": [
    "import numpy as np\n",
    "class LinearRegression:\n",
    "    def __init__(self):\n",
    "        pass\n",
    "    \n",
    "    @staticmethod\n",
    "    def add_bias_parameter(x):\n",
    "        return np.concatenate([np.ones((len(x),1)),x],axis=1)\n",
    "    \n",
    "    def fit(self,x,y):\n",
    "        self.x = self.add_bias_parameter(x)\n",
    "        self.y = y\n",
    "        t = self.x.transpose()\n",
    "        self.theta = (np.linalg.inv((t@self.x))@t)@self.y\n",
    "    \n",
    "    def predict(self,x):\n",
    "        x = self.add_bias_parameter(x)\n",
    "        return x @ self.theta\n",
    "        "
   ]
  },
  {
   "cell_type": "code",
   "execution_count": 308,
   "metadata": {
    "ExecuteTime": {
     "end_time": "2020-09-12T17:29:47.551104Z",
     "start_time": "2020-09-12T17:29:47.548436Z"
    }
   },
   "outputs": [],
   "source": [
    "def rmse(a,p):\n",
    "    return np.sqrt(((a-p)**2).mean())"
   ]
  },
  {
   "cell_type": "markdown",
   "metadata": {},
   "source": [
    "## Random Data with Constant Y"
   ]
  },
  {
   "cell_type": "code",
   "execution_count": 309,
   "metadata": {
    "ExecuteTime": {
     "end_time": "2020-09-12T17:29:48.043785Z",
     "start_time": "2020-09-12T17:29:48.039485Z"
    }
   },
   "outputs": [],
   "source": [
    "from sklearn.model_selection import train_test_split\n",
    "\n",
    "X,y = np.random.randn(400,2),np.random.randint(low=5,high=6,size=(400))\n",
    "\n",
    "X_train, X_test, y_train, y_test = train_test_split(X,y,random_state=42)"
   ]
  },
  {
   "cell_type": "code",
   "execution_count": 310,
   "metadata": {
    "ExecuteTime": {
     "end_time": "2020-09-12T17:29:48.169934Z",
     "start_time": "2020-09-12T17:29:48.167337Z"
    }
   },
   "outputs": [],
   "source": [
    "model = LinearRegression()\n",
    "model.fit(X_train,y_train)"
   ]
  },
  {
   "cell_type": "code",
   "execution_count": 311,
   "metadata": {
    "ExecuteTime": {
     "end_time": "2020-09-12T17:29:48.321978Z",
     "start_time": "2020-09-12T17:29:48.318074Z"
    }
   },
   "outputs": [
    {
     "data": {
      "text/plain": [
       "(100, 2)"
      ]
     },
     "execution_count": 311,
     "metadata": {},
     "output_type": "execute_result"
    }
   ],
   "source": [
    "X_test.shape"
   ]
  },
  {
   "cell_type": "code",
   "execution_count": 312,
   "metadata": {
    "ExecuteTime": {
     "end_time": "2020-09-12T17:29:48.582663Z",
     "start_time": "2020-09-12T17:29:48.579995Z"
    }
   },
   "outputs": [],
   "source": [
    "preds = model.predict(X_test)"
   ]
  },
  {
   "cell_type": "code",
   "execution_count": 313,
   "metadata": {
    "ExecuteTime": {
     "end_time": "2020-09-12T17:29:48.850906Z",
     "start_time": "2020-09-12T17:29:48.847347Z"
    }
   },
   "outputs": [
    {
     "data": {
      "text/plain": [
       "0.0"
      ]
     },
     "execution_count": 313,
     "metadata": {},
     "output_type": "execute_result"
    }
   ],
   "source": [
    "rmse(y_test,preds) # should be close to 0"
   ]
  },
  {
   "cell_type": "markdown",
   "metadata": {},
   "source": [
    "## Boston Dataset"
   ]
  },
  {
   "cell_type": "code",
   "execution_count": 314,
   "metadata": {
    "ExecuteTime": {
     "end_time": "2020-09-12T17:29:49.887310Z",
     "start_time": "2020-09-12T17:29:49.884917Z"
    }
   },
   "outputs": [],
   "source": [
    "from sklearn.datasets import load_boston"
   ]
  },
  {
   "cell_type": "code",
   "execution_count": 315,
   "metadata": {
    "ExecuteTime": {
     "end_time": "2020-09-12T17:29:50.395326Z",
     "start_time": "2020-09-12T17:29:50.387220Z"
    }
   },
   "outputs": [],
   "source": [
    "X,y = load_boston(return_X_y=True)"
   ]
  },
  {
   "cell_type": "code",
   "execution_count": 316,
   "metadata": {
    "ExecuteTime": {
     "end_time": "2020-09-12T17:29:50.748386Z",
     "start_time": "2020-09-12T17:29:50.744799Z"
    }
   },
   "outputs": [
    {
     "data": {
      "text/plain": [
       "((506, 13), (506,))"
      ]
     },
     "execution_count": 316,
     "metadata": {},
     "output_type": "execute_result"
    }
   ],
   "source": [
    "X.shape,y.shape"
   ]
  },
  {
   "cell_type": "code",
   "execution_count": 317,
   "metadata": {
    "ExecuteTime": {
     "end_time": "2020-09-12T17:29:51.082608Z",
     "start_time": "2020-09-12T17:29:51.079367Z"
    }
   },
   "outputs": [],
   "source": [
    "X_train, X_test, y_train, y_test = train_test_split(X,y,random_state=42)"
   ]
  },
  {
   "cell_type": "code",
   "execution_count": 318,
   "metadata": {
    "ExecuteTime": {
     "end_time": "2020-09-12T17:29:51.457534Z",
     "start_time": "2020-09-12T17:29:51.455124Z"
    }
   },
   "outputs": [],
   "source": [
    "model = LinearRegression()"
   ]
  },
  {
   "cell_type": "code",
   "execution_count": 319,
   "metadata": {
    "ExecuteTime": {
     "end_time": "2020-09-12T17:29:51.901699Z",
     "start_time": "2020-09-12T17:29:51.898589Z"
    }
   },
   "outputs": [],
   "source": [
    "model.fit(X_train,y_train)"
   ]
  },
  {
   "cell_type": "code",
   "execution_count": 320,
   "metadata": {
    "ExecuteTime": {
     "end_time": "2020-09-12T17:29:52.362650Z",
     "start_time": "2020-09-12T17:29:52.358958Z"
    }
   },
   "outputs": [
    {
     "data": {
      "text/plain": [
       "array([ 2.98364202e+01, -1.28322638e-01,  2.95517751e-02,  4.88590934e-02,\n",
       "        2.77350326e+00, -1.62388292e+01,  4.36875476e+00, -9.24808158e-03,\n",
       "       -1.40086668e+00,  2.57761243e-01, -9.95694820e-03, -9.23122944e-01,\n",
       "        1.31854199e-02, -5.17639519e-01])"
      ]
     },
     "execution_count": 320,
     "metadata": {},
     "output_type": "execute_result"
    }
   ],
   "source": [
    "model.theta"
   ]
  },
  {
   "cell_type": "code",
   "execution_count": 321,
   "metadata": {
    "ExecuteTime": {
     "end_time": "2020-09-12T17:29:52.625029Z",
     "start_time": "2020-09-12T17:29:52.622539Z"
    }
   },
   "outputs": [],
   "source": [
    "preds = model.predict(X_test)"
   ]
  },
  {
   "cell_type": "code",
   "execution_count": 322,
   "metadata": {
    "ExecuteTime": {
     "end_time": "2020-09-12T17:29:52.915798Z",
     "start_time": "2020-09-12T17:29:52.910894Z"
    }
   },
   "outputs": [
    {
     "data": {
      "text/plain": [
       "8.500633082280295"
      ]
     },
     "execution_count": 322,
     "metadata": {},
     "output_type": "execute_result"
    }
   ],
   "source": [
    "# baseline rmse\n",
    "m = y_train.mean()\n",
    "mean_preds = np.array([m for _ in range(len(y_test))])\n",
    "rmse(y_test,mean_preds)"
   ]
  },
  {
   "cell_type": "code",
   "execution_count": 323,
   "metadata": {
    "ExecuteTime": {
     "end_time": "2020-09-12T17:29:53.284073Z",
     "start_time": "2020-09-12T17:29:53.279813Z"
    }
   },
   "outputs": [
    {
     "data": {
      "text/plain": [
       "4.700924890603999"
      ]
     },
     "execution_count": 323,
     "metadata": {},
     "output_type": "execute_result"
    }
   ],
   "source": [
    "# model rmse\n",
    "rmse(y_test,preds)"
   ]
  },
  {
   "cell_type": "code",
   "execution_count": 324,
   "metadata": {
    "ExecuteTime": {
     "end_time": "2020-09-12T17:29:54.182516Z",
     "start_time": "2020-09-12T17:29:54.178744Z"
    },
    "scrolled": true
   },
   "outputs": [
    {
     "data": {
      "text/plain": [
       "8.368222251726307"
      ]
     },
     "execution_count": 324,
     "metadata": {},
     "output_type": "execute_result"
    }
   ],
   "source": [
    "y_test.std()"
   ]
  },
  {
   "cell_type": "code",
   "execution_count": 325,
   "metadata": {
    "ExecuteTime": {
     "end_time": "2020-09-12T17:30:01.350277Z",
     "start_time": "2020-09-12T17:30:01.345321Z"
    }
   },
   "outputs": [
    {
     "data": {
      "text/plain": [
       "array([23.6, 32.4, 13.6, 22.8, 16.1, 20. , 17.8, 14. , 19.6, 16.8, 21.5,\n",
       "       18.9,  7. , 21.2, 18.5, 29.8, 18.8, 10.2, 50. , 14.1, 25.2, 29.1,\n",
       "       12.7, 22.4, 14.2, 13.8, 20.3, 14.9, 21.7, 18.3, 23.1, 23.8, 15. ,\n",
       "       20.8, 19.1, 19.4, 34.7, 19.5, 24.4, 23.4, 19.7, 28.2, 50. , 17.4,\n",
       "       22.6, 15.1, 13.1, 24.2, 19.9, 24. , 18.9, 35.4, 15.2, 26.5, 43.5,\n",
       "       21.2, 18.4, 28.5, 23.9, 18.5, 25. , 35.4, 31.5, 20.2, 24.1, 20. ,\n",
       "       13.1, 24.8, 30.8, 12.7, 20. , 23.7, 10.8, 20.6, 20.8,  5. , 20.1,\n",
       "       48.5, 10.9,  7. , 20.9, 17.2, 20.9,  9.7, 19.4, 29. , 16.4, 25. ,\n",
       "       25. , 17.1, 23.2, 10.4, 19.6, 17.2, 27.5, 23. , 50. , 17.9,  9.6,\n",
       "       17.2, 22.5, 21.4, 12. , 19.9, 19.4, 13.4, 18.2, 24.6, 21.1, 24.7,\n",
       "        8.7, 27.5, 20.7, 36.2, 31.6, 11.7, 39.8, 13.9, 21.8, 23.7, 17.6,\n",
       "       24.4,  8.8, 19.2, 25.3, 20.4, 23.1])"
      ]
     },
     "execution_count": 325,
     "metadata": {},
     "output_type": "execute_result"
    }
   ],
   "source": [
    "y_test"
   ]
  },
  {
   "cell_type": "code",
   "execution_count": 326,
   "metadata": {
    "ExecuteTime": {
     "end_time": "2020-09-12T17:30:01.919666Z",
     "start_time": "2020-09-12T17:30:01.916061Z"
    }
   },
   "outputs": [
    {
     "data": {
      "text/plain": [
       "array([ 2.98364202e+01, -1.28322638e-01,  2.95517751e-02,  4.88590934e-02,\n",
       "        2.77350326e+00, -1.62388292e+01,  4.36875476e+00, -9.24808158e-03,\n",
       "       -1.40086668e+00,  2.57761243e-01, -9.95694820e-03, -9.23122944e-01,\n",
       "        1.31854199e-02, -5.17639519e-01])"
      ]
     },
     "execution_count": 326,
     "metadata": {},
     "output_type": "execute_result"
    }
   ],
   "source": [
    "model.theta"
   ]
  },
  {
   "cell_type": "markdown",
   "metadata": {},
   "source": [
    "### Comparison to Stats Models"
   ]
  },
  {
   "cell_type": "markdown",
   "metadata": {},
   "source": [
    "https://datascienceplus.com/linear-regression-from-scratch-in-python/"
   ]
  },
  {
   "cell_type": "code",
   "execution_count": 327,
   "metadata": {
    "ExecuteTime": {
     "end_time": "2020-09-12T17:30:03.351935Z",
     "start_time": "2020-09-12T17:30:03.348269Z"
    }
   },
   "outputs": [],
   "source": [
    "import pandas as pd\n",
    "results = pd.DataFrame({'my_coeffs':model.theta}, index=list(range(len(model.theta))))"
   ]
  },
  {
   "cell_type": "code",
   "execution_count": 328,
   "metadata": {
    "ExecuteTime": {
     "end_time": "2020-09-12T17:30:03.703349Z",
     "start_time": "2020-09-12T17:30:03.698770Z"
    }
   },
   "outputs": [],
   "source": [
    "from statsmodels.regression.linear_model import OLS\n",
    "coeffs_lm = OLS(y_train, model.add_bias_parameter(X_train)).fit().params"
   ]
  },
  {
   "cell_type": "code",
   "execution_count": 329,
   "metadata": {
    "ExecuteTime": {
     "end_time": "2020-09-12T17:30:04.062717Z",
     "start_time": "2020-09-12T17:30:04.059014Z"
    }
   },
   "outputs": [],
   "source": [
    "results[\"sm_coeffs\"] = coeffs_lm"
   ]
  },
  {
   "cell_type": "code",
   "execution_count": 330,
   "metadata": {
    "ExecuteTime": {
     "end_time": "2020-09-12T17:30:04.427942Z",
     "start_time": "2020-09-12T17:30:04.419744Z"
    }
   },
   "outputs": [
    {
     "data": {
      "text/html": [
       "<div>\n",
       "<style scoped>\n",
       "    .dataframe tbody tr th:only-of-type {\n",
       "        vertical-align: middle;\n",
       "    }\n",
       "\n",
       "    .dataframe tbody tr th {\n",
       "        vertical-align: top;\n",
       "    }\n",
       "\n",
       "    .dataframe thead th {\n",
       "        text-align: right;\n",
       "    }\n",
       "</style>\n",
       "<table border=\"1\" class=\"dataframe\">\n",
       "  <thead>\n",
       "    <tr style=\"text-align: right;\">\n",
       "      <th></th>\n",
       "      <th>my_coeffs</th>\n",
       "      <th>sm_coeffs</th>\n",
       "    </tr>\n",
       "  </thead>\n",
       "  <tbody>\n",
       "    <tr>\n",
       "      <th>0</th>\n",
       "      <td>29.836420</td>\n",
       "      <td>29.836420</td>\n",
       "    </tr>\n",
       "    <tr>\n",
       "      <th>1</th>\n",
       "      <td>-0.128323</td>\n",
       "      <td>-0.128323</td>\n",
       "    </tr>\n",
       "    <tr>\n",
       "      <th>2</th>\n",
       "      <td>0.029552</td>\n",
       "      <td>0.029552</td>\n",
       "    </tr>\n",
       "    <tr>\n",
       "      <th>3</th>\n",
       "      <td>0.048859</td>\n",
       "      <td>0.048859</td>\n",
       "    </tr>\n",
       "    <tr>\n",
       "      <th>4</th>\n",
       "      <td>2.773503</td>\n",
       "      <td>2.773503</td>\n",
       "    </tr>\n",
       "    <tr>\n",
       "      <th>5</th>\n",
       "      <td>-16.238829</td>\n",
       "      <td>-16.238829</td>\n",
       "    </tr>\n",
       "    <tr>\n",
       "      <th>6</th>\n",
       "      <td>4.368755</td>\n",
       "      <td>4.368755</td>\n",
       "    </tr>\n",
       "    <tr>\n",
       "      <th>7</th>\n",
       "      <td>-0.009248</td>\n",
       "      <td>-0.009248</td>\n",
       "    </tr>\n",
       "    <tr>\n",
       "      <th>8</th>\n",
       "      <td>-1.400867</td>\n",
       "      <td>-1.400867</td>\n",
       "    </tr>\n",
       "    <tr>\n",
       "      <th>9</th>\n",
       "      <td>0.257761</td>\n",
       "      <td>0.257761</td>\n",
       "    </tr>\n",
       "    <tr>\n",
       "      <th>10</th>\n",
       "      <td>-0.009957</td>\n",
       "      <td>-0.009957</td>\n",
       "    </tr>\n",
       "    <tr>\n",
       "      <th>11</th>\n",
       "      <td>-0.923123</td>\n",
       "      <td>-0.923123</td>\n",
       "    </tr>\n",
       "    <tr>\n",
       "      <th>12</th>\n",
       "      <td>0.013185</td>\n",
       "      <td>0.013185</td>\n",
       "    </tr>\n",
       "    <tr>\n",
       "      <th>13</th>\n",
       "      <td>-0.517640</td>\n",
       "      <td>-0.517640</td>\n",
       "    </tr>\n",
       "  </tbody>\n",
       "</table>\n",
       "</div>"
      ],
      "text/plain": [
       "    my_coeffs  sm_coeffs\n",
       "0   29.836420  29.836420\n",
       "1   -0.128323  -0.128323\n",
       "2    0.029552   0.029552\n",
       "3    0.048859   0.048859\n",
       "4    2.773503   2.773503\n",
       "5  -16.238829 -16.238829\n",
       "6    4.368755   4.368755\n",
       "7   -0.009248  -0.009248\n",
       "8   -1.400867  -1.400867\n",
       "9    0.257761   0.257761\n",
       "10  -0.009957  -0.009957\n",
       "11  -0.923123  -0.923123\n",
       "12   0.013185   0.013185\n",
       "13  -0.517640  -0.517640"
      ]
     },
     "execution_count": 330,
     "metadata": {},
     "output_type": "execute_result"
    }
   ],
   "source": [
    "results # coefs are exactly the same!"
   ]
  },
  {
   "cell_type": "code",
   "execution_count": null,
   "metadata": {},
   "outputs": [],
   "source": []
  }
 ],
 "metadata": {
  "kernelspec": {
   "display_name": "Python (data)",
   "language": "python",
   "name": "data"
  },
  "language_info": {
   "codemirror_mode": {
    "name": "ipython",
    "version": 3
   },
   "file_extension": ".py",
   "mimetype": "text/x-python",
   "name": "python",
   "nbconvert_exporter": "python",
   "pygments_lexer": "ipython3",
   "version": "3.8.3"
  }
 },
 "nbformat": 4,
 "nbformat_minor": 4
}
