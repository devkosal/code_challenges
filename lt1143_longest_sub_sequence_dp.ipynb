{
 "cells": [
  {
   "cell_type": "markdown",
   "metadata": {},
   "source": [
    "https://leetcode.com/problems/longest-common-subsequence/"
   ]
  },
  {
   "cell_type": "markdown",
   "metadata": {},
   "source": [
    "https://leetcode.com/problems/longest-common-subsequence/discuss/901695/DFS-greater-DP-Progression-With-Explanation-9010"
   ]
  },
  {
   "cell_type": "code",
   "execution_count": 27,
   "metadata": {
    "ExecuteTime": {
     "end_time": "2020-12-06T09:20:14.885554Z",
     "start_time": "2020-12-06T09:20:14.883363Z"
    }
   },
   "outputs": [],
   "source": [
    "from pprint import pprint"
   ]
  },
  {
   "cell_type": "markdown",
   "metadata": {},
   "source": [
    "# Brute Force"
   ]
  },
  {
   "cell_type": "code",
   "execution_count": 2,
   "metadata": {
    "ExecuteTime": {
     "end_time": "2020-12-06T07:08:26.006046Z",
     "start_time": "2020-12-06T07:08:26.002346Z"
    }
   },
   "outputs": [],
   "source": [
    "def longest_sub(seq, sub):\n",
    "    \"\"\"\n",
    "    brute force O(2^N)\n",
    "    \"\"\"\n",
    "    def dfs(seq,sub):\n",
    "        if not seq or not sub:\n",
    "            return 0\n",
    "        if seq[0] == sub[0]:\n",
    "            return 1 + dfs(seq[1:],sub[1:])\n",
    "        return max(dfs(seq[1:],sub), dfs(seq,sub[1:]))\n",
    "    return dfs(seq, sub)"
   ]
  },
  {
   "cell_type": "code",
   "execution_count": 14,
   "metadata": {
    "ExecuteTime": {
     "end_time": "2020-12-06T08:50:19.388475Z",
     "start_time": "2020-12-06T08:50:19.384931Z"
    }
   },
   "outputs": [
    {
     "data": {
      "text/plain": [
       "3"
      ]
     },
     "execution_count": 14,
     "metadata": {},
     "output_type": "execute_result"
    }
   ],
   "source": [
    "seq = \"abcdefgh\"\n",
    "sub = \"adhtz\"\n",
    "\n",
    "longest_sub(seq, sub) # 3"
   ]
  },
  {
   "cell_type": "markdown",
   "metadata": {},
   "source": [
    "# Memoization"
   ]
  },
  {
   "cell_type": "code",
   "execution_count": 16,
   "metadata": {
    "ExecuteTime": {
     "end_time": "2020-12-06T08:51:06.340511Z",
     "start_time": "2020-12-06T08:51:06.334705Z"
    }
   },
   "outputs": [],
   "source": [
    "def longest_sub(seq, sub):\n",
    "    \"\"\"\n",
    "    memoization, O(2N)\n",
    "    i = index for seq\n",
    "    j = index for sub\n",
    "    \"\"\"\n",
    "    def dfs(dp, i, j):\n",
    "        if i >= len(seq) or j >= len(sub):\n",
    "            return 0\n",
    "        if not dp[i][j]:\n",
    "            if seq[i] == sub[j]:\n",
    "                dp[i][j] = 1 + dfs(dp, i+1, j+1)\n",
    "            else:\n",
    "                dp[i][j] = max(dfs(dp, i+1, j), dfs(dp, i, j+1))\n",
    "        return dp[i][j]\n",
    "    dp = [[None for _ in range(len(sub))] for _ in range(len(seq))]\n",
    "    return dfs(dp, 0, 0)"
   ]
  },
  {
   "cell_type": "code",
   "execution_count": 17,
   "metadata": {
    "ExecuteTime": {
     "end_time": "2020-12-06T08:51:06.916162Z",
     "start_time": "2020-12-06T08:51:06.912389Z"
    }
   },
   "outputs": [
    {
     "data": {
      "text/plain": [
       "3"
      ]
     },
     "execution_count": 17,
     "metadata": {},
     "output_type": "execute_result"
    }
   ],
   "source": [
    "seq = \"abcdefgh\"\n",
    "sub = \"adhtz\"\n",
    "\n",
    "longest_sub(seq, sub) # 3"
   ]
  },
  {
   "cell_type": "markdown",
   "metadata": {},
   "source": [
    "# Tabulation"
   ]
  },
  {
   "cell_type": "code",
   "execution_count": 53,
   "metadata": {
    "ExecuteTime": {
     "end_time": "2020-12-06T09:39:11.539126Z",
     "start_time": "2020-12-06T09:39:11.533784Z"
    }
   },
   "outputs": [],
   "source": [
    "def longest_sub(text1, text2):\n",
    "    \"\"\"\n",
    "    tabulation, O(2N). This is the fastest approach on leetcode.\n",
    "    \"\"\"\n",
    "    l1,l2 = len(text1), len(text2)\n",
    "    dp = [[0 for _ in range(l2)] for _ in range(l1)]\n",
    "    \n",
    "    n = 0\n",
    "    for i in range(l1):\n",
    "        if not n and text1[i] == text2[0]: \n",
    "            n = 1\n",
    "        dp[i][0] = n\n",
    "        \n",
    "    m = 0\n",
    "    for j in range(l2):\n",
    "        if not m and text1[0] == text2[j]:\n",
    "            m = 1\n",
    "        dp[0][j] = m\n",
    "            \n",
    "    for i in range(1, l1):\n",
    "        for j in range(1, l2):\n",
    "            # get the upper left diagnol value and add 1\n",
    "            if text1[i] == text2[j]:\n",
    "                dp[i][j] = dp[i-1][j-1] + 1\n",
    "            else:\n",
    "                dp[i][j] = max(dp[i-1][j], dp[i][j-1])\n",
    "    return dp[l1-1][l2-1]"
   ]
  },
  {
   "cell_type": "code",
   "execution_count": 52,
   "metadata": {
    "ExecuteTime": {
     "end_time": "2020-12-06T09:39:03.825285Z",
     "start_time": "2020-12-06T09:39:03.821684Z"
    }
   },
   "outputs": [
    {
     "data": {
      "text/plain": [
       "3"
      ]
     },
     "execution_count": 52,
     "metadata": {},
     "output_type": "execute_result"
    }
   ],
   "source": [
    "seq = \"abcdefgh\"\n",
    "sub = \"abtd\"\n",
    "\n",
    "longest_sub(seq, sub) # 3"
   ]
  },
  {
   "cell_type": "code",
   "execution_count": null,
   "metadata": {},
   "outputs": [],
   "source": []
  }
 ],
 "metadata": {
  "kernelspec": {
   "display_name": "Python (data)",
   "language": "python",
   "name": "data"
  },
  "language_info": {
   "codemirror_mode": {
    "name": "ipython",
    "version": 3
   },
   "file_extension": ".py",
   "mimetype": "text/x-python",
   "name": "python",
   "nbconvert_exporter": "python",
   "pygments_lexer": "ipython3",
   "version": "3.8.3"
  }
 },
 "nbformat": 4,
 "nbformat_minor": 4
}
