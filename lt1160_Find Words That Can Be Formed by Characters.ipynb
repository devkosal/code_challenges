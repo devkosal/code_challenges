{
 "cells": [
  {
   "cell_type": "code",
   "execution_count": 42,
   "metadata": {},
   "outputs": [],
   "source": [
    "r = {\"4\":5}"
   ]
  },
  {
   "cell_type": "code",
   "execution_count": 64,
   "metadata": {},
   "outputs": [],
   "source": [
    "def countCharacters(words, chars: str) -> int:\n",
    "    if words == [] or chars == \"\": return 0\n",
    "    def _get_dict(string):\n",
    "        d = {}\n",
    "        for c in set(string):\n",
    "            d[c] = string.count(c)\n",
    "        return d\n",
    "    def _is_possible(word, chars_dict):\n",
    "        word_dict = _get_dict(word)\n",
    "        for key in word_dict.keys():\n",
    "            if key not in chars_dict.keys() or word_dict[key] > chars_dict[key]:\n",
    "                return False\n",
    "        return True\n",
    "    chars_dict = _get_dict(chars)\n",
    "    return sum([len(word) for word in words if _is_possible(word, chars_dict)])"
   ]
  },
  {
   "cell_type": "code",
   "execution_count": 66,
   "metadata": {},
   "outputs": [
    {
     "name": "stdout",
     "output_type": "stream",
     "text": [
      "w {'c': 1, 'a': 1, 't': 1}\n",
      "c {'c': 1, 'a': 2, 'h': 1, 't': 1}\n",
      "w {'b': 1, 't': 1}\n",
      "c {'c': 1, 'a': 2, 'h': 1, 't': 1}\n",
      "b dict_keys(['b', 't']) True\n",
      "False\n",
      "w {'h': 1, 't': 1, 'a': 1}\n",
      "c {'c': 1, 'a': 2, 'h': 1, 't': 1}\n",
      "w {'e': 2, 'r': 1, 't': 1}\n",
      "c {'c': 1, 'a': 2, 'h': 1, 't': 1}\n",
      "e dict_keys(['e', 'r', 't']) True\n",
      "False\n"
     ]
    },
    {
     "data": {
      "text/plain": [
       "6"
      ]
     },
     "execution_count": 66,
     "metadata": {},
     "output_type": "execute_result"
    }
   ],
   "source": [
    "words = [\"cat\",\"bt\",\"hat\",\"tree\"]\n",
    "chars = \"atach\"\n",
    "countCharacters(words, chars)"
   ]
  },
  {
   "cell_type": "code",
   "execution_count": 68,
   "metadata": {},
   "outputs": [],
   "source": [
    "def countCharacters(self, words: List[str], chars: str) -> int:\n",
    "    total = 0\n",
    "    chars_dict = {c:chars.count(c) for c in set(chars)}\n",
    "    for w in words:\n",
    "        for i,c in enumerate(w):\n",
    "            if c not in chars_dict.keys() or w.count(c) > chars_dict[c]:\n",
    "                break\n",
    "            if i+1 == len(w):\n",
    "                total += len(w)\n",
    "    return total"
   ]
  },
  {
   "cell_type": "code",
   "execution_count": null,
   "metadata": {},
   "outputs": [],
   "source": [
    "def countCharacters(words, chars: str) -> int:\n",
    "    return sum([len(word) for word in words if all(0 < word.count(x) <= chars.count(x) for x in word)])"
   ]
  },
  {
   "cell_type": "code",
   "execution_count": null,
   "metadata": {},
   "outputs": [],
   "source": []
  }
 ],
 "metadata": {
  "kernelspec": {
   "display_name": "Python3 (fastai)",
   "language": "python",
   "name": "fastai"
  },
  "language_info": {
   "codemirror_mode": {
    "name": "ipython",
    "version": 3
   },
   "file_extension": ".py",
   "mimetype": "text/x-python",
   "name": "python",
   "nbconvert_exporter": "python",
   "pygments_lexer": "ipython3",
   "version": "3.7.5"
  }
 },
 "nbformat": 4,
 "nbformat_minor": 2
}
