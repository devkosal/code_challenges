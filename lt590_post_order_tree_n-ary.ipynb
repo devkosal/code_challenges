{
 "cells": [
  {
   "cell_type": "markdown",
   "metadata": {},
   "source": [
    "https://leetcode.com/problems/n-ary-tree-postorder-traversal/"
   ]
  },
  {
   "cell_type": "code",
   "execution_count": 2,
   "metadata": {
    "ExecuteTime": {
     "end_time": "2020-10-07T05:19:46.024470Z",
     "start_time": "2020-10-07T05:19:46.020399Z"
    }
   },
   "outputs": [],
   "source": [
    "# Definition for a Node.\n",
    "class Node:\n",
    "    def __init__(self, val=None, children=None):\n",
    "        self.val = val\n",
    "        self.children = children\n",
    "from collections import deque\n",
    "class Solution:\n",
    "    def postorder(self, root: 'Node'):\n",
    "        if not root:\n",
    "            return []\n",
    "        res = [root.val]\n",
    "        c = deque(root.children)\n",
    "        while c:\n",
    "            cur = c.pop()\n",
    "            res.append(cur.val)\n",
    "            c.extend(cur.children)\n",
    "        return res[::-1]"
   ]
  },
  {
   "cell_type": "code",
   "execution_count": 4,
   "metadata": {
    "ExecuteTime": {
     "end_time": "2020-10-07T05:31:41.393224Z",
     "start_time": "2020-10-07T05:31:41.389948Z"
    }
   },
   "outputs": [],
   "source": [
    "class Solution:\n",
    "    '''\n",
    "    recursive solution\n",
    "    '''\n",
    "    def postorder(self, root: 'Node'):\n",
    "        if not root: \n",
    "            return []\n",
    "        if not root.children:\n",
    "            return [root.val]       \n",
    "        return sum([self.postorder(r) for r in root.children],[]) + [root.val]"
   ]
  },
  {
   "cell_type": "code",
   "execution_count": null,
   "metadata": {},
   "outputs": [],
   "source": []
  }
 ],
 "metadata": {
  "kernelspec": {
   "display_name": "Python (data)",
   "language": "python",
   "name": "data"
  },
  "language_info": {
   "codemirror_mode": {
    "name": "ipython",
    "version": 3
   },
   "file_extension": ".py",
   "mimetype": "text/x-python",
   "name": "python",
   "nbconvert_exporter": "python",
   "pygments_lexer": "ipython3",
   "version": "3.8.3"
  }
 },
 "nbformat": 4,
 "nbformat_minor": 4
}
