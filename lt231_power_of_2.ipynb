{
 "cells": [
  {
   "cell_type": "markdown",
   "metadata": {},
   "source": [
    "https://leetcode.com/problems/power-of-two/"
   ]
  },
  {
   "cell_type": "code",
   "execution_count": null,
   "metadata": {},
   "outputs": [],
   "source": [
    "class Solution:\n",
    "    def isPowerOfTwo(self, n: int) -> bool:\n",
    "        factors = [2,4,8,16,32]\n",
    "        factor = factors.pop()\n",
    "        while n:\n",
    "            if n == 1:\n",
    "                return True\n",
    "            if n == 0 or n % 2 != 0:\n",
    "                return False\n",
    "            while factor > n and factors:\n",
    "                factor = factors.pop()       \n",
    "            n /= factor\n",
    "            print(n)"
   ]
  },
  {
   "cell_type": "code",
   "execution_count": 1,
   "metadata": {
    "ExecuteTime": {
     "end_time": "2020-10-17T16:16:42.121672Z",
     "start_time": "2020-10-17T16:16:42.118440Z"
    }
   },
   "outputs": [],
   "source": [
    "# doesn;t work because of floating point errors\n",
    "import math\n",
    "class Solution:\n",
    "    def isPowerOfTwo(self, n: int) -> bool:\n",
    "        x = math.log(n,2)\n",
    "        return int(x) == x"
   ]
  },
  {
   "cell_type": "code",
   "execution_count": null,
   "metadata": {},
   "outputs": [],
   "source": []
  }
 ],
 "metadata": {
  "kernelspec": {
   "display_name": "Python (data)",
   "language": "python",
   "name": "data"
  },
  "language_info": {
   "codemirror_mode": {
    "name": "ipython",
    "version": 3
   },
   "file_extension": ".py",
   "mimetype": "text/x-python",
   "name": "python",
   "nbconvert_exporter": "python",
   "pygments_lexer": "ipython3",
   "version": "3.8.3"
  }
 },
 "nbformat": 4,
 "nbformat_minor": 4
}
