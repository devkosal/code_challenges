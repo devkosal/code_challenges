{
 "cells": [
  {
   "cell_type": "code",
   "execution_count": 32,
   "metadata": {
    "ExecuteTime": {
     "end_time": "2020-09-21T08:59:35.909056Z",
     "start_time": "2020-09-21T08:59:35.905906Z"
    }
   },
   "outputs": [],
   "source": [
    "import numpy as np\n",
    "from sklearn.datasets import load_boston\n",
    "from sklearn.preprocessing import StandardScaler\n",
    "from sklearn.model_selection import train_test_split"
   ]
  },
  {
   "cell_type": "markdown",
   "metadata": {
    "ExecuteTime": {
     "end_time": "2020-09-21T08:41:23.471541Z",
     "start_time": "2020-09-21T08:41:23.469548Z"
    }
   },
   "source": [
    "# Load Data"
   ]
  },
  {
   "cell_type": "code",
   "execution_count": 33,
   "metadata": {
    "ExecuteTime": {
     "end_time": "2020-09-21T08:59:38.248829Z",
     "start_time": "2020-09-21T08:59:38.239128Z"
    }
   },
   "outputs": [],
   "source": [
    "x,y = load_boston(return_X_y=True)"
   ]
  },
  {
   "cell_type": "code",
   "execution_count": 34,
   "metadata": {
    "ExecuteTime": {
     "end_time": "2020-09-21T08:59:38.672034Z",
     "start_time": "2020-09-21T08:59:38.668349Z"
    }
   },
   "outputs": [],
   "source": [
    "x_train, x_test, y_train, y_test = train_test_split(x,y,random_state=42)"
   ]
  },
  {
   "cell_type": "code",
   "execution_count": 36,
   "metadata": {
    "ExecuteTime": {
     "end_time": "2020-09-21T09:00:52.176578Z",
     "start_time": "2020-09-21T09:00:52.172184Z"
    },
    "scrolled": true
   },
   "outputs": [],
   "source": [
    "scl = StandardScaler()\n",
    "x_train = scl.fit_transform(x_train)\n",
    "x_test = scl.transform(x_test)"
   ]
  },
  {
   "cell_type": "code",
   "execution_count": 43,
   "metadata": {
    "ExecuteTime": {
     "end_time": "2020-09-21T09:02:48.292166Z",
     "start_time": "2020-09-21T09:02:48.280985Z"
    }
   },
   "outputs": [],
   "source": [
    "import numpy as np\n",
    "\n",
    "def sigmoid(x):\n",
    "    return 1 / (1+np.exp(-x))\n",
    "\n",
    "def sigmoid_derivative(x):\n",
    "    return x * (1 - x)\n",
    "\n",
    "def rmse(yhat,y):\n",
    "    return np.mean((yhat-y)**2)**.5\n",
    "\n",
    "class NueralNetwork:\n",
    "    def __init__(self,hidden_units,iters=100,lr=.001):\n",
    "        self.hidden_units = hidden_units\n",
    "        self.lr = lr\n",
    "        self.iters = iters\n",
    "    \n",
    "    def fit(self, x, y):\n",
    "        self.input = x\n",
    "        self.y = y\n",
    "        n = x.shape[1]\n",
    "        self.weights1 = np.random.randn(n,self.hidden_units)\n",
    "        self.bias1 = np.ones((1,self.hidden_units))\n",
    "        self.weights2 = np.random.randn(self.hidden_units,1)\n",
    "        self.bias2 = np.ones((1, 1))\n",
    "        for epoch in range(self.iters):\n",
    "                self.fforward(self.input)\n",
    "                self.backprop()\n",
    "\n",
    "    def fforward(self,x):\n",
    "        self.layer1 = sigmoid(np.dot(x, self.weights1) + self.bias1)\n",
    "        self.layer2 = sigmoid(np.dot(self.layer1, self.weights2) + self.bias2)\n",
    "        self.yhat = self.layer2\n",
    "\n",
    "\n",
    "    def backprop(self):\n",
    "        grad_w1 = np.dot(self.input.T,  (np.dot(2*(self.y - self.yhat) * sigmoid_derivative(self.yhat), self.weights2.T) * sigmoid_derivative(self.layer1)))\n",
    "        grad_w2 = np.dot(self.layer1.T, (2*(self.y - self.yhat) * sigmoid_derivative(self.yhat)))\n",
    "                             \n",
    "        grad_b1 = np.sum(((2 * (self.yhat - self.y) * sigmoid_derivative(self.layer2)) @ self.weights2.T) * sigmoid(self.layer1), axis=0, keepdims=True)\n",
    "        grad_b2 = np.sum((2 * (self.yhat - self.y) * sigmoid_derivative(self.layer2)), axis=0, keepdims=True)\n",
    "        \n",
    "        # update the weights with the derivative (slope) of the loss function\n",
    "        self.weights1 -= self.lr*grad_w1\n",
    "        self.weights2 -= self.lr*grad_w2\n",
    "        self.bias1    -= self.lr*grad_b1\n",
    "        self.bias2    -= self.lr*grad_b2\n",
    "                             \n",
    "    def predict(self, x=None):\n",
    "        if x:\n",
    "            self.fforward(x)\n",
    "        return self.yhat\n",
    "                             "
   ]
  },
  {
   "cell_type": "code",
   "execution_count": 44,
   "metadata": {
    "ExecuteTime": {
     "end_time": "2020-09-21T09:02:49.855810Z",
     "start_time": "2020-09-21T09:02:49.822528Z"
    }
   },
   "outputs": [],
   "source": [
    "epochs = 100\n",
    "nn = NueralNetwork(10)\n",
    "nn.fit(x_train,y_train.reshape(-1,1))"
   ]
  },
  {
   "cell_type": "code",
   "execution_count": 45,
   "metadata": {
    "ExecuteTime": {
     "end_time": "2020-09-21T09:02:59.917835Z",
     "start_time": "2020-09-21T09:02:59.913159Z"
    }
   },
   "outputs": [
    {
     "data": {
      "text/plain": [
       "24.00048164094211"
      ]
     },
     "execution_count": 45,
     "metadata": {},
     "output_type": "execute_result"
    }
   ],
   "source": [
    "rmse(nn.predict(),y_train)"
   ]
  },
  {
   "cell_type": "code",
   "execution_count": null,
   "metadata": {},
   "outputs": [],
   "source": []
  }
 ],
 "metadata": {
  "kernelspec": {
   "display_name": "Python (data)",
   "language": "python",
   "name": "data"
  },
  "language_info": {
   "codemirror_mode": {
    "name": "ipython",
    "version": 3
   },
   "file_extension": ".py",
   "mimetype": "text/x-python",
   "name": "python",
   "nbconvert_exporter": "python",
   "pygments_lexer": "ipython3",
   "version": "3.8.3"
  }
 },
 "nbformat": 4,
 "nbformat_minor": 4
}
