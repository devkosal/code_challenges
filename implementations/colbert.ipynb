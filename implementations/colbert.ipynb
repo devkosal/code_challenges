{
 "cells": [
  {
   "cell_type": "code",
   "execution_count": 1,
   "metadata": {},
   "outputs": [],
   "source": [
    "from transformers import BertModel\n",
    "import torch\n",
    "from torch import nn"
   ]
  },
  {
   "cell_type": "code",
   "execution_count": 2,
   "metadata": {},
   "outputs": [],
   "source": [
    "class ColBERT(nn.Module):\n",
    "    def __init__(self):\n",
    "        super().__init__()\n",
    "        self.encoder = BertModel.from_pretrained(\"bert-base-uncased\")\n",
    "        self.cnn = nn.Conv1d(768, 128, (3,3))\n",
    "    \n",
    "    @staticmethod\n",
    "    def max_sum_socre(self, Eq, Ed):\n",
    "        return (Eq@Ed.T).max(1).sum()\n",
    "    \n",
    "    def forward(self, batch):\n",
    "        q = batch[\"q\"]\n",
    "        d = batch[\"d\"]\n",
    "        q_emb = self.encoder(q).logits\n",
    "        d_emb = self.encoder(d).logits\n",
    "        return self.max_sum_socre(q_emb, d_emb)\n",
    "      "
   ]
  },
  {
   "cell_type": "code",
   "execution_count": 3,
   "metadata": {},
   "outputs": [],
   "source": [
    "colbert_model = ColBERT()"
   ]
  },
  {
   "cell_type": "code",
   "execution_count": null,
   "metadata": {},
   "outputs": [],
   "source": [
    "sample_batch = {\n",
    "    \"q\": torch.randint(0, 20000, (1, 10,)),\n",
    "    \"d\": torch.randint(0, 20000, (1, 100,))\n",
    "}\n",
    "colbert_model(sample_batch)"
   ]
  }
 ],
 "metadata": {
  "kernelspec": {
   "display_name": "Python 3",
   "language": "python",
   "name": "python3"
  },
  "language_info": {
   "codemirror_mode": {
    "name": "ipython",
    "version": 3
   },
   "file_extension": ".py",
   "mimetype": "text/x-python",
   "name": "python",
   "nbconvert_exporter": "python",
   "pygments_lexer": "ipython3",
   "version": "3.8.5"
  }
 },
 "nbformat": 4,
 "nbformat_minor": 4
}
