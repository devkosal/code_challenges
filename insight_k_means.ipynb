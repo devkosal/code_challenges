{
 "cells": [
  {
   "cell_type": "markdown",
   "metadata": {},
   "source": [
    "K Means Clustering from Scratch"
   ]
  },
  {
   "cell_type": "markdown",
   "metadata": {},
   "source": [
    "CS Practical - K-Means:\n",
    "\n",
    "- Step 1 - Pick K random points as cluster centers called centroids.\n",
    "- Step 2 - Assign each x to the nearest cluster by calculating its distance to each centroid (start with Euclidean).\n",
    "- Step 3 - Find the new cluster center by taking the average of the assigned points.\n",
    "- Step 4 - Repeat Step 2 and 3 for a given number of iterations until none of the cluster assignments change."
   ]
  },
  {
   "cell_type": "code",
   "execution_count": 2,
   "metadata": {
    "ExecuteTime": {
     "end_time": "2020-09-15T05:07:13.781608Z",
     "start_time": "2020-09-15T05:07:13.145719Z"
    }
   },
   "outputs": [],
   "source": [
    "import numpy as np\n",
    "import math\n",
    "import matplotlib.pyplot as plt"
   ]
  },
  {
   "cell_type": "code",
   "execution_count": 3,
   "metadata": {
    "ExecuteTime": {
     "end_time": "2020-09-15T05:07:15.003169Z",
     "start_time": "2020-09-15T05:07:14.992151Z"
    }
   },
   "outputs": [],
   "source": [
    "class KMeans:\n",
    "    def __init__(self, x, clusters, iters):\n",
    "        self.clusters = clusters\n",
    "        self.iters = iters\n",
    "        self.x = np.array(x)\n",
    "    \n",
    "    def normalize(x):\n",
    "        return (x-np.mean(x))/x.std()\n",
    "\n",
    "    \n",
    "    def distance(self,x1,x2):\n",
    "        assert x1.shape == x2.shape, f\"shapes don't match {x1.shape} != {x2.shape} \"\n",
    "        return math.sqrt(sum([(x1[i]-x2[i])**2 for i in range(len(x1))]))\n",
    "    \n",
    "    def generate_random_points(self):\n",
    "        return np.random.randn(self.clusters,self.x.shape[1])\n",
    "    \n",
    "    def get_labels(self):\n",
    "        labels = []\n",
    "        for i,point in enumerate(self.x): \n",
    "            min_dist = float('inf')\n",
    "            best_cluster = None\n",
    "            for ic, center in enumerate(self.centers):\n",
    "                dist = self.distance(point,center)\n",
    "                if dist < min_dist:\n",
    "                    min_dist = dist\n",
    "                    best_cluster = ic\n",
    "            labels.append(best_cluster)\n",
    "        return np.array(labels)\n",
    "    \n",
    "    def set_centers(self,i):\n",
    "        if i == 0: \n",
    "            return self.generate_random_points()\n",
    "        centers = []\n",
    "        for j in range(self.clusters):\n",
    "            m = self.x[self.labels==j].mean(0)\n",
    "            centers.append(m)\n",
    "        return np.array(centers)\n",
    "            \n",
    "    def fit(self):\n",
    "        for i in range(self.iters):\n",
    "            self.centers = self.set_centers(i)\n",
    "            self.labels = self.get_labels()        "
   ]
  },
  {
   "cell_type": "code",
   "execution_count": 4,
   "metadata": {
    "ExecuteTime": {
     "end_time": "2020-09-15T05:07:15.538764Z",
     "start_time": "2020-09-15T05:07:15.463994Z"
    }
   },
   "outputs": [
    {
     "data": {
      "text/plain": [
       "array([1, 0, 1, 2, 0, 2, 2, 1, 2, 0, 0, 1, 1, 1, 1, 2, 1, 0, 1, 1, 0, 0,\n",
       "       1, 1, 2, 1, 2, 0, 0, 2, 2, 0, 1, 1, 1, 2, 0, 1, 2, 2, 0, 1, 2, 2,\n",
       "       0, 0, 0, 1, 2, 1, 1, 1, 1, 1, 1, 0, 1, 2, 2, 1, 2, 1, 2, 1, 1, 1,\n",
       "       0, 1, 0, 1, 1, 0, 0, 0, 2, 1, 0, 2, 1, 2, 0, 1, 1, 2, 0, 1, 0, 0,\n",
       "       2, 1, 0, 0, 1, 0, 1, 2, 1, 2, 0, 1])"
      ]
     },
     "execution_count": 4,
     "metadata": {},
     "output_type": "execute_result"
    }
   ],
   "source": [
    "x = np.random.randn(100,2)\n",
    "\n",
    "k = KMeans(x,3,50)\n",
    "\n",
    "k.fit()\n",
    "\n",
    "k.labels"
   ]
  },
  {
   "cell_type": "code",
   "execution_count": 5,
   "metadata": {
    "ExecuteTime": {
     "end_time": "2020-09-15T05:07:16.114479Z",
     "start_time": "2020-09-15T05:07:15.925137Z"
    }
   },
   "outputs": [
    {
     "data": {
      "text/plain": [
       "<matplotlib.collections.PathCollection at 0x7f97685983d0>"
      ]
     },
     "execution_count": 5,
     "metadata": {},
     "output_type": "execute_result"
    },
    {
     "data": {
      "image/png": "[encoded data removed]",
      "text/plain": [
       "<Figure size 432x288 with 1 Axes>"
      ]
     },
     "metadata": {
      "needs_background": "light"
     },
     "output_type": "display_data"
    }
   ],
   "source": [
    "plt.scatter(x[:,0],x[:,1],c=k.labels)"
   ]
  },
  {
   "cell_type": "markdown",
   "metadata": {},
   "source": [
    "# Bonus PCA"
   ]
  },
  {
   "cell_type": "code",
   "execution_count": 29,
   "metadata": {
    "ExecuteTime": {
     "end_time": "2020-09-15T05:16:32.412719Z",
     "start_time": "2020-09-15T05:16:32.233921Z"
    }
   },
   "outputs": [
    {
     "data": {
      "text/plain": [
       "array([1, 1, 1, 2, 0, 1, 2, 2, 1, 1, 2, 1, 1, 0, 1, 2, 2, 2, 1, 0, 2, 1,\n",
       "       2, 1, 2, 1, 1, 2, 2, 1, 0, 2, 2, 0, 2, 0, 2, 0, 0, 0, 2, 1, 0, 2,\n",
       "       2, 1, 1, 1, 1, 1, 2, 1, 2, 1, 1, 1, 2, 1, 1, 1, 1, 1, 0, 2, 1, 1,\n",
       "       1, 1, 2, 2, 2, 1, 1, 1, 1, 1, 1, 2, 1, 1, 2, 1, 1, 2, 1, 1, 0, 1,\n",
       "       2, 1, 1, 1, 1, 2, 0, 0, 2, 1, 0, 2])"
      ]
     },
     "execution_count": 29,
     "metadata": {},
     "output_type": "execute_result"
    }
   ],
   "source": [
    "x = np.random.randn(100,10)\n",
    "k = KMeans(x,3,50)\n",
    "k.fit()\n",
    "k.labels"
   ]
  },
  {
   "cell_type": "code",
   "execution_count": 30,
   "metadata": {
    "ExecuteTime": {
     "end_time": "2020-09-15T05:16:32.641627Z",
     "start_time": "2020-09-15T05:16:32.637949Z"
    }
   },
   "outputs": [],
   "source": [
    "def pca(x,k):\n",
    "    \"\"\"\n",
    "    provide m x n matrix where m are examples and n are features \n",
    "    \"\"\"\n",
    "    x = x.T\n",
    "    cov = np.cov(x)\n",
    "    u,_,_ = np.linalg.svd(cov)\n",
    "    u = u[:,:k]\n",
    "    res = u.T@x\n",
    "    return res.T"
   ]
  },
  {
   "cell_type": "code",
   "execution_count": 31,
   "metadata": {
    "ExecuteTime": {
     "end_time": "2020-09-15T05:16:33.337011Z",
     "start_time": "2020-09-15T05:16:33.333950Z"
    }
   },
   "outputs": [],
   "source": [
    "x_pca = pca(x,2)"
   ]
  },
  {
   "cell_type": "code",
   "execution_count": 32,
   "metadata": {
    "ExecuteTime": {
     "end_time": "2020-09-15T05:16:34.597840Z",
     "start_time": "2020-09-15T05:16:34.451017Z"
    }
   },
   "outputs": [
    {
     "data": {
      "text/plain": [
       "<matplotlib.collections.PathCollection at 0x7f9748956710>"
      ]
     },
     "execution_count": 32,
     "metadata": {},
     "output_type": "execute_result"
    },
    {
     "data": {
      "image/png": "[encoded data removed]",
      "text/plain": [
       "<Figure size 432x288 with 1 Axes>"
      ]
     },
     "metadata": {
      "needs_background": "light"
     },
     "output_type": "display_data"
    }
   ],
   "source": [
    "plt.scatter(x_pca[:,0],x_pca[:,1],c=k.labels)"
   ]
  },
  {
   "cell_type": "code",
   "execution_count": null,
   "metadata": {},
   "outputs": [],
   "source": []
  }
 ],
 "metadata": {
  "kernelspec": {
   "display_name": "Python3 (fastai)",
   "language": "python",
   "name": "fastai"
  },
  "language_info": {
   "codemirror_mode": {
    "name": "ipython",
    "version": 3
   },
   "file_extension": ".py",
   "mimetype": "text/x-python",
   "name": "python",
   "nbconvert_exporter": "python",
   "pygments_lexer": "ipython3",
   "version": "3.7.5"
  }
 },
 "nbformat": 4,
 "nbformat_minor": 2
}
