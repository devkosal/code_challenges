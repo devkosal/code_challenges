{
 "cells": [
  {
   "cell_type": "markdown",
   "metadata": {},
   "source": [
    "https://leetcode.com/problems/find-winner-on-a-tic-tac-toe-game/"
   ]
  },
  {
   "cell_type": "code",
   "execution_count": 2,
   "metadata": {
    "ExecuteTime": {
     "end_time": "2020-09-12T05:04:40.204543Z",
     "start_time": "2020-09-12T05:04:40.193146Z"
    }
   },
   "outputs": [],
   "source": [
    "class Solution:\n",
    "    def tictactoe(self, moves):\n",
    "        def draw_board(moves):\n",
    "            grid = [[None for _ in range(3)] for _ in range(3)]\n",
    "            for i,m in enumerate(moves):\n",
    "                if i%2==0:\n",
    "                    grid[m[0]][m[1]] = \"A\"\n",
    "                else:\n",
    "                    grid[m[0]][m[1]] = \"B\"  \n",
    "            return grid\n",
    "        def check_line(r):\n",
    "            u = list(set(r))\n",
    "            v = u[0]\n",
    "            if len(u) == 1 and v:\n",
    "                print(r)\n",
    "                return v\n",
    "        def check_victory(grid):\n",
    "            # check all rows\n",
    "            cols = [[] for _ in range(len(grid[0]))]\n",
    "            diags = [[] for _ in range(2)]\n",
    "            for i,r in enumerate(grid):\n",
    "                win = check_line(r)\n",
    "                if win: return win\n",
    "                for j,val in enumerate(r):\n",
    "                    cols[j].append(val)\n",
    "                    if i==j:\n",
    "                        diags[0].append(grid[i][j])\n",
    "                        diags[1].append(grid[i][-j-1])\n",
    "            for c in cols:\n",
    "                win = check_line(c)\n",
    "                if win: return win\n",
    "            # check all diags \n",
    "            for d in diags:\n",
    "                win = check_line(d)\n",
    "                if win: return win\n",
    "        num_mvs = len(moves)\n",
    "        grid = draw_board(moves)\n",
    "        res = check_victory(grid)\n",
    "        if res:\n",
    "            return res\n",
    "        elif num_mvs < 9:\n",
    "            return \"Pending\"\n",
    "        else:\n",
    "            return \"Draw\""
   ]
  },
  {
   "cell_type": "code",
   "execution_count": null,
   "metadata": {},
   "outputs": [],
   "source": []
  }
 ],
 "metadata": {
  "kernelspec": {
   "display_name": "Python (data)",
   "language": "python",
   "name": "data"
  },
  "language_info": {
   "codemirror_mode": {
    "name": "ipython",
    "version": 3
   },
   "file_extension": ".py",
   "mimetype": "text/x-python",
   "name": "python",
   "nbconvert_exporter": "python",
   "pygments_lexer": "ipython3",
   "version": "3.8.3"
  }
 },
 "nbformat": 4,
 "nbformat_minor": 4
}
