{
 "cells": [
  {
   "cell_type": "markdown",
   "metadata": {},
   "source": [
    "https://leetcode.com/problems/letter-combinations-of-a-phone-number/"
   ]
  },
  {
   "cell_type": "code",
   "execution_count": 1,
   "metadata": {
    "ExecuteTime": {
     "end_time": "2020-10-17T07:16:04.854206Z",
     "start_time": "2020-10-17T07:16:04.849196Z"
    }
   },
   "outputs": [],
   "source": [
    "class Solution:\n",
    "    def letterCombinations(self, digits: str):\n",
    "        if not digits:\n",
    "            return []\n",
    "        num2ltrs = {\n",
    "            2:\"abc\",\n",
    "            3:\"def\",\n",
    "            4:\"ghi\",\n",
    "            5:\"jkl\",\n",
    "            6: \"mno\",\n",
    "            7:\"pqrs\",\n",
    "            8:\"tuv\",\n",
    "            9:\"wxyz\"\n",
    "            }\n",
    "        def dot_comb(l1,l2):\n",
    "            res = []\n",
    "            for i in l1:\n",
    "                for j in l2:\n",
    "                    res.append(i+j)\n",
    "            return res\n",
    "        digits = list(map(int,list(digits)))\n",
    "        res = list(num2ltrs[digits.pop(0)])\n",
    "        while digits:\n",
    "            digit = digits.pop(0)\n",
    "            res = dot_comb(res,list(num2ltrs[digit]))\n",
    "        return res\n",
    "            \n",
    "            \n",
    "            "
   ]
  },
  {
   "cell_type": "code",
   "execution_count": null,
   "metadata": {},
   "outputs": [],
   "source": []
  }
 ],
 "metadata": {
  "kernelspec": {
   "display_name": "Python (data)",
   "language": "python",
   "name": "data"
  },
  "language_info": {
   "codemirror_mode": {
    "name": "ipython",
    "version": 3
   },
   "file_extension": ".py",
   "mimetype": "text/x-python",
   "name": "python",
   "nbconvert_exporter": "python",
   "pygments_lexer": "ipython3",
   "version": "3.8.3"
  }
 },
 "nbformat": 4,
 "nbformat_minor": 4
}
