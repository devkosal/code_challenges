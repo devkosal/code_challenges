{
 "cells": [
  {
   "cell_type": "markdown",
   "metadata": {},
   "source": [
    "https://leetcode.com/problems/heaters/"
   ]
  },
  {
   "cell_type": "code",
   "execution_count": 29,
   "metadata": {},
   "outputs": [],
   "source": [
    "def findRadius(houses, heaters) -> int:\n",
    "    def is_covered(houses, heaters, radius):\n",
    "        coverage = []\n",
    "        for h in heaters:\n",
    "            coverage += [j for j in range(h-radius,h+radius+1)]\n",
    "        return all([house in coverage for house in houses])\n",
    "    covered = all([house in heaters for house in houses])\n",
    "    i = 0\n",
    "    while covered == False:\n",
    "        i+=1\n",
    "        covered = is_covered(houses, heaters, i)\n",
    "    return i"
   ]
  },
  {
   "cell_type": "code",
   "execution_count": 35,
   "metadata": {},
   "outputs": [
    {
     "data": {
      "text/plain": [
       "1"
      ]
     },
     "execution_count": 35,
     "metadata": {},
     "output_type": "execute_result"
    }
   ],
   "source": [
    "findRadius([1,5],[2])"
   ]
  },
  {
   "cell_type": "code",
   "execution_count": 33,
   "metadata": {},
   "outputs": [],
   "source": [
    "# findRadius([282475249,622650073,984943658,144108930,470211272,101027544,457850878,458777923],\n",
    "# [823564440,115438165,784484492,74243042,114807987,137522503,441282327,16531729,823378840,143542612])"
   ]
  },
  {
   "cell_type": "code",
   "execution_count": 49,
   "metadata": {},
   "outputs": [],
   "source": [
    "def findRadius(houses, heaters) -> int:\n",
    "    best = -float('inf')\n",
    "    for h in houses:\n",
    "        cur_best = min([abs(h-he) for he in heaters])\n",
    "        if cur_best > best: \n",
    "            best = cur_best\n",
    "    return best"
   ]
  },
  {
   "cell_type": "code",
   "execution_count": 51,
   "metadata": {},
   "outputs": [
    {
     "data": {
      "text/plain": [
       "1"
      ]
     },
     "execution_count": 51,
     "metadata": {},
     "output_type": "execute_result"
    }
   ],
   "source": [
    "findRadius([1,5],[2,5])"
   ]
  },
  {
   "cell_type": "code",
   "execution_count": null,
   "metadata": {},
   "outputs": [],
   "source": [
    "def findRadius(houses, heaters) -> int:\n",
    "    best = -float('inf')\n",
    "    for h in houses:\n",
    "        cur_best = min([abs(h-he) for he in heaters])\n",
    "        if cur_best > best: \n",
    "            best = cur_best\n",
    "    return best"
   ]
  },
  {
   "cell_type": "code",
   "execution_count": 33,
   "metadata": {},
   "outputs": [],
   "source": [
    "def findRadius(houses, heaters) -> int:\n",
    "    houses.sort()\n",
    "    heaters.sort()\n",
    "    j = 0\n",
    "    d = {}\n",
    "    cur_l = heaters[j]\n",
    "    cur_r = heaters[j]\n",
    "    h_len = len(heaters)-1\n",
    "    while j <= h_len:\n",
    "        for i,house in enumerate(houses):\n",
    "            while house>cur_r and j <= h_len:\n",
    "                j+=1\n",
    "                cur_l = cur_r\n",
    "                cur_r = heaters[j] if j <= h_len else cur_r\n",
    "            d[house] = (cur_l,cur_r)    \n",
    "        break\n",
    "    max_dist = 0\n",
    "#     return d\n",
    "    for k,h in d.items():\n",
    "        max_dist = max(min([abs(k-v) for v in h]),max_dist)\n",
    "    return max_dist#,d\n",
    "            "
   ]
  },
  {
   "cell_type": "code",
   "execution_count": 42,
   "metadata": {},
   "outputs": [],
   "source": [
    "ho,he = [90,95,100,20],[1,2,4]"
   ]
  },
  {
   "cell_type": "code",
   "execution_count": 36,
   "metadata": {},
   "outputs": [],
   "source": [
    "ho,he = [282475249,622650073,984943658,144108930,470211272,101027544,457850878,458777923],[823564440,115438165,784484492,74243042,114807987,137522503,441282327,16531729,823378840,143542612]        "
   ]
  },
  {
   "cell_type": "code",
   "execution_count": 43,
   "metadata": {},
   "outputs": [
    {
     "data": {
      "text/plain": [
       "96"
      ]
     },
     "execution_count": 43,
     "metadata": {},
     "output_type": "execute_result"
    }
   ],
   "source": [
    "findRadius(ho,he)"
   ]
  },
  {
   "cell_type": "code",
   "execution_count": 44,
   "metadata": {},
   "outputs": [],
   "source": [
    "def findRadius(houses, heaters) -> int:\n",
    "    houses.sort()\n",
    "    heaters.sort()\n",
    "    cur_l = heaters[j]\n",
    "    cur_r = heaters[j]\n",
    "    max_dist = j = 0\n",
    "    for i,house in enumerate(houses):\n",
    "        while house>cur_r and j <= len(heaters)-1:\n",
    "            j+=1\n",
    "            cur_l = cur_r\n",
    "            cur_r = heaters[j] if j <= len(heaters)-1 else cur_r\n",
    "        max_dist = max(min(abs(house-cur_l),abs(house-cur_r)),max_dist)\n",
    "    return max_dist"
   ]
  },
  {
   "cell_type": "code",
   "execution_count": 50,
   "metadata": {},
   "outputs": [],
   "source": [
    "ho,he = [90,95,100,20],[1,10]"
   ]
  },
  {
   "cell_type": "code",
   "execution_count": 51,
   "metadata": {},
   "outputs": [
    {
     "data": {
      "text/plain": [
       "90"
      ]
     },
     "execution_count": 51,
     "metadata": {},
     "output_type": "execute_result"
    }
   ],
   "source": [
    "findRadius(ho,he)"
   ]
  },
  {
   "cell_type": "code",
   "execution_count": null,
   "metadata": {},
   "outputs": [],
   "source": []
  }
 ],
 "metadata": {
  "kernelspec": {
   "display_name": "Python3 (fastai)",
   "language": "python",
   "name": "fastai"
  },
  "language_info": {
   "codemirror_mode": {
    "name": "ipython",
    "version": 3
   },
   "file_extension": ".py",
   "mimetype": "text/x-python",
   "name": "python",
   "nbconvert_exporter": "python",
   "pygments_lexer": "ipython3",
   "version": "3.7.5"
  }
 },
 "nbformat": 4,
 "nbformat_minor": 2
}
