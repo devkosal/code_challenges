{
 "cells": [
  {
   "cell_type": "markdown",
   "metadata": {},
   "source": [
    "https://leetcode.com/problems/house-robber/"
   ]
  },
  {
   "cell_type": "markdown",
   "metadata": {},
   "source": [
    "https://www.youtube.com/watch?v=ZwDDLAeeBM0 (Java Solution)"
   ]
  },
  {
   "cell_type": "code",
   "execution_count": 3,
   "metadata": {},
   "outputs": [],
   "source": [
    "def rob(nums) -> int:\n",
    "    if nums == []: return 0\n",
    "    dp = [None for i in range(len(nums)+1)]\n",
    "    dp[0] = 0\n",
    "    dp[1] = nums[0]\n",
    "    for i in range(2,len(nums)+1):\n",
    "        dp[i] = max(dp[i-1],dp[i-2]+nums[i-1])\n",
    "    return dp[len(nums)]"
   ]
  },
  {
   "cell_type": "code",
   "execution_count": 37,
   "metadata": {},
   "outputs": [],
   "source": [
    "# done after learnign educative courses\n",
    "def rob_recurisve(nums):\n",
    "    n = len(nums)\n",
    "    dp = [None for _ in range(n)]\n",
    "    def helper(i):\n",
    "        # base cases\n",
    "        if i >= n:\n",
    "            return 0\n",
    "        if dp[i]:\n",
    "            return dp[i]\n",
    "        sum0 = nums[i] + helper(i+2)\n",
    "        sum1 = helper(i+1)\n",
    "        return max(sum0, sum1)\n",
    "    return helper(0)\n",
    "\n",
    "def rob_iterative(nums):\n",
    "    \"\"\"same as rob\"\"\"\n",
    "    n = len(nums)\n",
    "    dp = [None for _ in range(n)]\n",
    "    dp[0] = nums[0]\n",
    "    dp[1] = max(nums[:2])\n",
    "    for i in range(2, n):\n",
    "        dp[i] = max(dp[i-2] + nums[i], dp[i-1])\n",
    "    return dp[-1]"
   ]
  },
  {
   "cell_type": "code",
   "execution_count": 38,
   "metadata": {},
   "outputs": [],
   "source": [
    "nums = [ 3,10, 3, 4,10, 3]\n",
    "dp   = [ 3,10,10,14,20,20]"
   ]
  },
  {
   "cell_type": "code",
   "execution_count": 39,
   "metadata": {},
   "outputs": [
    {
     "data": {
      "text/plain": [
       "(20, 20, 20)"
      ]
     },
     "execution_count": 39,
     "metadata": {},
     "output_type": "execute_result"
    }
   ],
   "source": [
    "rob(nums),rob_recurisve(nums), rob_iterative(nums)"
   ]
  },
  {
   "cell_type": "code",
   "execution_count": null,
   "metadata": {},
   "outputs": [],
   "source": []
  }
 ],
 "metadata": {
  "kernelspec": {
   "display_name": "Python 3",
   "language": "python",
   "name": "python3"
  },
  "language_info": {
   "codemirror_mode": {
    "name": "ipython",
    "version": 3
   },
   "file_extension": ".py",
   "mimetype": "text/x-python",
   "name": "python",
   "nbconvert_exporter": "python",
   "pygments_lexer": "ipython3",
   "version": "3.9.1"
  }
 },
 "nbformat": 4,
 "nbformat_minor": 2
}
