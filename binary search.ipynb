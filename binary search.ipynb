{
 "cells": [
  {
   "cell_type": "markdown",
   "metadata": {},
   "source": [
    "Find the index of an item in a sorted list. Return -1 if item not in list."
   ]
  },
  {
   "cell_type": "markdown",
   "metadata": {},
   "source": [
    "https://leetcode.com/problems/binary-search/"
   ]
  },
  {
   "cell_type": "code",
   "execution_count": 17,
   "metadata": {},
   "outputs": [],
   "source": [
    "l = [1,2,3,4,5,6,7,8,9,10,11]\n",
    "l2 = [3,5,6,9,40,100]"
   ]
  },
  {
   "cell_type": "code",
   "execution_count": 18,
   "metadata": {},
   "outputs": [],
   "source": [
    "def bs(arr,val):\n",
    "    if len(arr) < 1: return -1 \n",
    "    low = 0\n",
    "    high = len(arr) - 1\n",
    "    \n",
    "    def helper(arr, val, low, high):\n",
    "        if low>high: return -1\n",
    "        \n",
    "        mid = low + (high-low)//2 # same as (low+high)//2\n",
    "        \n",
    "        if arr[mid] == val:\n",
    "            return mid\n",
    "        elif arr[mid] > val:\n",
    "            high = mid - 1\n",
    "            return helper(arr,val,low,high)\n",
    "        else:\n",
    "            low = mid + 1\n",
    "            return helper(arr,val,low,high)\n",
    "    \n",
    "    return helper(arr,val,low,high)\n",
    "    "
   ]
  },
  {
   "cell_type": "code",
   "execution_count": 20,
   "metadata": {},
   "outputs": [
    {
     "data": {
      "text/plain": [
       "-1"
      ]
     },
     "execution_count": 20,
     "metadata": {},
     "output_type": "execute_result"
    }
   ],
   "source": [
    "bs(l,14)"
   ]
  },
  {
   "cell_type": "code",
   "execution_count": null,
   "metadata": {},
   "outputs": [],
   "source": [
    "# another variation\n",
    "def binary_search(nums, target):\n",
    "    \"\"\"\n",
    "    nums: sorted array\n",
    "    target = value for which the index will be returned\n",
    "    \"\"\"\n",
    "    if len(nums) < 1: return -1\n",
    "    low = 0\n",
    "    high = len(nums)\n",
    "    \n",
    "    def bs_helper(nums, targ, low, high):\n",
    "        if low > high:\n",
    "            return -1\n",
    "        mid = (low+high)//2\n",
    "        if nums[mid] == targ: \n",
    "            return mid\n",
    "        elif targ < nums[mid]:\n",
    "            return bs_helper(nums, targ, low, mid-1)\n",
    "        elif targ > nums[mid]: \n",
    "            return bs_helper(nums, targ, mid+1, high)\n",
    "    return bs_helper(nums, target, low, high)\n"
   ]
  },
  {
   "cell_type": "code",
   "execution_count": 114,
   "metadata": {},
   "outputs": [
    {
     "data": {
      "text/plain": [
       "9"
      ]
     },
     "execution_count": 114,
     "metadata": {},
     "output_type": "execute_result"
    }
   ],
   "source": [
    "binary_search(l,10)"
   ]
  },
  {
   "cell_type": "code",
   "execution_count": 112,
   "metadata": {},
   "outputs": [],
   "source": [
    "def binary_search(nums, target):\n",
    "    low = 0\n",
    "    high = len(nums)-1\n",
    "    while low <= high:\n",
    "        mid = (low+high)//2\n",
    "        if target == nums[mid]:\n",
    "            return mid\n",
    "        elif target > nums[mid]:\n",
    "            low = mid + 1\n",
    "        else:\n",
    "            high = mid - 1\n",
    "    return -1\n",
    "\n",
    "binary_search(l,10)"
   ]
  },
  {
   "cell_type": "markdown",
   "metadata": {},
   "source": [
    "# Other Implementations"
   ]
  },
  {
   "cell_type": "code",
   "execution_count": null,
   "metadata": {},
   "outputs": [],
   "source": [
    "# https://stackoverflow.com/a/46240660\n",
    "\n",
    "def binarySearch(elem, arr):\n",
    "    # return the index at which elem lies, or return false\n",
    "    # if elem is not found\n",
    "    # pre: array must be sorted\n",
    "    return binarySearchHelper(elem, arr, 0, len(arr) - 1)\n",
    "\n",
    "def binarySearchHelper(elem, arr, start, end):\n",
    "    if start > end:\n",
    "        return False\n",
    "    mid = (start + end)//2\n",
    "    if arr[mid] == elem:\n",
    "        return mid\n",
    "    elif arr[mid] > elem:\n",
    "        # recurse to the left of mid\n",
    "        return binarySearchHelper(elem, arr, start, mid - 1)\n",
    "    else:\n",
    "        # recurse to the right of mid\n",
    "        return binarySearchHelper(elem, arr, mid + 1, end)"
   ]
  },
  {
   "cell_type": "code",
   "execution_count": null,
   "metadata": {},
   "outputs": [],
   "source": [
    "# https://www.freecodecamp.org/news/binary-search-in-python-visual-introduction/\n",
    "\n",
    "def binary_search(data, elem):\n",
    "\n",
    "    low = 0\n",
    "    high = len(data) - 1\n",
    "\n",
    "    while low <= high:\n",
    "      \n",
    "        middle = (low + high)//2\n",
    "       \n",
    "        if data[middle] == elem:\n",
    "            return middle\n",
    "        elif data[middle] > elem:\n",
    "            high = middle - 1\n",
    "        else:\n",
    "            low = middle + 1\n",
    "\n",
    "    return -1"
   ]
  },
  {
   "cell_type": "markdown",
   "metadata": {},
   "source": [
    "# Binary Search for closest left index "
   ]
  },
  {
   "cell_type": "code",
   "execution_count": 128,
   "metadata": {},
   "outputs": [],
   "source": [
    "def bs_close(nums, targ):\n",
    "    \"\"\"\n",
    "    finds the closest left index for a target number\n",
    "    \n",
    "    \"\"\"\n",
    "    if len(nums) < 1: raise ValueError(f\"input array nums, {nums} is empty\")\n",
    "    if targ > nums[-1]: return nums[-1]\n",
    "    low = 0\n",
    "    high = len(nums) - 2\n",
    "    while low <= high:\n",
    "        mid = (low+high)//2\n",
    "        if nums[mid] < targ < nums[mid+1]:\n",
    "            return mid\n",
    "        elif targ > nums[mid]:\n",
    "            low = mid + 1\n",
    "        elif targ < nums[mid]:\n",
    "            high = mid - 1\n",
    "    return -1\n",
    "    \n",
    "    "
   ]
  },
  {
   "cell_type": "code",
   "execution_count": 132,
   "metadata": {},
   "outputs": [
    {
     "data": {
      "text/plain": [
       "-1"
      ]
     },
     "execution_count": 132,
     "metadata": {},
     "output_type": "execute_result"
    }
   ],
   "source": [
    "bs_close(l,0)"
   ]
  },
  {
   "cell_type": "code",
   "execution_count": 121,
   "metadata": {},
   "outputs": [
    {
     "data": {
      "text/plain": [
       "5"
      ]
     },
     "execution_count": 121,
     "metadata": {},
     "output_type": "execute_result"
    }
   ],
   "source": [
    "l[4]"
   ]
  },
  {
   "cell_type": "code",
   "execution_count": 123,
   "metadata": {},
   "outputs": [
    {
     "data": {
      "text/plain": [
       "5"
      ]
     },
     "execution_count": 123,
     "metadata": {},
     "output_type": "execute_result"
    }
   ],
   "source": [
    "l2[1]"
   ]
  },
  {
   "cell_type": "code",
   "execution_count": null,
   "metadata": {},
   "outputs": [],
   "source": []
  }
 ],
 "metadata": {
  "kernelspec": {
   "display_name": "Python3 (fastai)",
   "language": "python",
   "name": "fastai"
  },
  "language_info": {
   "codemirror_mode": {
    "name": "ipython",
    "version": 3
   },
   "file_extension": ".py",
   "mimetype": "text/x-python",
   "name": "python",
   "nbconvert_exporter": "python",
   "pygments_lexer": "ipython3",
   "version": "3.7.5"
  }
 },
 "nbformat": 4,
 "nbformat_minor": 2
}
