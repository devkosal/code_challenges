{
 "cells": [
  {
   "cell_type": "markdown",
   "metadata": {},
   "source": [
    "https://leetcode.com/problems/longest-palindrome/"
   ]
  },
  {
   "cell_type": "code",
   "execution_count": 3,
   "metadata": {
    "ExecuteTime": {
     "end_time": "2020-10-08T04:23:05.364700Z",
     "start_time": "2020-10-08T04:23:05.361177Z"
    }
   },
   "outputs": [
    {
     "data": {
      "text/plain": [
       "Counter({'a': 3, 'b': 2})"
      ]
     },
     "execution_count": 3,
     "metadata": {},
     "output_type": "execute_result"
    }
   ],
   "source": [
    "from collections import Counter\n",
    "class Solution:\n",
    "    def longestPalindrome(self, s: str) -> int:\n",
    "        cnts = Counter(s)\n",
    "        res = 0\n",
    "        add = False\n",
    "        for k,v in cnts.items():\n",
    "            res += (v//2)*2\n",
    "            if v%2!=0 and not add:\n",
    "                add = True\n",
    "        return res + int(add)"
   ]
  },
  {
   "cell_type": "code",
   "execution_count": null,
   "metadata": {},
   "outputs": [],
   "source": [
    "class Solution:\n",
    "    \"\"\"\n",
    "    finds the length of the longest palindrome\n",
    "    \"\"\"\n",
    "    def longestPalindrome(self, s: str) -> int:\n",
    "        def is_palin(s):\n",
    "            return s==s[::-1]\n",
    "        l,r = 0,1\n",
    "        best = 0\n",
    "        while l < r:\n",
    "            sub = s[l:r]\n",
    "            if is_palin(sub):\n",
    "                best = max(best, len(sub))\n",
    "            if r < len(s):\n",
    "                r+=1\n",
    "            else:\n",
    "                l+=1\n",
    "        return best"
   ]
  }
 ],
 "metadata": {
  "kernelspec": {
   "display_name": "Python (data)",
   "language": "python",
   "name": "data"
  },
  "language_info": {
   "codemirror_mode": {
    "name": "ipython",
    "version": 3
   },
   "file_extension": ".py",
   "mimetype": "text/x-python",
   "name": "python",
   "nbconvert_exporter": "python",
   "pygments_lexer": "ipython3",
   "version": "3.8.3"
  }
 },
 "nbformat": 4,
 "nbformat_minor": 4
}
