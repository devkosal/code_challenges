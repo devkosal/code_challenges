{
 "cells": [
  {
   "cell_type": "markdown",
   "metadata": {},
   "source": [
    "https://www.hackerrank.com/challenges/minimum-distances/problem"
   ]
  },
  {
   "cell_type": "code",
   "execution_count": 1,
   "metadata": {
    "ExecuteTime": {
     "end_time": "2020-09-23T13:15:00.294427Z",
     "start_time": "2020-09-23T13:15:00.289332Z"
    }
   },
   "outputs": [],
   "source": [
    "def minimumDistances(a):\n",
    "    n = len(a)\n",
    "    if n == len(set(a)):\n",
    "        return -1\n",
    "    def dist(arr):\n",
    "        md = float('inf')\n",
    "        for i in range(len(arr)-1):\n",
    "            md = min(md,arr[i+1]-arr[i])\n",
    "        return md\n",
    "    idxs = {}\n",
    "    for i,v in enumerate(a):\n",
    "        if v not in idxs:\n",
    "            idxs[v] = [i]\n",
    "        else:\n",
    "            idxs[v].append(i)\n",
    "    min_dist = float('inf')\n",
    "    for k,v in idxs.items():\n",
    "        if len(v) > 1:\n",
    "            min_dist = min(min_dist, dist(v))\n",
    "    return min_dist"
   ]
  },
  {
   "cell_type": "code",
   "execution_count": null,
   "metadata": {},
   "outputs": [],
   "source": []
  }
 ],
 "metadata": {
  "kernelspec": {
   "display_name": "Python (data)",
   "language": "python",
   "name": "data"
  },
  "language_info": {
   "codemirror_mode": {
    "name": "ipython",
    "version": 3
   },
   "file_extension": ".py",
   "mimetype": "text/x-python",
   "name": "python",
   "nbconvert_exporter": "python",
   "pygments_lexer": "ipython3",
   "version": "3.8.3"
  }
 },
 "nbformat": 4,
 "nbformat_minor": 4
}
