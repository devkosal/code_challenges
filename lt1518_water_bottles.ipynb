{
 "cells": [
  {
   "cell_type": "markdown",
   "metadata": {},
   "source": [
    "https://leetcode.com/problems/water-bottles/"
   ]
  },
  {
   "cell_type": "code",
   "execution_count": 1,
   "metadata": {
    "ExecuteTime": {
     "end_time": "2020-09-14T06:14:46.141194Z",
     "start_time": "2020-09-14T06:14:46.136990Z"
    }
   },
   "outputs": [],
   "source": [
    "class Solution:\n",
    "    def numWaterBottles(self, numBottles: int, numExchange: int) -> int:\n",
    "        res = numBottles\n",
    "        def helper(n):\n",
    "            if n < numExchange:\n",
    "                return 0\n",
    "            e = n//numExchange\n",
    "            left = n%numExchange\n",
    "            n = e \n",
    "            return n + helper(n+left)\n",
    "        return res + helper(numBottles)\n",
    "        "
   ]
  },
  {
   "cell_type": "code",
   "execution_count": 2,
   "metadata": {
    "ExecuteTime": {
     "end_time": "2020-09-14T06:17:21.100270Z",
     "start_time": "2020-09-14T06:17:21.096831Z"
    }
   },
   "outputs": [],
   "source": [
    "class Solution:\n",
    "    def numWaterBottles(self, numBottles: int, numExchange: int) -> int:\n",
    "        res = numBottles\n",
    "        n = numBottles\n",
    "        while n >= numExchange:\n",
    "            left = n%numExchange\n",
    "            n = n // numExchange\n",
    "            res += n\n",
    "            n += left\n",
    "        return res"
   ]
  },
  {
   "cell_type": "code",
   "execution_count": null,
   "metadata": {},
   "outputs": [],
   "source": []
  }
 ],
 "metadata": {
  "kernelspec": {
   "display_name": "Python (data)",
   "language": "python",
   "name": "data"
  },
  "language_info": {
   "codemirror_mode": {
    "name": "ipython",
    "version": 3
   },
   "file_extension": ".py",
   "mimetype": "text/x-python",
   "name": "python",
   "nbconvert_exporter": "python",
   "pygments_lexer": "ipython3",
   "version": "3.8.3"
  }
 },
 "nbformat": 4,
 "nbformat_minor": 4
}
