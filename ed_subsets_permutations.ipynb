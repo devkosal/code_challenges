{
 "cells": [
  {
   "cell_type": "markdown",
   "metadata": {},
   "source": [
    "String Permutations by changing case (medium)\n"
   ]
  },
  {
   "cell_type": "markdown",
   "metadata": {},
   "source": [
    "https://www.educative.io/courses/grokking-the-coding-interview/xVlKmyX542P"
   ]
  },
  {
   "cell_type": "code",
   "execution_count": 2,
   "metadata": {},
   "outputs": [
    {
     "name": "stdout",
     "output_type": "stream",
     "text": [
      "String permutations are: ['ad52', 'aD52', 'AD52', 'Ad52']\n",
      "String permutations are: ['ab7c', 'ab7C', 'aB7C', 'aB7c', 'AB7c', 'AB7C', 'Ab7C', 'Ab7c']\n"
     ]
    }
   ],
   "source": [
    "def find_letter_case_string_permutations(str):\n",
    "    str = list(str)\n",
    "    res = []\n",
    "    str_len = len(str)\n",
    "    is_numeric = [char.isnumeric() for char in str]\n",
    "    def helper(i, s):\n",
    "        if i == str_len:\n",
    "            res.append(\"\".join(str))\n",
    "            return \n",
    "        char = s[i]\n",
    "        helper(i+1, s)\n",
    "        if not is_numeric[i]:\n",
    "            s[i] = char.upper() if char.islower() else char.lower()\n",
    "            helper(i+1, s)\n",
    "    helper(0, str)\n",
    "    return res\n",
    "\n",
    "\n",
    "def main():\n",
    "    print(\"String permutations are: \" +\n",
    "                str(find_letter_case_string_permutations(\"ad52\")))\n",
    "    print(\"String permutations are: \" +\n",
    "                str(find_letter_case_string_permutations(\"ab7c\")))\n",
    "\n",
    "\n",
    "main()"
   ]
  },
  {
   "cell_type": "code",
   "execution_count": 9,
   "metadata": {},
   "outputs": [
    {
     "data": {
      "text/plain": [
       "6"
      ]
     },
     "execution_count": 9,
     "metadata": {},
     "output_type": "execute_result"
    }
   ],
   "source": [
    "eval(\"2*3\")"
   ]
  },
  {
   "cell_type": "markdown",
   "metadata": {},
   "source": [
    "## Evaluate Expressions"
   ]
  },
  {
   "cell_type": "markdown",
   "metadata": {},
   "source": [
    "https://www.educative.io/courses/grokking-the-coding-interview/gx7O7nO0R8l"
   ]
  },
  {
   "cell_type": "markdown",
   "metadata": {},
   "source": [
    "```\n",
    "Evaluate Expression (hard) #\n",
    "Given an expression containing digits and operations (+, -, *), find all possible ways in which the expression can be evaluated by grouping the numbers and operators using parentheses.\n",
    "\n",
    "Example 1:\n",
    "\n",
    "Input: \"1+2*3\"\n",
    "Output: 7, 9\n",
    "Explanation: 1+(2*3) => 7 and (1+2)*3 => 9\n",
    "Example 2:\n",
    "\n",
    "Input: \"2*3-4-5\"\n",
    "Output: 8, -12, 7, -7, -3 \n",
    "Explanation: 2*(3-(4-5)) => 8, 2*(3-4-5) => -12, 2*3-(4-5) => 7, 2*(3-4)-5 => -7, (2*3)-4-5 => -3\n",
    "\n",
    "\n",
    "```"
   ]
  },
  {
   "cell_type": "code",
   "execution_count": 10,
   "metadata": {},
   "outputs": [
    {
     "name": "stdout",
     "output_type": "stream",
     "text": [
      "Expression evaluations: [7, 9]\n",
      "Expression evaluations: [8, -12, 7, -7, -3]\n"
     ]
    }
   ],
   "source": [
    "def diff_ways_to_evaluate_expression(input):\n",
    "    input_unique_chars = set(input)\n",
    "    if len(input_unique_chars.difference(set(\"*+-\"))) == len(input_unique_chars):\n",
    "        return [input]\n",
    "    result = []\n",
    "    for i, char in enumerate(input):\n",
    "        if not char.isdigit():\n",
    "            left = diff_ways_to_evaluate_expression(input[:i])\n",
    "            right = diff_ways_to_evaluate_expression(input[i+1:])\n",
    "            for left_part in left:\n",
    "                for right_part in right:\n",
    "                    result.append(eval(\"{}{}{}\".format(left_part, char, right_part)))\n",
    "    return result\n",
    "\n",
    "\n",
    "def main():\n",
    "    print(\"Expression evaluations: \" +\n",
    "                str(diff_ways_to_evaluate_expression(\"1+2*3\")))\n",
    "\n",
    "    print(\"Expression evaluations: \" +\n",
    "                str(diff_ways_to_evaluate_expression(\"2*3-4-5\")))\n",
    "\n",
    "\n",
    "main()\n"
   ]
  },
  {
   "cell_type": "code",
   "execution_count": null,
   "metadata": {},
   "outputs": [],
   "source": []
  }
 ],
 "metadata": {
  "kernelspec": {
   "display_name": "Python 3",
   "language": "python",
   "name": "python3"
  },
  "language_info": {
   "codemirror_mode": {
    "name": "ipython",
    "version": 3
   },
   "file_extension": ".py",
   "mimetype": "text/x-python",
   "name": "python",
   "nbconvert_exporter": "python",
   "pygments_lexer": "ipython3",
   "version": "3.8.5"
  }
 },
 "nbformat": 4,
 "nbformat_minor": 5
}
