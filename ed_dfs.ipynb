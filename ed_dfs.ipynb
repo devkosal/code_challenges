{
 "cells": [
  {
   "cell_type": "markdown",
   "id": "considerable-voluntary",
   "metadata": {},
   "source": [
    "https://www.educative.io/courses/grokking-the-coding-interview/JYVW7l2L4EJ"
   ]
  },
  {
   "cell_type": "code",
   "execution_count": 11,
   "id": "configured-examination",
   "metadata": {},
   "outputs": [
    {
     "name": "stdout",
     "output_type": "stream",
     "text": [
      "Tree Diameter: 5\n",
      "Tree Diameter: 7\n"
     ]
    }
   ],
   "source": [
    "class TreeNode:\n",
    "    def __init__(self, val, left=None, right=None):\n",
    "        self.val = val\n",
    "        self.left = left\n",
    "        self.right = right\n",
    "\n",
    "\n",
    "class TreeDiameter:\n",
    "    \"\"\"solution 1 (mine) requried double recursion\"\"\"\n",
    "    def __init__(self):\n",
    "        self.treeDiameter = 0\n",
    "\n",
    "\n",
    "    def get_max_depth(self, root):\n",
    "        if not root:\n",
    "            return 0\n",
    "        return 1 + max(self.get_max_depth(root.left), self.get_max_depth(root.right))\n",
    "    \n",
    "    def find_diameter(self, root):\n",
    "        if not root:\n",
    "            return 0\n",
    "        runs = [\n",
    "            1 + self.get_max_depth(root.left) + self.get_max_depth(root.right),\n",
    "            self.find_diameter(root.left),\n",
    "            self.find_diameter(root.right)\n",
    "        ]\n",
    "        return max(runs)\n",
    "\n",
    "    \n",
    "class TreeDiameter:\n",
    "    \"\"\"solution 2 (theirs) faster\"\"\"\n",
    "    def __init__(self):\n",
    "        self.treeDiameter = 0\n",
    "\n",
    "    def get_max_depth(self, root):\n",
    "        if not root:\n",
    "            return 0\n",
    "        l = self.get_max_depth(root.left)\n",
    "        r = self.get_max_depth(root.right)\n",
    "        self.treeDiameter = max(self.treeDiameter, 1+l+r) # this is cool that it works and we can avoid the solution above\n",
    "        return 1 + max(l,r)\n",
    "    \n",
    "    def find_diameter(self, root):\n",
    "        self.get_max_depth(root)\n",
    "        return self.treeDiameter\n",
    "\n",
    "treeDiameter = TreeDiameter()\n",
    "root = TreeNode(1)\n",
    "root.left = TreeNode(2)\n",
    "root.right = TreeNode(3)\n",
    "root.left.left = TreeNode(4)\n",
    "root.right.left = TreeNode(5)\n",
    "root.right.right = TreeNode(6)\n",
    "print(\"Tree Diameter: \" + str(treeDiameter.find_diameter(root)))\n",
    "root.left.left = None\n",
    "root.right.left.left = TreeNode(7)\n",
    "root.right.left.right = TreeNode(8)\n",
    "root.right.right.left = TreeNode(9)\n",
    "root.right.left.right.left = TreeNode(10)\n",
    "root.right.right.left.left = TreeNode(11)\n",
    "print(\"Tree Diameter: \" + str(treeDiameter.find_diameter(root)))"
   ]
  },
  {
   "cell_type": "code",
   "execution_count": 18,
   "id": "illegal-donna",
   "metadata": {},
   "outputs": [
    {
     "name": "stdout",
     "output_type": "stream",
     "text": [
      "Maximum Path Sum: 6\n",
      "Maximum Path Sum: 31\n",
      "Maximum Path Sum: -1\n"
     ]
    }
   ],
   "source": [
    "import math\n",
    "\n",
    "\n",
    "class TreeNode:\n",
    "    def __init__(self, val, left=None, right=None):\n",
    "        self.val = val\n",
    "        self.left = left\n",
    "        self.right = right\n",
    "\n",
    "class TreeMaxSum:\n",
    "    def __init__(self):\n",
    "        self.max_sum = -float('inf')\n",
    "    \n",
    "    def get_max_sum(self, root):\n",
    "        if not root:\n",
    "            return 0\n",
    "        l = self.get_max_sum(root.left)\n",
    "        r = self.get_max_sum(root.right)\n",
    "        # in order to ignore paths which yield negative sums\n",
    "        l,r = max(l,0), max(r,0)\n",
    "        self.max_sum = max(self.max_sum, root.val+l+r)\n",
    "        return root.val + max(l, r)\n",
    "\n",
    "    def find_maximum_path_sum(self, root):\n",
    "        self.get_max_sum(root)\n",
    "        return self.max_sum\n",
    "    \n",
    "\n",
    "    \n",
    "root = TreeNode(1)\n",
    "root.left = TreeNode(2)\n",
    "root.right = TreeNode(3)\n",
    "find_maximum_path_sum = TreeMaxSum().find_maximum_path_sum\n",
    "print(\"Maximum Path Sum: \" + str(find_maximum_path_sum(root)))\n",
    "root.left.left = TreeNode(1)\n",
    "root.left.right = TreeNode(3)\n",
    "root.right.left = TreeNode(5)\n",
    "root.right.right = TreeNode(6)\n",
    "root.right.left.left = TreeNode(7)\n",
    "root.right.left.right = TreeNode(8)\n",
    "root.right.right.left = TreeNode(9)\n",
    "find_maximum_path_sum = TreeMaxSum().find_maximum_path_sum\n",
    "print(\"Maximum Path Sum: \" + str(find_maximum_path_sum(root)))\n",
    "\n",
    "root = TreeNode(-1)\n",
    "root.left = TreeNode(-3)\n",
    "find_maximum_path_sum = TreeMaxSum().find_maximum_path_sum\n",
    "print(\"Maximum Path Sum: \" + str(find_maximum_path_sum(root)))\n",
    "\n"
   ]
  },
  {
   "cell_type": "code",
   "execution_count": null,
   "id": "polyphonic-client",
   "metadata": {},
   "outputs": [],
   "source": []
  }
 ],
 "metadata": {
  "kernelspec": {
   "display_name": "Python 3",
   "language": "python",
   "name": "python3"
  },
  "language_info": {
   "codemirror_mode": {
    "name": "ipython",
    "version": 3
   },
   "file_extension": ".py",
   "mimetype": "text/x-python",
   "name": "python",
   "nbconvert_exporter": "python",
   "pygments_lexer": "ipython3",
   "version": "3.8.5"
  }
 },
 "nbformat": 4,
 "nbformat_minor": 5
}
