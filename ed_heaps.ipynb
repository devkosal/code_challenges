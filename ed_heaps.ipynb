{
 "cells": [
  {
   "cell_type": "markdown",
   "metadata": {},
   "source": [
    "## Top 'K' Frequent Numbers (medium)\n"
   ]
  },
  {
   "cell_type": "markdown",
   "metadata": {},
   "source": [
    "```\n",
    "Example 1:\n",
    "\n",
    "Input: [1, 3, 5, 12, 11, 12, 11], K = 2\n",
    "Output: [12, 11]\n",
    "Explanation: Both '11' and '12' apeared twice.\n",
    "Example 2:\n",
    "\n",
    "Input: [5, 12, 11, 3, 11], K = 2\n",
    "Output: [11, 5] or [11, 12] or [11, 3]\n",
    "Explanation: Only '11' appeared twice, all other numbers appeared once.\n",
    "\n",
    "```"
   ]
  },
  {
   "cell_type": "code",
   "execution_count": null,
   "metadata": {},
   "outputs": [],
   "source": [
    "from collections import defaultdict\n",
    "import heapq\n",
    "\n",
    "def find_k_frequent_numbers(nums, k):\n",
    "    topNumbers = []\n",
    "    counts = defaultdict(int)\n",
    "    for n in nums:\n",
    "        counts[n] += 1\n",
    "    max_heap = [(-count, n) for n,count in counts.items()]\n",
    "    heapq.heapify(max_heap)\n",
    "    res = []\n",
    "    while len(res) < k:\n",
    "        res.append(heapq.heappop(max_heap)[1])\n",
    "    return res\n",
    "\n",
    "\n",
    "def main():\n",
    "\n",
    "    print(\"Here are the K frequent numbers: \" +\n",
    "                str(find_k_frequent_numbers([1, 3, 5, 12, 11, 12, 11], 2)))\n",
    "\n",
    "    print(\"Here are the K frequent numbers: \" +\n",
    "                str(find_k_frequent_numbers([5, 12, 11, 3, 11], 2)))\n",
    "\n",
    "\n",
    "main()\n",
    "\n"
   ]
  }
 ],
 "metadata": {
  "kernelspec": {
   "display_name": "Python 3",
   "language": "python",
   "name": "python3"
  },
  "language_info": {
   "codemirror_mode": {
    "name": "ipython",
    "version": 3
   },
   "file_extension": ".py",
   "mimetype": "text/x-python",
   "name": "python",
   "nbconvert_exporter": "python",
   "pygments_lexer": "ipython3",
   "version": "3.8.5"
  }
 },
 "nbformat": 4,
 "nbformat_minor": 4
}
