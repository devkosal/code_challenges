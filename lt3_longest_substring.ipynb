{
 "cells": [
  {
   "cell_type": "markdown",
   "metadata": {},
   "source": [
    "https://leetcode.com/problems/longest-substring-without-repeating-characters/submissions/"
   ]
  },
  {
   "cell_type": "code",
   "execution_count": 83,
   "metadata": {
    "ExecuteTime": {
     "end_time": "2019-12-08T05:58:50.244805Z",
     "start_time": "2019-12-08T05:58:50.240510Z"
    }
   },
   "outputs": [],
   "source": [
    "def lengthOfLongestSubstring( s: str) -> int:\n",
    "    largest = 0\n",
    "    for i in range(len(s)):\n",
    "        sofar = s[i]\n",
    "        for j in range(i+1,len(s)):\n",
    "            if s[j] not in sofar: sofar += s[j]\n",
    "            else: break\n",
    "        largest = max(largest,len(sofar))\n",
    "    return largest\n",
    "        "
   ]
  },
  {
   "cell_type": "code",
   "execution_count": 94,
   "metadata": {
    "ExecuteTime": {
     "end_time": "2019-12-08T06:13:58.976375Z",
     "start_time": "2019-12-08T06:13:58.971784Z"
    }
   },
   "outputs": [
    {
     "data": {
      "text/plain": [
       "{'3': [0, 25],\n",
       " '8': [1, 14, 20, 30],\n",
       " '7': [2, 11, 16, 29],\n",
       " '4': [3, 22, 26],\n",
       " '9': [4, 9, 13, 31],\n",
       " 'g': [5, 32, 34, 36, 37, 38],\n",
       " 'f': [6, 33, 35],\n",
       " 'i': [7, 8],\n",
       " '2': [10, 15, 19, 24],\n",
       " '5': [12, 17, 27],\n",
       " '0': [18, 21],\n",
       " '1': [23],\n",
       " '6': [28]}"
      ]
     },
     "execution_count": 94,
     "metadata": {},
     "output_type": "execute_result"
    }
   ],
   "source": [
    "lengthOfLongestSubstring(\"38749gfii92759827502804123456789gfgfggg\")"
   ]
  },
  {
   "cell_type": "code",
   "execution_count": 100,
   "metadata": {
    "ExecuteTime": {
     "end_time": "2019-12-08T06:19:46.534331Z",
     "start_time": "2019-12-08T06:19:46.530481Z"
    }
   },
   "outputs": [],
   "source": [
    "def lengthOfLongestSubstring(self, s):\n",
    "    \"\"\"\n",
    "    :type s: str\n",
    "    :rtype: int\n",
    "    \"\"\"\n",
    "    \n",
    "    str_list = []\n",
    "    max_length = 0\n",
    "    \n",
    "    for x in s:\n",
    "        if x in str_list:\n",
    "            str_list = str_list[str_list.index(x)+1:]\n",
    "            \n",
    "        str_list.append(x)    \n",
    "        max_length = max(max_length, len(str_list))\n",
    "        \n",
    "    return max_length"
   ]
  }
 ],
 "metadata": {
  "kernelspec": {
   "display_name": "Python 3",
   "language": "python",
   "name": "python3"
  },
  "language_info": {
   "codemirror_mode": {
    "name": "ipython",
    "version": 3
   },
   "file_extension": ".py",
   "mimetype": "text/x-python",
   "name": "python",
   "nbconvert_exporter": "python",
   "pygments_lexer": "ipython3",
   "version": "3.7.3"
  },
  "varInspector": {
   "cols": {
    "lenName": 16,
    "lenType": 16,
    "lenVar": 40
   },
   "kernels_config": {
    "python": {
     "delete_cmd_postfix": "",
     "delete_cmd_prefix": "del ",
     "library": "var_list.py",
     "varRefreshCmd": "print(var_dic_list())"
    },
    "r": {
     "delete_cmd_postfix": ") ",
     "delete_cmd_prefix": "rm(",
     "library": "var_list.r",
     "varRefreshCmd": "cat(var_dic_list()) "
    }
   },
   "types_to_exclude": [
    "module",
    "function",
    "builtin_function_or_method",
    "instance",
    "_Feature"
   ],
   "window_display": false
  }
 },
 "nbformat": 4,
 "nbformat_minor": 2
}
