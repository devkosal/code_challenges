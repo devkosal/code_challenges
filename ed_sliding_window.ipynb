{
 "cells": [
  {
   "cell_type": "markdown",
   "metadata": {},
   "source": [
    "https://www.educative.io/courses/grokking-the-coding-interview/JPKr0kqLGNP"
   ]
  },
  {
   "cell_type": "code",
   "execution_count": 7,
   "metadata": {
    "ExecuteTime": {
     "end_time": "2020-12-06T23:29:36.149594Z",
     "start_time": "2020-12-06T23:29:36.146083Z"
    }
   },
   "outputs": [],
   "source": [
    "def max_sub_array_of_size_k(k, arr):\n",
    "    highest = -float('inf')\n",
    "    window_sum = 0\n",
    "    window_start = 0\n",
    "    for window_end in range(len(arr)-1):\n",
    "        window_sum += arr[window_end]\n",
    "        if window_end >= k-1:\n",
    "            highest = max(highest, window_sum)\n",
    "            window_sum -= arr[window_start]\n",
    "            window_start += 1\n",
    "        print(window_start, window_end)\n",
    "    return highest"
   ]
  },
  {
   "cell_type": "code",
   "execution_count": 9,
   "metadata": {
    "ExecuteTime": {
     "end_time": "2020-12-06T23:29:46.609857Z",
     "start_time": "2020-12-06T23:29:46.600340Z"
    }
   },
   "outputs": [
    {
     "name": "stdout",
     "output_type": "stream",
     "text": [
      "0 0\n",
      "0 1\n",
      "1 2\n",
      "2 3\n",
      "3 4\n"
     ]
    },
    {
     "data": {
      "text/plain": [
       "9"
      ]
     },
     "execution_count": 9,
     "metadata": {},
     "output_type": "execute_result"
    }
   ],
   "source": [
    "max_sub_array_of_size_k(3, [2, 1, 5, 1, 3, 2])"
   ]
  },
  {
   "cell_type": "markdown",
   "metadata": {},
   "source": [
    "### Permutation in string (hard)"
   ]
  },
  {
   "cell_type": "code",
   "execution_count": 54,
   "metadata": {},
   "outputs": [],
   "source": [
    "from collections import Counter\n",
    "from collections import defaultdict\n",
    "\n",
    "# O(N^2) because the dict comparison is O(N)\n",
    "def find_permutation(s: str, pat: str):\n",
    "    window_start = 0\n",
    "    k = len(pat)\n",
    "    p_cnts = Counter(pat) \n",
    "    s_cnts = defaultdict(int)\n",
    "    for window_end in range(len(s)):\n",
    "        right_char = s[window_end]\n",
    "        s_cnts[right_char] += 1\n",
    "        \n",
    "        if window_end - window_start + 1 > k:\n",
    "            left_char = s[window_start]\n",
    "            window_start += 1\n",
    "            s_cnts[left_char] -= 1\n",
    "            if s_cnts[left_char] == 0: \n",
    "                del s_cnts[left_char]\n",
    "\n",
    "        if p_cnts == s_cnts:\n",
    "            return True\n",
    "    return False"
   ]
  },
  {
   "cell_type": "code",
   "execution_count": 51,
   "metadata": {},
   "outputs": [
    {
     "data": {
      "text/plain": [
       "True"
      ]
     },
     "execution_count": 51,
     "metadata": {},
     "output_type": "execute_result"
    }
   ],
   "source": [
    "find_permutation(s=\"oidbcaf\", pat=\"abc\") # true"
   ]
  },
  {
   "cell_type": "code",
   "execution_count": 52,
   "metadata": {},
   "outputs": [
    {
     "data": {
      "text/plain": [
       "False"
      ]
     },
     "execution_count": 52,
     "metadata": {},
     "output_type": "execute_result"
    }
   ],
   "source": [
    "find_permutation(s=\"odicf\", pat=\"dc\")"
   ]
  },
  {
   "cell_type": "code",
   "execution_count": 53,
   "metadata": {},
   "outputs": [
    {
     "data": {
      "text/plain": [
       "True"
      ]
     },
     "execution_count": 53,
     "metadata": {},
     "output_type": "execute_result"
    }
   ],
   "source": [
    "find_permutation(s=\"bcdxabcdy\", pat=\"bcdyabcdx\")"
   ]
  },
  {
   "cell_type": "code",
   "execution_count": 72,
   "metadata": {},
   "outputs": [],
   "source": [
    "from collections import Counter\n",
    "def find_string_anagrams(s, pattern):\n",
    "    \"\"\"\n",
    "    https://www.educative.io/courses/grokking-the-coding-interview/xl2g3vxrMq3\n",
    "    \"\"\"\n",
    "    result_indexes = []\n",
    "    window_start, matched = 0, 0\n",
    "    counts = Counter(pattern)\n",
    "    \n",
    "    k = len(pattern)\n",
    "    for window_end in range(len(s)):\n",
    "        right_char = s[window_end]\n",
    "        if right_char in counts:\n",
    "            counts[right_char] -= 1\n",
    "            if counts[right_char] == 0:\n",
    "                matched += 1\n",
    "        if matched == len(counts):\n",
    "            result_indexes.append(window_start)\n",
    "        if window_end >= k - 1:\n",
    "            left_char = s[window_start]\n",
    "            if left_char in counts:\n",
    "                if counts[left_char] == 0:\n",
    "                    matched -= 1\n",
    "                counts[left_char] += 1\n",
    "            window_start += 1\n",
    "    return result_indexes\n"
   ]
  },
  {
   "cell_type": "code",
   "execution_count": 74,
   "metadata": {},
   "outputs": [
    {
     "data": {
      "text/plain": [
       "[2, 3, 4]"
      ]
     },
     "execution_count": 74,
     "metadata": {},
     "output_type": "execute_result"
    }
   ],
   "source": [
    "find_string_anagrams(\"abbcabc\", \"abc\") # Output: [2, 3, 4]"
   ]
  },
  {
   "cell_type": "code",
   "execution_count": 76,
   "metadata": {},
   "outputs": [
    {
     "data": {
      "text/plain": [
       "[1, 2]"
      ]
     },
     "execution_count": 76,
     "metadata": {},
     "output_type": "execute_result"
    }
   ],
   "source": [
    "find_string_anagrams(\"ppqp\", \"pq\") # Output: [1, 2])"
   ]
  },
  {
   "cell_type": "code",
   "execution_count": 100,
   "metadata": {},
   "outputs": [],
   "source": [
    "def find_substring(s, pattern):\n",
    "    \"\"\"\n",
    "    https://www.educative.io/courses/grokking-the-coding-interview/3wDJAYG2pAR\n",
    "    \"\"\"\n",
    "    window_start, matched = 0,0\n",
    "    best_len = float('inf')\n",
    "    best_str = \"\"\n",
    "    counts = Counter(pattern)\n",
    "    k = len(pattern)\n",
    "    \n",
    "    for window_end in range(len(s)):\n",
    "        right_char = s[window_end]\n",
    "        if right_char in counts:\n",
    "            counts[right_char] -= 1\n",
    "            if counts[right_char] == 0:\n",
    "                matched += 1\n",
    "        while matched == len(counts):\n",
    "            candidate_len = window_end - window_start + 1\n",
    "            if candidate_len < best_len:\n",
    "                best_len = candidate_len\n",
    "                best_str = s[window_start:window_end+1]\n",
    "                \n",
    "            left_char = s[window_start]\n",
    "            if left_char in counts:\n",
    "                if counts[left_char] == 0:\n",
    "                    matched -= 1\n",
    "                counts[left_char] += 1\n",
    "            window_start += 1\n",
    "    \n",
    "    return best_str"
   ]
  },
  {
   "cell_type": "code",
   "execution_count": 101,
   "metadata": {},
   "outputs": [
    {
     "data": {
      "text/plain": [
       "'abdec'"
      ]
     },
     "execution_count": 101,
     "metadata": {},
     "output_type": "execute_result"
    }
   ],
   "source": [
    "find_substring(\"aabdec\", \"abc\") # abdec"
   ]
  },
  {
   "cell_type": "code",
   "execution_count": 102,
   "metadata": {},
   "outputs": [
    {
     "data": {
      "text/plain": [
       "'bca'"
      ]
     },
     "execution_count": 102,
     "metadata": {},
     "output_type": "execute_result"
    }
   ],
   "source": [
    "find_substring(\"abdbca\", \"abc\") # bca"
   ]
  },
  {
   "cell_type": "code",
   "execution_count": 103,
   "metadata": {},
   "outputs": [
    {
     "data": {
      "text/plain": [
       "''"
      ]
     },
     "execution_count": 103,
     "metadata": {},
     "output_type": "execute_result"
    }
   ],
   "source": [
    "find_substring(\"adcad\", \"abc\")"
   ]
  },
  {
   "cell_type": "markdown",
   "metadata": {},
   "source": [
    "### Word Concatenation"
   ]
  },
  {
   "cell_type": "markdown",
   "metadata": {},
   "source": [
    "https://www.educative.io/courses/grokking-the-coding-interview/N8nMBvDQJ0m"
   ]
  },
  {
   "cell_type": "markdown",
   "metadata": {},
   "source": [
    "Given a string and a list of words, find all the starting indices of substrings in the given string that are a concatenation of all the given words exactly once without any overlapping of words. It is given that all words are of the same length.\n",
    "\n",
    "```\n",
    " Input: String=\"catfoxcat\", Words=[\"cat\", \"fox\"]\n",
    "Output: [0, 3]\n",
    "Explanation: The two substring containing both the words are \"catf\n",
    "ox\" & \"foxcat\".\n",
    "\n",
    "Input: String=\"catcatfoxfox\", Words=[\"cat\", \"fox\"]\n",
    "Output: [3]\n",
    "Explanation: The only substring containing both the words is \"catf\n",
    "ox\".\n",
    "```"
   ]
  },
  {
   "cell_type": "code",
   "execution_count": null,
   "metadata": {},
   "outputs": [],
   "source": [
    "from collections import Counter\n",
    "def find_word_concatenation(s, words):\n",
    "    window_start = 0\n",
    "    num_words = len(words)\n",
    "    word_len = len(words[0])\n",
    "    word_counts = Counter(words)\n",
    "    matched = 0\n",
    "    res = []\n",
    "    for window_end in range(len(s_tokens)):\n",
    "\n",
    "        "
   ]
  },
  {
   "cell_type": "code",
   "execution_count": 152,
   "metadata": {},
   "outputs": [],
   "source": [
    "from collections import Counter\n",
    "def find_word_concatenation(s, words):\n",
    "    window_start = 0\n",
    "    n = len(s)\n",
    "    num_words = len(words)\n",
    "    word_len = len(words[0])\n",
    "    res = []\n",
    "    word_frequency = Counter(words)\n",
    "    # cool range set up so we don't check any i after it's impossible for all words to exist\n",
    "    for i in range(n - num_words*word_len+1): \n",
    "        words_seen = {}\n",
    "        for j in range(num_words):\n",
    "            next_word_index = i + j * word_len\n",
    "            # Get the next word from the string \n",
    "            # (again some cool indexing to get a valid word from current index)\n",
    "            word = s[next_word_index: next_word_index + word_len]\n",
    "            \n",
    "            # break if word is not a valud word. then we know that this substring is invalid\n",
    "            if word not in word_frequency:\n",
    "                break\n",
    "            \n",
    "            # keep a seperate counter of words already seen\n",
    "            if word not in words_seen:\n",
    "                words_seen[word] = 1\n",
    "            else:\n",
    "                words_seen[word] += 1\n",
    "            \n",
    "            # need to confirm the time complexity of this\n",
    "            # https://www.educative.io/courses/grokking-the-coding-interview/N8nMBvDQJ0m\n",
    "            if words_seen == word_frequency:\n",
    "                res.append(i)\n",
    "    return res\n",
    "        "
   ]
  },
  {
   "cell_type": "code",
   "execution_count": 154,
   "metadata": {},
   "outputs": [
    {
     "data": {
      "text/plain": [
       "[0, 3]"
      ]
     },
     "execution_count": 154,
     "metadata": {},
     "output_type": "execute_result"
    }
   ],
   "source": [
    "find_word_concatenation(\"catfoxcat\", words=[\"cat\", \"fox\"])"
   ]
  },
  {
   "cell_type": "code",
   "execution_count": 155,
   "metadata": {},
   "outputs": [
    {
     "data": {
      "text/plain": [
       "[3]"
      ]
     },
     "execution_count": 155,
     "metadata": {},
     "output_type": "execute_result"
    }
   ],
   "source": [
    "find_word_concatenation(\"catcatfoxfox\", words=[\"cat\", \"fox\"])"
   ]
  },
  {
   "cell_type": "code",
   "execution_count": null,
   "metadata": {},
   "outputs": [],
   "source": []
  }
 ],
 "metadata": {
  "kernelspec": {
   "display_name": "Python 3",
   "language": "python",
   "name": "python3"
  },
  "language_info": {
   "codemirror_mode": {
    "name": "ipython",
    "version": 3
   },
   "file_extension": ".py",
   "mimetype": "text/x-python",
   "name": "python",
   "nbconvert_exporter": "python",
   "pygments_lexer": "ipython3",
   "version": "3.8.5"
  }
 },
 "nbformat": 4,
 "nbformat_minor": 4
}
