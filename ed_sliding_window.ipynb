{
 "cells": [
  {
   "cell_type": "markdown",
   "metadata": {},
   "source": [
    "https://www.educative.io/courses/grokking-the-coding-interview/JPKr0kqLGNP"
   ]
  },
  {
   "cell_type": "code",
   "execution_count": 7,
   "metadata": {
    "ExecuteTime": {
     "end_time": "2020-12-06T23:29:36.149594Z",
     "start_time": "2020-12-06T23:29:36.146083Z"
    }
   },
   "outputs": [],
   "source": [
    "def max_sub_array_of_size_k(k, arr):\n",
    "    highest = -float('inf')\n",
    "    window_sum = 0\n",
    "    window_start = 0\n",
    "    for window_end in range(len(arr)-1):\n",
    "        window_sum += arr[window_end]\n",
    "        if window_end >= k-1:\n",
    "            highest = max(highest, window_sum)\n",
    "            window_sum -= arr[window_start]\n",
    "            window_start += 1\n",
    "        print(window_start, window_end)\n",
    "    return highest"
   ]
  },
  {
   "cell_type": "code",
   "execution_count": 9,
   "metadata": {
    "ExecuteTime": {
     "end_time": "2020-12-06T23:29:46.609857Z",
     "start_time": "2020-12-06T23:29:46.600340Z"
    }
   },
   "outputs": [
    {
     "name": "stdout",
     "output_type": "stream",
     "text": [
      "0 0\n",
      "0 1\n",
      "1 2\n",
      "2 3\n",
      "3 4\n"
     ]
    },
    {
     "data": {
      "text/plain": [
       "9"
      ]
     },
     "execution_count": 9,
     "metadata": {},
     "output_type": "execute_result"
    }
   ],
   "source": [
    "max_sub_array_of_size_k(3, [2, 1, 5, 1, 3, 2])"
   ]
  },
  {
   "cell_type": "code",
   "execution_count": null,
   "metadata": {},
   "outputs": [],
   "source": []
  }
 ],
 "metadata": {
  "kernelspec": {
   "display_name": "Python (data)",
   "language": "python",
   "name": "data"
  },
  "language_info": {
   "codemirror_mode": {
    "name": "ipython",
    "version": 3
   },
   "file_extension": ".py",
   "mimetype": "text/x-python",
   "name": "python",
   "nbconvert_exporter": "python",
   "pygments_lexer": "ipython3",
   "version": "3.8.3"
  }
 },
 "nbformat": 4,
 "nbformat_minor": 4
}
