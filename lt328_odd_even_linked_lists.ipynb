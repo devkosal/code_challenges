{
 "cells": [
  {
   "cell_type": "markdown",
   "metadata": {},
   "source": [
    "https://leetcode.com/problems/odd-even-linked-list/"
   ]
  },
  {
   "cell_type": "code",
   "execution_count": null,
   "metadata": {},
   "outputs": [],
   "source": [
    "# Definition for singly-linked list.\n",
    "class ListNode:\n",
    "    def __init__(self, x):\n",
    "        self.val = x\n",
    "        self.next = None\n",
    "\n",
    "class Solution:\n",
    "    def oddEvenList(self, head: ListNode) -> ListNode:\n",
    "        if head is None: return head\n",
    "        odd_h = head\n",
    "        even_h = head.next\n",
    "        odd = odd_h\n",
    "        even = even_h\n",
    "        while odd and even:\n",
    "            odd.next = odd.next.next if odd.next else None\n",
    "            even.next = even.next.next if even.next else None\n",
    "            even = even.next\n",
    "            if odd.next is None: \n",
    "                odd.next = even_h\n",
    "            elif odd.next.next is None:\n",
    "                odd.next.next = even_h\n",
    "            else:\n",
    "                odd = odd.next    \n",
    "        return odd_h\n",
    "            "
   ]
  }
 ],
 "metadata": {
  "kernelspec": {
   "display_name": "Python3 (fastai)",
   "language": "python",
   "name": "fastai"
  },
  "language_info": {
   "codemirror_mode": {
    "name": "ipython",
    "version": 3
   },
   "file_extension": ".py",
   "mimetype": "text/x-python",
   "name": "python",
   "nbconvert_exporter": "python",
   "pygments_lexer": "ipython3",
   "version": "3.7.5"
  }
 },
 "nbformat": 4,
 "nbformat_minor": 2
}
