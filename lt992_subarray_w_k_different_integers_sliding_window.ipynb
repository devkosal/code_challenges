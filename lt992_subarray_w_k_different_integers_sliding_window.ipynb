{
 "cells": [
  {
   "cell_type": "markdown",
   "metadata": {},
   "source": [
    "### Sub problem: find unique subsets in a list which have k distinct intergers"
   ]
  },
  {
   "cell_type": "markdown",
   "metadata": {},
   "source": [
    "https://leetcode.com/problems/subarrays-with-k-different-integers/submissions/"
   ]
  },
  {
   "cell_type": "code",
   "execution_count": 31,
   "metadata": {},
   "outputs": [],
   "source": [
    "from collections import defaultdict, Counter\n",
    "from typing import List\n",
    "class Solution:\n",
    "    def subarraysWithKDistinct(self, A: List[int], K: int) -> int:\n",
    "        def helper(k):\n",
    "            \"\"\"\n",
    "            counts all the subsets which have at most k unique intergers\n",
    "            \"\"\"\n",
    "            counts = defaultdict(int)\n",
    "            start = 0\n",
    "            res = 0\n",
    "            for end, rn in enumerate(A):\n",
    "                counts[rn] += 1\n",
    "                \n",
    "                while len(counts) > k:\n",
    "                    ln = A[start]\n",
    "                    counts[ln] -= 1\n",
    "                    if counts[ln] == 0:\n",
    "                        del counts[ln]\n",
    "                    start += 1\n",
    "                # this is the trickiest part. we add the window_length at the end of each loop to our answer\n",
    "                res += end - start + 1\n",
    "            return res\n",
    "        # here we are saying that if we subtract the at_most calcs for K and K-1, we end up with the the # of unique subsets at K\n",
    "        return helper(K) - helper(K-1)"
   ]
  },
  {
   "cell_type": "markdown",
   "metadata": {},
   "source": [
    "### bonus: find # of subsets with atleast K distinct elements"
   ]
  },
  {
   "cell_type": "code",
   "execution_count": 32,
   "metadata": {},
   "outputs": [],
   "source": [
    "def atleastK(A, K):\n",
    "    counts = defaultdict(int)\n",
    "    start, res = 0,0\n",
    "    for end, rn in enumerate(A):\n",
    "        counts[rn] += 1\n",
    "        \n",
    "        while len(counts) >= K:\n",
    "            ln = A[start]\n",
    "            counts[ln] -= 1\n",
    "            if counts[ln] == 0:\n",
    "                del counts[ln]\n",
    "            start += 1\n",
    "        \n",
    "    return res"
   ]
  },
  {
   "cell_type": "code",
   "execution_count": 33,
   "metadata": {},
   "outputs": [
    {
     "data": {
      "text/plain": [
       "4"
      ]
     },
     "execution_count": 33,
     "metadata": {},
     "output_type": "execute_result"
    }
   ],
   "source": [
    "atleastK([1,2,1,2,3], 2) "
   ]
  },
  {
   "cell_type": "code",
   "execution_count": null,
   "metadata": {},
   "outputs": [],
   "source": []
  }
 ],
 "metadata": {
  "kernelspec": {
   "display_name": "Python 3",
   "language": "python",
   "name": "python3"
  },
  "language_info": {
   "codemirror_mode": {
    "name": "ipython",
    "version": 3
   },
   "file_extension": ".py",
   "mimetype": "text/x-python",
   "name": "python",
   "nbconvert_exporter": "python",
   "pygments_lexer": "ipython3",
   "version": "3.8.5"
  }
 },
 "nbformat": 4,
 "nbformat_minor": 4
}
