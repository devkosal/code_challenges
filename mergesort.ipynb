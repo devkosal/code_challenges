{
 "cells": [
  {
   "cell_type": "code",
   "execution_count": 10,
   "metadata": {},
   "outputs": [],
   "source": [
    "import time"
   ]
  },
  {
   "cell_type": "code",
   "execution_count": 35,
   "metadata": {},
   "outputs": [],
   "source": [
    "# for comparisons\n",
    "def quicksort(arr):\n",
    "    if len(arr) == 0:\n",
    "        return []\n",
    "    left, right = [],[]\n",
    "    pivot = arr[-1]\n",
    "    for v in arr:\n",
    "        if v < pivot:\n",
    "            left.append(v)\n",
    "        elif v > pivot:\n",
    "            right.append(v)\n",
    "    return quicksort(left) + [pivot] + quicksort(right)\n",
    "            \n",
    "    "
   ]
  },
  {
   "cell_type": "markdown",
   "metadata": {},
   "source": [
    "- https://www.youtube.com/watch?v=Nso25TkBsYI\n",
    "- https://github.com/joeyajames/Python/blob/master/Sorting%20Algorithms/merge_sort.py"
   ]
  },
  {
   "cell_type": "markdown",
   "metadata": {},
   "source": [
    "#### Also see lt88_merge_sorted_array_merge_sort.ipynb"
   ]
  },
  {
   "cell_type": "code",
   "execution_count": 96,
   "metadata": {},
   "outputs": [],
   "source": [
    "def mergesort(arr):\n",
    "    \"\"\"\n",
    "    sorts items in n log n time and n space. \n",
    "    works well with larger arrays according to https://www.youtube.com/watch?v=Nso25TkBsYI\n",
    "    \"\"\"\n",
    "    def merge(arr,first,middle,last):\n",
    "        \"\"\"\n",
    "        merges two lists by updating the proper indicies in place in the primary input array\n",
    "        \"\"\"\n",
    "        L = arr[first:middle+1]\n",
    "        R = arr[middle+1:last+1]\n",
    "        L.append(float('inf'))\n",
    "        R.append(float('inf'))\n",
    "        i,j = 0,0\n",
    "        for k in range(first, last+1):\n",
    "            if L[i] <= R[j]:\n",
    "                arr[k] = L[i]\n",
    "                i += 1\n",
    "            else:\n",
    "                arr[k] = R[j]\n",
    "                j+=1\n",
    "    def sort(arr, first, last):\n",
    "        \"\"\"\n",
    "        main sorting function which divides the sorting into two chunks recursively until we only have arrays of len 1\n",
    "        \"\"\"\n",
    "        if first < last:\n",
    "            middle = (first+last)//2\n",
    "            sort(arr, first, middle)\n",
    "            sort(arr, middle+1,last)\n",
    "            merge(arr,first,middle,last)\n",
    "    sort(arr, 0, len(arr)-1)\n",
    "    print(arr)"
   ]
  },
  {
   "cell_type": "code",
   "execution_count": 110,
   "metadata": {
    "scrolled": true
   },
   "outputs": [
    {
     "name": "stdout",
     "output_type": "stream",
     "text": [
      "CPU times: user 2 µs, sys: 0 ns, total: 2 µs\n",
      "Wall time: 4.29 µs\n",
      "[1, 2, 3, 5, 8, 9, 30, 84]\n"
     ]
    }
   ],
   "source": [
    "%time\n",
    "arr = [5,9,1,3,2,8,84,30]\n",
    "mergesort(arr)"
   ]
  },
  {
   "cell_type": "code",
   "execution_count": 109,
   "metadata": {},
   "outputs": [
    {
     "name": "stdout",
     "output_type": "stream",
     "text": [
      "CPU times: user 2 µs, sys: 1 µs, total: 3 µs\n",
      "Wall time: 4.77 µs\n"
     ]
    },
    {
     "data": {
      "text/plain": [
       "[1, 2, 3, 5, 8, 9, 30, 84]"
      ]
     },
     "execution_count": 109,
     "metadata": {},
     "output_type": "execute_result"
    }
   ],
   "source": [
    "%time\n",
    "arr = [5,9,1,3,2,8,84,30]\n",
    "quicksort(arr)"
   ]
  },
  {
   "cell_type": "code",
   "execution_count": null,
   "metadata": {},
   "outputs": [],
   "source": []
  },
  {
   "cell_type": "code",
   "execution_count": null,
   "metadata": {},
   "outputs": [],
   "source": []
  },
  {
   "cell_type": "code",
   "execution_count": 149,
   "metadata": {},
   "outputs": [],
   "source": [
    "def mergesort(arr):\n",
    "    def merge(arr, low, mid, high):\n",
    "        L = arr[low:mid+1]\n",
    "        R = arr[mid+1:high+1]\n",
    "        L.append(float('inf'))\n",
    "        R.append(float('inf'))\n",
    "        i,j = 0,0\n",
    "        for k in range(low,high+1):\n",
    "            if L[i] <= R[j]:\n",
    "                arr[k] = L[i]\n",
    "                i+=1\n",
    "            else:\n",
    "                arr[k] = R[j]\n",
    "                j+=1\n",
    "        \n",
    "    def sort(arr, low, high):\n",
    "        if low < high:\n",
    "            mid = (low+high)//2\n",
    "            sort(arr,low,mid)\n",
    "            sort(arr,mid+1,high)\n",
    "            merge(arr, low, mid, high)\n",
    "    sort(arr,0,len(arr)-1)"
   ]
  },
  {
   "cell_type": "code",
   "execution_count": 150,
   "metadata": {},
   "outputs": [],
   "source": [
    "arr = [5,9,1,3,2,8,84,30]\n",
    "mergesort(arr)"
   ]
  },
  {
   "cell_type": "code",
   "execution_count": 151,
   "metadata": {},
   "outputs": [
    {
     "data": {
      "text/plain": [
       "[1, 2, 3, 5, 8, 9, 30, 84]"
      ]
     },
     "execution_count": 151,
     "metadata": {},
     "output_type": "execute_result"
    }
   ],
   "source": [
    "arr"
   ]
  },
  {
   "cell_type": "code",
   "execution_count": null,
   "metadata": {},
   "outputs": [],
   "source": []
  }
 ],
 "metadata": {
  "kernelspec": {
   "display_name": "Python3 (fastai)",
   "language": "python",
   "name": "fastai"
  },
  "language_info": {
   "codemirror_mode": {
    "name": "ipython",
    "version": 3
   },
   "file_extension": ".py",
   "mimetype": "text/x-python",
   "name": "python",
   "nbconvert_exporter": "python",
   "pygments_lexer": "ipython3",
   "version": "3.7.5"
  }
 },
 "nbformat": 4,
 "nbformat_minor": 2
}
