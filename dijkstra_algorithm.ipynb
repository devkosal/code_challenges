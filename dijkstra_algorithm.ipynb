{
 "cells": [
  {
   "cell_type": "markdown",
   "metadata": {},
   "source": [
    "https://www.youtube.com/watch?v=GazC3A4OQTE"
   ]
  },
  {
   "cell_type": "code",
   "execution_count": null,
   "metadata": {},
   "outputs": [],
   "source": [
    "import heapq"
   ]
  },
  {
   "cell_type": "code",
   "execution_count": 7,
   "metadata": {},
   "outputs": [],
   "source": [
    "# my solution\n",
    "def dijkstra(n: int, flights, src: int, dst: int, K: int) -> int:\n",
    "    dists = [float('inf') for _ in range(n)] \n",
    "    visited = []\n",
    "    cons = [[] for _ in range(n)]\n",
    "    for u,v,w in edges:\n",
    "        cons[u].append((w,v))\n",
    "\n",
    "    hp = [(0,src)]\n",
    "    dists[src] = 0\n",
    "    heapq.heapify(hp)\n",
    "    while hp and dst not in visited:\n",
    "        cur_dist, cur_node = heapq.heappop(hp)\n",
    "        visited.append(cur_node)\n",
    "        for dist, n in cons[cur_node]:\n",
    "            if n in visited:\n",
    "                continue\n",
    "            total_dist = cur_dist + dist\n",
    "            if total_dist < dists[n]:\n",
    "                dists[n] = total_dist\n",
    "                heapq.heappush(hp,(total_dist,n))\n",
    "    return dists[dst]\n",
    "        "
   ]
  },
  {
   "cell_type": "code",
   "execution_count": 8,
   "metadata": {},
   "outputs": [
    {
     "data": {
      "text/plain": [
       "200"
      ]
     },
     "execution_count": 8,
     "metadata": {},
     "output_type": "execute_result"
    }
   ],
   "source": [
    "n = 3\n",
    "edges = [[0,1,100],[1,2,100],[0,2,500]]\n",
    "src = 0\n",
    "dst = 2\n",
    "k = 0\n",
    "dijkstra(n,edges,src,dst,k)"
   ]
  },
  {
   "cell_type": "markdown",
   "metadata": {},
   "source": [
    "https://bradfieldcs.com/algos/graphs/dijkstras-algorithm/"
   ]
  },
  {
   "cell_type": "code",
   "execution_count": 9,
   "metadata": {},
   "outputs": [],
   "source": [
    "# Faster solution\n",
    "# after reading the article above, I realized that you don't need to keep a track of visited in a list.\n",
    "# instead, you can check if the cur_dist is greater than the distance already stored in the dists. \n",
    "# Then, we can safely skip the node, especially since we know we have already visited it \n",
    "# in fact, we skip this node in the outside loop (while loop)\n",
    "# (cur_dist will never be greater than default of infinity)\n",
    "def dijkstra(n: int, flights, src: int, dst: int, K: int) -> int:\n",
    "    dists = [float('inf') for _ in range(n)] \n",
    "    visited = []\n",
    "    cons = [[] for _ in range(n)]\n",
    "    for u,v,w in edges:\n",
    "        cons[u].append((w,v))\n",
    "    hp = [(0,src)]\n",
    "    dists[src] = 0\n",
    "    heapq.heapify(hp)\n",
    "    while hp and dst not in visited:\n",
    "        cur_dist, cur_node = heapq.heappop(hp)\n",
    "        if cur_dist > dists[cur_node]:\n",
    "            continue\n",
    "        for dist, n in cons[cur_node]:\n",
    "            total_dist = cur_dist + dist\n",
    "            if total_dist < dists[n]:\n",
    "                dists[n] = total_dist\n",
    "                heapq.heappush(hp,(total_dist,n))\n",
    "    return dists[dst]"
   ]
  },
  {
   "cell_type": "code",
   "execution_count": 10,
   "metadata": {},
   "outputs": [
    {
     "data": {
      "text/plain": [
       "200"
      ]
     },
     "execution_count": 10,
     "metadata": {},
     "output_type": "execute_result"
    }
   ],
   "source": [
    "n = 3\n",
    "edges = [[0,1,100],[1,2,100],[0,2,500]]\n",
    "src = 0\n",
    "dst = 2\n",
    "k = 0\n",
    "dijkstra(n,edges,src,dst,k)"
   ]
  },
  {
   "cell_type": "code",
   "execution_count": null,
   "metadata": {},
   "outputs": [],
   "source": []
  }
 ],
 "metadata": {
  "kernelspec": {
   "display_name": "Python3 (fastai)",
   "language": "python",
   "name": "fastai"
  },
  "language_info": {
   "codemirror_mode": {
    "name": "ipython",
    "version": 3
   },
   "file_extension": ".py",
   "mimetype": "text/x-python",
   "name": "python",
   "nbconvert_exporter": "python",
   "pygments_lexer": "ipython3",
   "version": "3.7.5"
  }
 },
 "nbformat": 4,
 "nbformat_minor": 2
}
