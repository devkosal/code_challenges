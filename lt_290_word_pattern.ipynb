{
 "cells": [
  {
   "cell_type": "markdown",
   "metadata": {},
   "source": [
    "https://leetcode.com/problems/word-pattern/"
   ]
  },
  {
   "cell_type": "code",
   "execution_count": null,
   "metadata": {},
   "outputs": [],
   "source": [
    "\n",
    "def wordPattern(pattern: str, str: str) -> bool:\n",
    "    pat_dict = {}\n",
    "    str = str.split()\n",
    "    if len(str) != len(pattern): return False\n",
    "    for i,v in enumerate(pattern):\n",
    "        if v not in pat_dict:\n",
    "            if str[i] not in pat_dict.values():\n",
    "                pat_dict[v] = str[i]\n",
    "            else:\n",
    "                return False\n",
    "        else:\n",
    "            if pat_dict[v] != str[i]:\n",
    "                return False\n",
    "    return True\n",
    "            "
   ]
  }
 ],
 "metadata": {
  "kernelspec": {
   "display_name": "Python3 (fastai)",
   "language": "python",
   "name": "fastai"
  },
  "language_info": {
   "codemirror_mode": {
    "name": "ipython",
    "version": 3
   },
   "file_extension": ".py",
   "mimetype": "text/x-python",
   "name": "python",
   "nbconvert_exporter": "python",
   "pygments_lexer": "ipython3",
   "version": "3.7.5"
  }
 },
 "nbformat": 4,
 "nbformat_minor": 2
}
