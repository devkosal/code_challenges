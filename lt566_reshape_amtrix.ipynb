{
 "cells": [
  {
   "cell_type": "markdown",
   "metadata": {},
   "source": [
    "https://leetcode.com/problems/reshape-the-matrix/"
   ]
  },
  {
   "cell_type": "code",
   "execution_count": 1,
   "metadata": {
    "ExecuteTime": {
     "end_time": "2020-09-11T08:19:15.655274Z",
     "start_time": "2020-09-11T08:19:15.649144Z"
    }
   },
   "outputs": [],
   "source": [
    "class Solution:\n",
    "    def matrixReshape(self, nums, r: int, c: int):\n",
    "        n = len(nums)\n",
    "        if n == 0:\n",
    "            return nums\n",
    "        m = len(nums[0])\n",
    "        if n*m != r*c:\n",
    "            return nums\n",
    "        res = [[None for _ in range(c)] for _ in range(r)]\n",
    "        ir,jr = 0,0\n",
    "        for i in range(n):\n",
    "            for j in range(m):\n",
    "                res[ir][jr] = nums[i][j]\n",
    "                jr += 1\n",
    "                if jr == c:\n",
    "                    ir += 1\n",
    "                    jr = 0\n",
    "        return res\n",
    "                    "
   ]
  },
  {
   "cell_type": "code",
   "execution_count": null,
   "metadata": {},
   "outputs": [],
   "source": []
  }
 ],
 "metadata": {
  "kernelspec": {
   "display_name": "Python (data)",
   "language": "python",
   "name": "data"
  },
  "language_info": {
   "codemirror_mode": {
    "name": "ipython",
    "version": 3
   },
   "file_extension": ".py",
   "mimetype": "text/x-python",
   "name": "python",
   "nbconvert_exporter": "python",
   "pygments_lexer": "ipython3",
   "version": "3.8.3"
  }
 },
 "nbformat": 4,
 "nbformat_minor": 4
}
