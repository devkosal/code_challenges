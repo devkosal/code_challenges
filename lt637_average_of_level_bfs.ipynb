{
 "cells": [
  {
   "cell_type": "markdown",
   "metadata": {},
   "source": [
    "https://leetcode.com/problems/average-of-levels-in-binary-tree/"
   ]
  },
  {
   "cell_type": "code",
   "execution_count": 1,
   "metadata": {
    "ExecuteTime": {
     "end_time": "2020-09-29T07:48:46.702179Z",
     "start_time": "2020-09-29T07:48:46.370088Z"
    }
   },
   "outputs": [],
   "source": [
    "# Definition for a binary tree node.\n",
    "class TreeNode:\n",
    "    def __init__(self, val=0, left=None, right=None):\n",
    "        self.val = val\n",
    "        self.left = left\n",
    "        self.right = right\n",
    "import numpy as np\n",
    "class Solution:\n",
    "    def averageOfLevels(self, root=None):\n",
    "        node = root\n",
    "        node.level = 1\n",
    "        queue = deque([node])\n",
    "        output = []\n",
    "        current_level = node.level\n",
    "        res = []\n",
    "        means = []\n",
    "        while len(queue)>0:\n",
    "            current_node = queue.popleft()\n",
    "\n",
    "            if(current_node.level > current_level):\n",
    "                output.append(\"\\n\")\n",
    "                current_level += 1\n",
    "                res.append(np.mean(means))\n",
    "                means = []\n",
    "\n",
    "            output.append(str(current_node.val))\n",
    "            means.append(current_node.val)\n",
    "\n",
    "            if current_node.left != None:\n",
    "                current_node.left.level = current_level + 1 \n",
    "                queue.append(current_node.left) \n",
    "\n",
    "            if current_node.right != None:\n",
    "                current_node.right.level = current_level + 1 \n",
    "                queue.append(current_node.right)\n",
    "        print(output)\n",
    "        res.append(np.mean(means))\n",
    "        return res\n",
    "\n",
    "            \n",
    "        "
   ]
  },
  {
   "cell_type": "markdown",
   "metadata": {},
   "source": [
    "better solution: https://leetcode.com/problems/average-of-levels-in-binary-tree/discuss/861351/python-BFS-solution"
   ]
  },
  {
   "cell_type": "markdown",
   "metadata": {},
   "source": [
    "inspired by https://gist.github.com/thinkphp/1439668"
   ]
  },
  {
   "cell_type": "code",
   "execution_count": null,
   "metadata": {},
   "outputs": [],
   "source": []
  }
 ],
 "metadata": {
  "kernelspec": {
   "display_name": "Python (data)",
   "language": "python",
   "name": "data"
  },
  "language_info": {
   "codemirror_mode": {
    "name": "ipython",
    "version": 3
   },
   "file_extension": ".py",
   "mimetype": "text/x-python",
   "name": "python",
   "nbconvert_exporter": "python",
   "pygments_lexer": "ipython3",
   "version": "3.8.3"
  }
 },
 "nbformat": 4,
 "nbformat_minor": 4
}
