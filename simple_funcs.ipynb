{
 "cells": [
  {
   "cell_type": "markdown",
   "metadata": {},
   "source": [
    "https://github.com/alexeygrigorev/data-science-interviews/blob/master/technical.md\n"
   ]
  },
  {
   "cell_type": "markdown",
   "metadata": {},
   "source": [
    "Factorial"
   ]
  },
  {
   "cell_type": "code",
   "execution_count": 36,
   "metadata": {
    "ExecuteTime": {
     "end_time": "2020-09-13T20:56:43.379810Z",
     "start_time": "2020-09-13T20:56:43.376858Z"
    }
   },
   "outputs": [],
   "source": [
    "def fct(n):\n",
    "    if n <= 1: return 1\n",
    "    return n*fct(n-1)"
   ]
  },
  {
   "cell_type": "markdown",
   "metadata": {},
   "source": [
    "Mean / Std"
   ]
  },
  {
   "cell_type": "code",
   "execution_count": 9,
   "metadata": {
    "ExecuteTime": {
     "end_time": "2020-09-13T20:44:46.131001Z",
     "start_time": "2020-09-13T20:44:46.128422Z"
    }
   },
   "outputs": [],
   "source": [
    "def mean(l):\n",
    "    return sum(l)/len(l)"
   ]
  },
  {
   "cell_type": "code",
   "execution_count": 42,
   "metadata": {
    "ExecuteTime": {
     "end_time": "2020-09-13T21:01:40.037121Z",
     "start_time": "2020-09-13T21:01:40.033978Z"
    }
   },
   "outputs": [],
   "source": [
    "def std(l):\n",
    "    m = mean(l)\n",
    "#     var = mean([(li-m)**2 for li in l])\n",
    "\n",
    "    var = mean([li**2 for li in l]) - m**2\n",
    "    return var**(1/2)\n",
    "    "
   ]
  },
  {
   "cell_type": "code",
   "execution_count": 46,
   "metadata": {
    "ExecuteTime": {
     "end_time": "2020-09-13T21:32:39.687736Z",
     "start_time": "2020-09-13T21:32:39.683816Z"
    }
   },
   "outputs": [
    {
     "data": {
      "text/plain": [
       "True"
      ]
     },
     "execution_count": 46,
     "metadata": {},
     "output_type": "execute_result"
    }
   ],
   "source": [
    "l = [5,10,15]\n",
    "import numpy as np\n",
    "std(l) == np.std(l)"
   ]
  },
  {
   "cell_type": "code",
   "execution_count": 18,
   "metadata": {
    "ExecuteTime": {
     "end_time": "2020-09-13T20:47:17.170528Z",
     "start_time": "2020-09-13T20:47:17.166558Z"
    }
   },
   "outputs": [
    {
     "data": {
      "text/plain": [
       "4.08248290463863"
      ]
     },
     "execution_count": 18,
     "metadata": {},
     "output_type": "execute_result"
    }
   ],
   "source": [
    "# pointwise mutual information\n"
   ]
  },
  {
   "cell_type": "markdown",
   "metadata": {
    "ExecuteTime": {
     "end_time": "2020-09-13T21:29:25.638442Z",
     "start_time": "2020-09-13T21:29:25.635074Z"
    }
   },
   "source": [
    "# Algorithims"
   ]
  },
  {
   "cell_type": "code",
   "execution_count": 49,
   "metadata": {
    "ExecuteTime": {
     "end_time": "2020-09-13T21:56:28.816392Z",
     "start_time": "2020-09-13T21:56:28.813161Z"
    }
   },
   "outputs": [],
   "source": [
    "# fibonacci \n",
    "\n",
    "# memiozation\n",
    "memo = {0: 0, 1: 1}\n",
    "\n",
    "def fibonacci4(n):\n",
    "    '''Top down + memorization (dictionary), complexity = O(n)'''\n",
    "    if n not in memo:\n",
    "        memo[n] = fibonacci4(n-1) + fibonacci4(n-2)\n",
    "    return memo[n]"
   ]
  },
  {
   "cell_type": "code",
   "execution_count": 50,
   "metadata": {
    "ExecuteTime": {
     "end_time": "2020-09-13T21:56:29.740258Z",
     "start_time": "2020-09-13T21:56:29.736682Z"
    }
   },
   "outputs": [
    {
     "data": {
      "text/plain": [
       "3"
      ]
     },
     "execution_count": 50,
     "metadata": {},
     "output_type": "execute_result"
    }
   ],
   "source": [
    "fibonacci4(4)"
   ]
  },
  {
   "cell_type": "code",
   "execution_count": 51,
   "metadata": {
    "ExecuteTime": {
     "end_time": "2020-09-13T21:56:39.186802Z",
     "start_time": "2020-09-13T21:56:39.184895Z"
    }
   },
   "outputs": [],
   "source": [
    "# most probable numbers"
   ]
  },
  {
   "cell_type": "code",
   "execution_count": 52,
   "metadata": {
    "ExecuteTime": {
     "end_time": "2020-09-13T22:13:33.794911Z",
     "start_time": "2020-09-13T22:13:33.792187Z"
    }
   },
   "outputs": [],
   "source": [
    "# reverse linked list\n",
    "def reverse(node):   \n",
    "    prev = None\n",
    "    while node:\n",
    "        temp = node.next\n",
    "        node.next = prev\n",
    "        prev = node\n",
    "        node = temp\n",
    "    return prev"
   ]
  },
  {
   "cell_type": "code",
   "execution_count": 53,
   "metadata": {
    "ExecuteTime": {
     "end_time": "2020-09-13T22:17:26.456030Z",
     "start_time": "2020-09-13T22:17:26.451999Z"
    }
   },
   "outputs": [],
   "source": [
    "# flip binary tree\n",
    "def flip_tree(t):\n",
    "    if not t:\n",
    "        return \n",
    "    t.left,t.right = t.right,t.left\n",
    "    flip_tree(t.left)\n",
    "    flip_tree(t.right)\n",
    "    return t"
   ]
  },
  {
   "cell_type": "code",
   "execution_count": 68,
   "metadata": {
    "ExecuteTime": {
     "end_time": "2020-09-13T22:27:43.669623Z",
     "start_time": "2020-09-13T22:27:43.664863Z"
    }
   },
   "outputs": [],
   "source": [
    "# binary search\n",
    "def binary_search(l,v):\n",
    "    low = 0\n",
    "    high = len(l)\n",
    "    def helper(low,high):\n",
    "        if low >= high:\n",
    "            return -1\n",
    "        mid = (low+high)//2\n",
    "        c = l[mid]\n",
    "        if c == v:\n",
    "            return mid\n",
    "        elif v > c: \n",
    "            low = mid + 1\n",
    "        else:\n",
    "            high = mid - 1\n",
    "        return helper(low,high)\n",
    "    return helper(low, high)"
   ]
  },
  {
   "cell_type": "code",
   "execution_count": 70,
   "metadata": {
    "ExecuteTime": {
     "end_time": "2020-09-13T22:27:49.528114Z",
     "start_time": "2020-09-13T22:27:49.524280Z"
    }
   },
   "outputs": [
    {
     "data": {
      "text/plain": [
       "-1"
      ]
     },
     "execution_count": 70,
     "metadata": {},
     "output_type": "execute_result"
    }
   ],
   "source": [
    "binary_search([1,2,3,4,8,100,123],13)"
   ]
  },
  {
   "cell_type": "code",
   "execution_count": null,
   "metadata": {},
   "outputs": [],
   "source": []
  }
 ],
 "metadata": {
  "kernelspec": {
   "display_name": "Python (data)",
   "language": "python",
   "name": "data"
  },
  "language_info": {
   "codemirror_mode": {
    "name": "ipython",
    "version": 3
   },
   "file_extension": ".py",
   "mimetype": "text/x-python",
   "name": "python",
   "nbconvert_exporter": "python",
   "pygments_lexer": "ipython3",
   "version": "3.8.3"
  }
 },
 "nbformat": 4,
 "nbformat_minor": 4
}
