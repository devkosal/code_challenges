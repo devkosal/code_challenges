{
 "cells": [
  {
   "cell_type": "markdown",
   "metadata": {},
   "source": [
    "https://leetcode.com/problems/top-k-frequent-words/"
   ]
  },
  {
   "cell_type": "code",
   "execution_count": 1,
   "metadata": {
    "ExecuteTime": {
     "end_time": "2020-10-17T15:39:27.703725Z",
     "start_time": "2020-10-17T15:39:27.699765Z"
    }
   },
   "outputs": [],
   "source": [
    "import heapq\n",
    "from collections import Counter\n",
    "class Solution:\n",
    "    def topKFrequent(self, words, k: int):\n",
    "        cnts = Counter(words)\n",
    "        res = []\n",
    "        for w,c in cnts.items():\n",
    "            heapq.heappush(res,(-c,w))\n",
    "        return list(zip(*heapq.nsmallest(k,res)))[1]"
   ]
  },
  {
   "cell_type": "code",
   "execution_count": null,
   "metadata": {},
   "outputs": [],
   "source": []
  }
 ],
 "metadata": {
  "kernelspec": {
   "display_name": "Python (data)",
   "language": "python",
   "name": "data"
  },
  "language_info": {
   "codemirror_mode": {
    "name": "ipython",
    "version": 3
   },
   "file_extension": ".py",
   "mimetype": "text/x-python",
   "name": "python",
   "nbconvert_exporter": "python",
   "pygments_lexer": "ipython3",
   "version": "3.8.3"
  }
 },
 "nbformat": 4,
 "nbformat_minor": 4
}
