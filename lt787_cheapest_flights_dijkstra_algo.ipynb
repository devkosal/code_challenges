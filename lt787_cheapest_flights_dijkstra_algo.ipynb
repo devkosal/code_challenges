{
 "cells": [
  {
   "cell_type": "markdown",
   "metadata": {},
   "source": [
    "https://leetcode.com/problems/cheapest-flights-within-k-stops/"
   ]
  },
  {
   "cell_type": "markdown",
   "metadata": {},
   "source": [
    "https://www.youtube.com/watch?v=UbP2Zek1c48&t=1442s"
   ]
  },
  {
   "cell_type": "markdown",
   "metadata": {},
   "source": [
    "https://pastebin.com/t8uAaFud"
   ]
  },
  {
   "cell_type": "code",
   "execution_count": 65,
   "metadata": {},
   "outputs": [],
   "source": [
    "import heapq"
   ]
  },
  {
   "cell_type": "code",
   "execution_count": 70,
   "metadata": {},
   "outputs": [],
   "source": [
    "def findCheapestPrice(n: int, flights, src: int, dst: int, K: int) -> int:\n",
    "    \"\"\"\n",
    "    inspired by \n",
    "    using djkistra here but we did not need to store the distances in an array. Need to investigate why..\n",
    "    \"\"\"\n",
    "    cons = [[] for _ in range(n)]\n",
    "    for u,v,w in edges:\n",
    "        cons[u].append((w,v))\n",
    "    hp = [(0,0,src)]\n",
    "    heapq.heapify(hp)\n",
    "    while hp:\n",
    "        cur_dist, stops, cur_node = heapq.heappop(hp)\n",
    "        if cur_node == dst:\n",
    "            return cur_dist\n",
    "        if stops > K:\n",
    "            continue\n",
    "        for dist, n in cons[cur_node]:\n",
    "            heapq.heappush(hp,(cur_dist+dist,stops+1,n))\n",
    "    return -1\n",
    "        \n",
    "    "
   ]
  },
  {
   "cell_type": "code",
   "execution_count": 71,
   "metadata": {},
   "outputs": [
    {
     "data": {
      "text/plain": [
       "200"
      ]
     },
     "execution_count": 71,
     "metadata": {},
     "output_type": "execute_result"
    }
   ],
   "source": [
    "n = 3\n",
    "edges = [[0,1,100],[1,2,100],[0,2,500]]\n",
    "src = 0\n",
    "dst = 2\n",
    "k = 1\n",
    "findCheapestPrice(n,edges,src,dst,k)"
   ]
  },
  {
   "cell_type": "code",
   "execution_count": 44,
   "metadata": {},
   "outputs": [
    {
     "data": {
      "text/plain": [
       "400"
      ]
     },
     "execution_count": 44,
     "metadata": {},
     "output_type": "execute_result"
    }
   ],
   "source": [
    "n = 4\n",
    "edges = [[0,1,200],[1,2,100],[0,2,400],[2,3,100]]\n",
    "src = 0\n",
    "dst = 3\n",
    "k = 0\n",
    "findCheapestPrice(n,edges,src,dst,k)"
   ]
  }
 ],
 "metadata": {
  "kernelspec": {
   "display_name": "Python3 (fastai)",
   "language": "python",
   "name": "fastai"
  },
  "language_info": {
   "codemirror_mode": {
    "name": "ipython",
    "version": 3
   },
   "file_extension": ".py",
   "mimetype": "text/x-python",
   "name": "python",
   "nbconvert_exporter": "python",
   "pygments_lexer": "ipython3",
   "version": "3.7.5"
  }
 },
 "nbformat": 4,
 "nbformat_minor": 2
}
