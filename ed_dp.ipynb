{
 "cells": [
  {
   "cell_type": "markdown",
   "metadata": {},
   "source": [
    "```\n",
    "Introduction #\n",
    "Given the weights and profits of ‘N’ items, we are asked to put these items in a knapsack with a capacity ‘C.’ The goal is to get the maximum profit out of the knapsack items. Each item can only be selected once, as we don’t have multiple quantities of any item.\n",
    "\n",
    "Let’s take Merry’s example, who wants to carry some fruits in the knapsack to get maximum profit. Here are the weights and profits of the fruits:\n",
    "\n",
    "Items: { Apple, Orange, Banana, Melon }\n",
    "Weights: { 2, 3, 1, 4 }\n",
    "Profits: { 4, 5, 3, 7 }\n",
    "Knapsack capacity: 5\n",
    "\n",
    "Let’s try to put various combinations of fruits in the knapsack, such that their total weight is not more than 5:\n",
    "\n",
    "Apple + Orange (total weight 5) => 9 profit\n",
    "Apple + Banana (total weight 3) => 7 profit\n",
    "Orange + Banana (total weight 4) => 8 profit\n",
    "Banana + Melon (total weight 5) => 10 profit\n",
    "\n",
    "This shows that Banana + Melon is the best combination as it gives us the maximum profit, and the total weight does not exceed the capacity.\n",
    "\n",
    "```"
   ]
  },
  {
   "cell_type": "code",
   "execution_count": 1,
   "metadata": {},
   "outputs": [
    {
     "name": "stdout",
     "output_type": "stream",
     "text": [
      "16\n",
      "17\n",
      "22\n"
     ]
    }
   ],
   "source": [
    "def solve_knapsack(profits, weights, capacity):\n",
    "    ln = len(profits)\n",
    "    dp = [[None for _ in range(capacity+1)] for _ in range(ln)]\n",
    "    def helper(i, capacity):\n",
    "        if i >= ln or capacity <= 0:\n",
    "            return 0\n",
    "        if not dp[i][capacity]:\n",
    "            case1 = 0\n",
    "            if weights[i] <= capacity:\n",
    "                case1 = profits[i] + helper(i+1, capacity-weights[i])\n",
    "            case2 = helper(i+1, capacity)\n",
    "            dp[i][capacity] = max(case1,case2)\n",
    "        return dp[i][capacity]\n",
    "    return helper(0, capacity)\n",
    "\n",
    "\n",
    "def main():\n",
    "    print(solve_knapsack([1, 6, 10, 16], [1, 2, 3, 5], 5))\n",
    "    print(solve_knapsack([1, 6, 10, 16], [1, 2, 3, 5], 6))\n",
    "    print(solve_knapsack([1, 6, 10, 16], [1, 2, 3, 5], 7))\n",
    "\n",
    "\n",
    "main()\n",
    "\n"
   ]
  },
  {
   "cell_type": "code",
   "execution_count": null,
   "metadata": {},
   "outputs": [],
   "source": []
  }
 ],
 "metadata": {
  "kernelspec": {
   "display_name": "Python 3",
   "language": "python",
   "name": "python3"
  },
  "language_info": {
   "codemirror_mode": {
    "name": "ipython",
    "version": 3
   },
   "file_extension": ".py",
   "mimetype": "text/x-python",
   "name": "python",
   "nbconvert_exporter": "python",
   "pygments_lexer": "ipython3",
   "version": "3.8.5"
  }
 },
 "nbformat": 4,
 "nbformat_minor": 4
}
