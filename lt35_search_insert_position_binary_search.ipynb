{
 "cells": [
  {
   "cell_type": "markdown",
   "metadata": {},
   "source": [
    "https://leetcode.com/problems/search-insert-position/"
   ]
  },
  {
   "cell_type": "code",
   "execution_count": 2,
   "metadata": {
    "ExecuteTime": {
     "end_time": "2020-10-17T08:01:29.981167Z",
     "start_time": "2020-10-17T08:01:29.976542Z"
    }
   },
   "outputs": [],
   "source": [
    "class Solution:\n",
    "    def searchInsert(self, nums, target: int) -> int:\n",
    "        low = 0\n",
    "        high = len(nums)-1\n",
    "        def bs(low, high):\n",
    "            mid = (low+high)//2\n",
    "            if low >= high:\n",
    "                add = int(target > nums[low])\n",
    "                return low + add\n",
    "            v = nums[mid]\n",
    "            if target == v:\n",
    "                return mid\n",
    "            elif target > v:\n",
    "                low = mid + 1\n",
    "            elif target < v:\n",
    "                high = mid - 1\n",
    "            return bs(low,high)\n",
    "        return bs(low, high)"
   ]
  },
  {
   "cell_type": "code",
   "execution_count": null,
   "metadata": {},
   "outputs": [],
   "source": []
  }
 ],
 "metadata": {
  "kernelspec": {
   "display_name": "Python (data)",
   "language": "python",
   "name": "data"
  },
  "language_info": {
   "codemirror_mode": {
    "name": "ipython",
    "version": 3
   },
   "file_extension": ".py",
   "mimetype": "text/x-python",
   "name": "python",
   "nbconvert_exporter": "python",
   "pygments_lexer": "ipython3",
   "version": "3.8.3"
  }
 },
 "nbformat": 4,
 "nbformat_minor": 4
}
