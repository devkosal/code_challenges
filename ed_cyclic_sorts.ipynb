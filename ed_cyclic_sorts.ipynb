{
 "cells": [
  {
   "cell_type": "markdown",
   "id": "convenient-reggae",
   "metadata": {},
   "source": [
    "https://www.educative.io/courses/grokking-the-coding-interview/B8qXVqVwDKY"
   ]
  },
  {
   "cell_type": "code",
   "execution_count": 1,
   "id": "exempt-mailman",
   "metadata": {},
   "outputs": [],
   "source": [
    "def cyclic_sort(nums):\n",
    "    i = 0\n",
    "    while i < len(nums):\n",
    "        while nums[i] != i+1:\n",
    "            j = nums[i] - 1\n",
    "            nums[i], nums[j] = nums[j], nums[i]\n",
    "        i+=1\n",
    "    return nums"
   ]
  },
  {
   "cell_type": "markdown",
   "id": "passing-kuwait",
   "metadata": {},
   "source": [
    "https://www.educative.io/courses/grokking-the-coding-interview/JPnp17NYXE9"
   ]
  },
  {
   "cell_type": "code",
   "execution_count": null,
   "id": "disabled-april",
   "metadata": {},
   "outputs": [],
   "source": [
    "def find_missing_number(nums):\n",
    "    i = 0\n",
    "    nums.append(-1)\n",
    "    missing_idx = len(nums) - 1\n",
    "    while i < len(nums):\n",
    "        while nums[i] != i and nums[i] !=-1:\n",
    "            j = nums[i]\n",
    "            nums[i], nums[j] = nums[j], nums[i]\n",
    "            if nums[i] == -1:\n",
    "                missing = i\n",
    "    i+=1\n",
    "    return missing\n"
   ]
  },
  {
   "cell_type": "markdown",
   "id": "other-drill",
   "metadata": {},
   "source": [
    "https://www.educative.io/courses/grokking-the-coding-interview/Y52qNM0ljWK"
   ]
  },
  {
   "cell_type": "code",
   "execution_count": 9,
   "id": "fifth-winter",
   "metadata": {},
   "outputs": [],
   "source": [
    "def find_missing_numbers(nums):\n",
    "    i = 0\n",
    "    while i < len(nums):\n",
    "        print(nums)\n",
    "        if nums[i] < len(nums) and nums[i] != i:\n",
    "            j = nums[i]\n",
    "            nums[i], nums[j] = nums[j], nums[i]\n",
    "        else:\n",
    "            i+=1\n",
    "    res = []\n",
    "    offset = 0\n",
    "    for i in range(len(nums)):\n",
    "        if i != nums[i] + offset:\n",
    "            res.append(i)\n",
    "            offset += 1\n",
    "    return res if res else [len(nums)]\n"
   ]
  },
  {
   "cell_type": "code",
   "execution_count": 10,
   "id": "political-creation",
   "metadata": {},
   "outputs": [
    {
     "name": "stdout",
     "output_type": "stream",
     "text": [
      "[4, 0, 3, 1]\n",
      "[4, 0, 3, 1]\n",
      "[0, 4, 3, 1]\n",
      "[0, 4, 3, 1]\n",
      "[0, 4, 1, 3]\n",
      "[0, 1, 4, 3]\n",
      "[0, 1, 4, 3]\n",
      "[2, 3]\n"
     ]
    }
   ],
   "source": [
    "print(find_missing_numbers([4, 0, 3, 1]))\n",
    "# print(find_missing_numbers([8, 3, 5, 2, 4, 6, 0, 1]))"
   ]
  },
  {
   "cell_type": "code",
   "execution_count": null,
   "id": "greatest-figure",
   "metadata": {},
   "outputs": [],
   "source": []
  }
 ],
 "metadata": {
  "kernelspec": {
   "display_name": "Python 3",
   "language": "python",
   "name": "python3"
  },
  "language_info": {
   "codemirror_mode": {
    "name": "ipython",
    "version": 3
   },
   "file_extension": ".py",
   "mimetype": "text/x-python",
   "name": "python",
   "nbconvert_exporter": "python",
   "pygments_lexer": "ipython3",
   "version": "3.9.2"
  }
 },
 "nbformat": 4,
 "nbformat_minor": 5
}
