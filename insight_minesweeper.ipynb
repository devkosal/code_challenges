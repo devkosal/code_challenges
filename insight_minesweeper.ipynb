{
 "cells": [
  {
   "cell_type": "markdown",
   "metadata": {},
   "source": [
    "This implementation is incomplete. There is still a need to identify when a user has won as well as update the masked board. "
   ]
  },
  {
   "cell_type": "markdown",
   "metadata": {},
   "source": [
    "# Approach\n",
    "\n",
    "1/ Code a Minesweeper game\n",
    "\n",
    "2/ Take any board length (the board is square usually) and number of mines\n",
    "\n",
    "3/ Take user input as x, y coordinates\n",
    "\n",
    "4/ End the game if they click a mine, reveal the bordering numbers if they click somewhere else.\n",
    "\n",
    "5/ If the user clicks on a square with “zero”, the board propagates to the reveal all consecutive 0's as a convenience method"
   ]
  },
  {
   "cell_type": "code",
   "execution_count": 116,
   "metadata": {},
   "outputs": [],
   "source": [
    "import numpy as np\n",
    "import random"
   ]
  },
  {
   "cell_type": "markdown",
   "metadata": {},
   "source": [
    "methods required:\n",
    "- initialize board\n",
    "    - store locations of the mines\n",
    "- get bomb tallies for each coordinate \n",
    "- user input\n",
    "    - reveal tallies of all adjacent coordinates\n",
    "    - have checks for if user clicks on mine\n",
    "    - if valid tile, the all adjacent blocks are revealed"
   ]
  },
  {
   "cell_type": "code",
   "execution_count": 176,
   "metadata": {},
   "outputs": [],
   "source": [
    "class Minesweeper():\n",
    "    def __init__(self,board_length,n_mines):\n",
    "        self.board_length,self.n_mines = board_length, n_mines\n",
    "        self.board = np.array(self.init_board(self.board_length,self.n_mines))\n",
    "        self.mask = np.array([[True for _ in range(board_length)] for _ in range(board_length)])\n",
    "        \n",
    "    def init_board(self, board_length,n_mines):\n",
    "        \"\"\"\n",
    "        -1 = bomb\n",
    "        N = any other number if the number of bombs adjacent to tile\n",
    "        \"\"\"\n",
    "        # initiating the board with all zeroes\n",
    "        board = [[0 for _ in range(board_length)] for _ in range(board_length)]\n",
    "        \n",
    "        # populating all the mine locations\n",
    "        mine_locations = set()\n",
    "        while len(mine_locations) <= n_mines:\n",
    "            for x in range(n_mines):\n",
    "                mine_locations.add((random.randint(0,board_length-1),random.randint(0,board_length-1)))\n",
    "        \n",
    "        for x,y in mine_locations:\n",
    "            board[x][y] = -1\n",
    "        \n",
    "        # update board with all the bomb totals\n",
    "        for row in range(len(board)):\n",
    "            for col in range(len(board[row])):\n",
    "                if board[row][col] != -1: \n",
    "                    nums = [self.get_value(board,x,y) for (x,y) in \\\n",
    "                        [(row-1,col),(row,col+1),(row,col-1),(row,col+1),(row+1,col+1),(row-1,col-1)]]\n",
    "                    board[row][col] = abs(sum([num for num in nums if num == -1]))\n",
    "\n",
    "        return board\n",
    "    \n",
    "            \n",
    "    def get_value(self,board,x,y):\n",
    "        if 0 <= x < self.board_length and 0 <= y < self.board_length:\n",
    "            return board[x][y]\n",
    "        else:\n",
    "            return 0\n",
    "        \n",
    "    def process_user_input(self,x,y):\n",
    "        if self.board[x][y] == -1: \n",
    "            return True\n",
    "        else: \n",
    "            self.mask[x][y] == 1\n",
    "            # reveal tallies of adjacent mines\n",
    "    \n",
    "    def get_printable_board(self):\n",
    "        # return the masked board back to the user\n",
    "        return (np.ma.array(self.board, mask=self.mask, fill_value=0)).filled()\n",
    "    \n",
    "    \n",
    "    def play(self):\n",
    "        print(\"Welcome to minesweeper!\")\n",
    "        while True:\n",
    "            print(self.get_printable_board())\n",
    "            inp = input(\"Please enter the coordinates e.g. 1 2 of your next move:  \")\n",
    "            x,y = [int(i) for i in inp.split()]\n",
    "            if self.process_user_input(x,y): break\n",
    "        \n",
    "        print(self.get_printable_board())\n",
    "        print(\"Game over!\")"
   ]
  },
  {
   "cell_type": "code",
   "execution_count": 177,
   "metadata": {},
   "outputs": [
    {
     "data": {
      "text/plain": [
       "array([1, 2, 0, 4, 0])"
      ]
     },
     "execution_count": 177,
     "metadata": {},
     "output_type": "execute_result"
    }
   ],
   "source": [
    "x = np.ma.array([1,2,3,4,5], mask=[0,0,1,0,1], fill_value=0)\n",
    "x.filled()\n",
    "# array([   1,    2, -999,    4, -999])\n",
    "x.filled(fill_value=1000)\n",
    "# array([   1,    2, 1000,    4, 1000])\n",
    "x.filled()"
   ]
  },
  {
   "cell_type": "code",
   "execution_count": 178,
   "metadata": {},
   "outputs": [],
   "source": [
    "m = Minesweeper(10,50)"
   ]
  },
  {
   "cell_type": "code",
   "execution_count": 179,
   "metadata": {},
   "outputs": [
    {
     "name": "stdout",
     "output_type": "stream",
     "text": [
      "Welcome to minesweeper!\n",
      "[[0 0 0 0 0 0 0 0 0 0]\n",
      " [0 0 0 0 0 0 0 0 0 0]\n",
      " [0 0 0 0 0 0 0 0 0 0]\n",
      " [0 0 0 0 0 0 0 0 0 0]\n",
      " [0 0 0 0 0 0 0 0 0 0]\n",
      " [0 0 0 0 0 0 0 0 0 0]\n",
      " [0 0 0 0 0 0 0 0 0 0]\n",
      " [0 0 0 0 0 0 0 0 0 0]\n",
      " [0 0 0 0 0 0 0 0 0 0]\n",
      " [0 0 0 0 0 0 0 0 0 0]]\n",
      "Please enter the coordinates e.g. 1 2 of your next move:  3 4\n",
      "Game over!\n"
     ]
    }
   ],
   "source": [
    "m.play()"
   ]
  },
  {
   "cell_type": "code",
   "execution_count": 166,
   "metadata": {},
   "outputs": [
    {
     "ename": "SyntaxError",
     "evalue": "invalid syntax (<ipython-input-166-cb21d9b20c00>, line 2)",
     "output_type": "error",
     "traceback": [
      "\u001b[0;36m  File \u001b[0;32m\"<ipython-input-166-cb21d9b20c00>\"\u001b[0;36m, line \u001b[0;32m2\u001b[0m\n\u001b[0;31m    game = Minesweeper(5,10):\u001b[0m\n\u001b[0m                            ^\u001b[0m\n\u001b[0;31mSyntaxError\u001b[0m\u001b[0;31m:\u001b[0m invalid syntax\n"
     ]
    }
   ],
   "source": [
    "if __name__ == \"__main__\":\n",
    "    game = Minesweeper(5,10):\n",
    "    game.play()"
   ]
  },
  {
   "cell_type": "code",
   "execution_count": null,
   "metadata": {},
   "outputs": [],
   "source": []
  }
 ],
 "metadata": {
  "kernelspec": {
   "display_name": "Python3 (fastai)",
   "language": "python",
   "name": "fastai"
  },
  "language_info": {
   "codemirror_mode": {
    "name": "ipython",
    "version": 3
   },
   "file_extension": ".py",
   "mimetype": "text/x-python",
   "name": "python",
   "nbconvert_exporter": "python",
   "pygments_lexer": "ipython3",
   "version": "3.7.5"
  }
 },
 "nbformat": 4,
 "nbformat_minor": 2
}
