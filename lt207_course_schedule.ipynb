{
 "cells": [
  {
   "cell_type": "markdown",
   "metadata": {},
   "source": [
    "https://leetcode.com/problems/course-schedule/"
   ]
  },
  {
   "cell_type": "code",
   "execution_count": 171,
   "metadata": {},
   "outputs": [],
   "source": [
    "# my solution\n",
    "def canFinish(numCourses: int, prerequisites):\n",
    "    adj = [set() for _ in range(numCourses)] # create adjacency matrix for each \n",
    "    adj_a = [set() for _ in range(numCourses)]\n",
    "    for c,p in prerequisites:\n",
    "        adj[c].add(p)\n",
    "        adj_a[p].add(c)\n",
    "    leaves = [v for v in range(numCourses) if len(adj[v]) == 0]\n",
    "    while numCourses > 0:\n",
    "        print(leaves)\n",
    "        numCourses -= len(leaves)\n",
    "        new_leaves = []\n",
    "        for leaf in leaves:\n",
    "            for i,c in enumerate(adj):\n",
    "                if leaf in c: \n",
    "                    c.remove(leaf)\n",
    "                    if len(c) == 0:\n",
    "                        new_leaves.append(i)\n",
    "        leaves = new_leaves\n",
    "        if len(leaves) == 0 and numCourses > 0: return False\n",
    "    return True"
   ]
  },
  {
   "cell_type": "code",
   "execution_count": 194,
   "metadata": {},
   "outputs": [],
   "source": [
    "# my solution\n",
    "def canFinish(numCourses: int, prerequisites):\n",
    "    c_p = [set() for _ in range(numCourses)] # create matrix for each \n",
    "    p_c = [set() for _ in range(numCourses)]\n",
    "    for c,p in prerequisites:\n",
    "        c_p[c].add(p)\n",
    "        p_c[p].add(c)\n",
    "    leaves = [v for v in range(numCourses) if len(c_p[v]) == 0]\n",
    "    while numCourses > 0:\n",
    "        numCourses -= len(leaves)\n",
    "        new_leaves = []\n",
    "        for leaf in leaves: # remove leaves from c_p\n",
    "            for c in p_c[leaf]:\n",
    "                c_p[c].remove(leaf) # remove the req from all classes which require it\n",
    "                if len(c_p[c]) == 0: # if the length of the class is now 0, it is now a new leaf\n",
    "                    new_leaves.append(c)\n",
    "        leaves = new_leaves\n",
    "        if len(leaves) == 0 and numCourses > 0: return False\n",
    "    return True"
   ]
  },
  {
   "cell_type": "code",
   "execution_count": 195,
   "metadata": {},
   "outputs": [
    {
     "name": "stdout",
     "output_type": "stream",
     "text": [
      "0\n"
     ]
    },
    {
     "data": {
      "text/plain": [
       "True"
      ]
     },
     "execution_count": 195,
     "metadata": {},
     "output_type": "execute_result"
    }
   ],
   "source": [
    "canFinish(2,[[0,1]])"
   ]
  },
  {
   "cell_type": "code",
   "execution_count": 193,
   "metadata": {
    "scrolled": true
   },
   "outputs": [
    {
     "name": "stdout",
     "output_type": "stream",
     "text": [
      "0 1\n",
      "1 2\n"
     ]
    },
    {
     "data": {
      "text/plain": [
       "True"
      ]
     },
     "execution_count": 193,
     "metadata": {},
     "output_type": "execute_result"
    }
   ],
   "source": [
    "canFinish(3,[[1,0],[2,0]])"
   ]
  },
  {
   "cell_type": "code",
   "execution_count": null,
   "metadata": {},
   "outputs": [],
   "source": []
  }
 ],
 "metadata": {
  "kernelspec": {
   "display_name": "Python3 (fastai)",
   "language": "python",
   "name": "fastai"
  },
  "language_info": {
   "codemirror_mode": {
    "name": "ipython",
    "version": 3
   },
   "file_extension": ".py",
   "mimetype": "text/x-python",
   "name": "python",
   "nbconvert_exporter": "python",
   "pygments_lexer": "ipython3",
   "version": "3.7.5"
  }
 },
 "nbformat": 4,
 "nbformat_minor": 2
}
