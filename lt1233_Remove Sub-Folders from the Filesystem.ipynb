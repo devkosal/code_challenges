{
 "cells": [
  {
   "cell_type": "markdown",
   "metadata": {},
   "source": [
    "1233. Remove Sub-Folders from the Filesystem"
   ]
  },
  {
   "cell_type": "markdown",
   "metadata": {},
   "source": [
    "https://leetcode.com/problems/remove-sub-folders-from-the-filesystem/"
   ]
  },
  {
   "cell_type": "code",
   "execution_count": 2,
   "metadata": {
    "ExecuteTime": {
     "end_time": "2020-11-10T05:57:10.369657Z",
     "start_time": "2020-11-10T05:57:10.365279Z"
    }
   },
   "outputs": [],
   "source": [
    "# Approach 1: time limit exceeded\n",
    "class Solution:\n",
    "    def removeSubfolders(self, folder):\n",
    "        folder.sort(key=lambda x: len(x))\n",
    "        folders = [f.split(\"/\")[1:] for f in folder]\n",
    "        removes = []\n",
    "        for i,f in enumerate(folders):\n",
    "            removes += list(filter(lambda x: x[:len(f)] == f, folders[i+1:]))\n",
    "        removes = [\"/\"+\"/\".join(r) for r in removes]\n",
    "        return set(folder).difference(set(removes))"
   ]
  },
  {
   "cell_type": "code",
   "execution_count": 7,
   "metadata": {
    "ExecuteTime": {
     "end_time": "2020-11-10T06:08:31.383051Z",
     "start_time": "2020-11-10T06:08:31.379868Z"
    }
   },
   "outputs": [],
   "source": [
    "class Solution:\n",
    "    def removeSubfolders(self, folder):\n",
    "        folder.sort()\n",
    "        parent = folder[0] + \"/\"\n",
    "        output = [folder[0]]\n",
    "        for f in folder[1:]:\n",
    "            if not f.startswith(parent):\n",
    "                output.append(f)\n",
    "                parent = f + \"/\"\n",
    "        return output"
   ]
  },
  {
   "cell_type": "code",
   "execution_count": 10,
   "metadata": {
    "ExecuteTime": {
     "end_time": "2020-11-10T06:14:54.853018Z",
     "start_time": "2020-11-10T06:14:54.849556Z"
    }
   },
   "outputs": [],
   "source": [
    "class Solution:\n",
    "    \"\"\"\n",
    "    in place solution\n",
    "    \"\"\"\n",
    "    def removeSubfolders(self, folder):\n",
    "        folder.sort()\n",
    "        parent = folder[0] + \"/\"\n",
    "        i = 1\n",
    "        l = len(folder)\n",
    "        while i < l:\n",
    "            if not folder[i].startswith(parent):\n",
    "                parent = folder[i] + \"/\"\n",
    "                i += 1\n",
    "            else:\n",
    "                folder.pop(i)\n",
    "                l -= 1\n",
    "        return folder\n",
    "\n",
    "                "
   ]
  },
  {
   "cell_type": "code",
   "execution_count": 8,
   "metadata": {
    "ExecuteTime": {
     "end_time": "2020-11-10T06:08:31.800318Z",
     "start_time": "2020-11-10T06:08:31.796620Z"
    }
   },
   "outputs": [],
   "source": [
    "class Solution:\n",
    "    \"\"\"\n",
    "    https://leetcode.com/problems/remove-sub-folders-from-the-filesystem/discuss/836968/%22a-lesser-known-features-of-the-Python-language%22\n",
    "    \"\"\"\n",
    "    def removeSubfolders(self, folders):\n",
    "        dirs = set()\n",
    "        folders = sorted(list(filter(None,folder.split('/'))) for folder in folders)\n",
    "        for folder_fp in folders:\n",
    "            curr_name = \"\"\n",
    "            for folder in folder_fp:\n",
    "                curr_name += f\"/{folder}\"\n",
    "                if curr_name in dirs:\n",
    "                    break\n",
    "            else:\n",
    "                dirs.add(curr_name)\n",
    "        return dirs"
   ]
  },
  {
   "cell_type": "code",
   "execution_count": null,
   "metadata": {},
   "outputs": [],
   "source": []
  }
 ],
 "metadata": {
  "kernelspec": {
   "display_name": "Python (data)",
   "language": "python",
   "name": "data"
  },
  "language_info": {
   "codemirror_mode": {
    "name": "ipython",
    "version": 3
   },
   "file_extension": ".py",
   "mimetype": "text/x-python",
   "name": "python",
   "nbconvert_exporter": "python",
   "pygments_lexer": "ipython3",
   "version": "3.8.3"
  }
 },
 "nbformat": 4,
 "nbformat_minor": 4
}
