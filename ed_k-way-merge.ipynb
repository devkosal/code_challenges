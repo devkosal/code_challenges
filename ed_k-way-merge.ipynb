{
 "cells": [
  {
   "cell_type": "markdown",
   "metadata": {},
   "source": [
    "## Kth Smallest Number in a Sorted Matrix (Hard)\n"
   ]
  },
  {
   "cell_type": "code",
   "execution_count": null,
   "metadata": {},
   "outputs": [],
   "source": [
    "import heapq\n",
    "\n",
    "def find_Kth_smallest(matrix, k):\n",
    "    m,n = len(matrix), len(matrix[0])\n",
    "    min_heap = []\n",
    "    for i in range(n):\n",
    "        heapq.heappush(min_heap, (matrix[i][0], (i,0)))\n",
    "\n",
    "    i = 0\n",
    "    while i < k and min_heap:\n",
    "        num, (ri, ci) = heapq.heappop(min_heap)\n",
    "        if ci < n-1:\n",
    "            heapq.heappush(min_heap, (matrix[ri][ci+1], (ri, ci+1)))\n",
    "        i+=1\n",
    "    return num\n",
    "\n",
    "\n",
    "def main():\n",
    "    print(\"Kth smallest number is: \" +\n",
    "                str(find_Kth_smallest([[2, 6, 8], [3, 7, 10], [5, 8, 11]], 5)))\n",
    "\n",
    "\n",
    "main()\n"
   ]
  }
 ],
 "metadata": {
  "kernelspec": {
   "display_name": "Python 3",
   "language": "python",
   "name": "python3"
  },
  "language_info": {
   "codemirror_mode": {
    "name": "ipython",
    "version": 3
   },
   "file_extension": ".py",
   "mimetype": "text/x-python",
   "name": "python",
   "nbconvert_exporter": "python",
   "pygments_lexer": "ipython3",
   "version": "3.8.5"
  }
 },
 "nbformat": 4,
 "nbformat_minor": 4
}
