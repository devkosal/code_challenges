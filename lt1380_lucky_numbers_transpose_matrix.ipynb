{
 "cells": [
  {
   "cell_type": "markdown",
   "metadata": {},
   "source": [
    "https://leetcode.com/problems/lucky-numbers-in-a-matrix/"
   ]
  },
  {
   "cell_type": "code",
   "execution_count": 2,
   "metadata": {
    "ExecuteTime": {
     "end_time": "2020-11-10T05:18:27.983246Z",
     "start_time": "2020-11-10T05:18:27.978788Z"
    }
   },
   "outputs": [],
   "source": [
    "class Solution:\n",
    "    def luckyNumbers (self, matrix):\n",
    "        m,n = len(matrix), len(matrix[0])\n",
    "        print(list(zip(*matrix)))\n",
    "        matrix_T = [[None for _ in range(m)] for _ in range(n)]\n",
    "        for i in range(m):\n",
    "            for j in range(n):\n",
    "                matrix_T[j][i] = matrix[i][j]\n",
    "        return set(map(min,matrix)).intersection(set(map(max, matrix_T)))\n",
    "        "
   ]
  },
  {
   "cell_type": "code",
   "execution_count": null,
   "metadata": {},
   "outputs": [],
   "source": []
  }
 ],
 "metadata": {
  "kernelspec": {
   "display_name": "Python (data)",
   "language": "python",
   "name": "data"
  },
  "language_info": {
   "codemirror_mode": {
    "name": "ipython",
    "version": 3
   },
   "file_extension": ".py",
   "mimetype": "text/x-python",
   "name": "python",
   "nbconvert_exporter": "python",
   "pygments_lexer": "ipython3",
   "version": "3.8.3"
  }
 },
 "nbformat": 4,
 "nbformat_minor": 4
}
