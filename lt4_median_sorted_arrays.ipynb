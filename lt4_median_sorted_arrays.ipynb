{
 "cells": [
  {
   "cell_type": "markdown",
   "metadata": {},
   "source": [
    "https://leetcode.com/problems/median-of-two-sorted-arrays/submissions/"
   ]
  },
  {
   "cell_type": "code",
   "execution_count": 7,
   "metadata": {
    "ExecuteTime": {
     "end_time": "2019-12-08T07:09:57.256499Z",
     "start_time": "2019-12-08T07:09:57.252082Z"
    }
   },
   "outputs": [],
   "source": [
    "def findMedianSortedArrays(nums1: [int], nums2: [int]) -> float:\n",
    "    s = nums1 + nums2\n",
    "    s = sorted(s)\n",
    "    l = len(s)\n",
    "    mid = l/2\n",
    "    if l % 2 == 0: # if there are an even # of nums\n",
    "        mid = int(mid)\n",
    "        return (s[mid] + s[mid-1])/2\n",
    "    else: # if there are an odd # of nums\n",
    "        return s[int(mid-.5)]"
   ]
  },
  {
   "cell_type": "code",
   "execution_count": 8,
   "metadata": {
    "ExecuteTime": {
     "end_time": "2019-12-08T07:10:05.234089Z",
     "start_time": "2019-12-08T07:10:05.229995Z"
    }
   },
   "outputs": [
    {
     "data": {
      "text/plain": [
       "2.5"
      ]
     },
     "execution_count": 8,
     "metadata": {},
     "output_type": "execute_result"
    }
   ],
   "source": [
    "findMedianSortedArrays([1,2],[3,4])"
   ]
  },
  {
   "cell_type": "code",
   "execution_count": 25,
   "metadata": {
    "ExecuteTime": {
     "end_time": "2019-12-08T17:39:49.736992Z",
     "start_time": "2019-12-08T17:39:49.732859Z"
    }
   },
   "outputs": [],
   "source": [
    "# quicksort\n",
    "def sort(l):\n",
    "    if l == []: return l\n",
    "    pivot = l[-1]\n",
    "    left,right = [],[]\n",
    "    for x in l[:-1]:\n",
    "        if x > pivot:\n",
    "            right.append(x)\n",
    "        else:\n",
    "            left.append(x)\n",
    "    return sort(left) + [pivot] + sort(right)"
   ]
  },
  {
   "cell_type": "code",
   "execution_count": 26,
   "metadata": {
    "ExecuteTime": {
     "end_time": "2019-12-08T17:39:50.032952Z",
     "start_time": "2019-12-08T17:39:50.028316Z"
    }
   },
   "outputs": [
    {
     "data": {
      "text/plain": [
       "[-2, 2, 10, 20, 22, 30, 33, 44, 50, 56, 79]"
      ]
     },
     "execution_count": 26,
     "metadata": {},
     "output_type": "execute_result"
    }
   ],
   "source": [
    "sort([10,20,30,50,2,56,79,-2,44,33,22])"
   ]
  },
  {
   "cell_type": "code",
   "execution_count": null,
   "metadata": {},
   "outputs": [],
   "source": []
  }
 ],
 "metadata": {
  "kernelspec": {
   "display_name": "Python 3",
   "language": "python",
   "name": "python3"
  },
  "language_info": {
   "codemirror_mode": {
    "name": "ipython",
    "version": 3
   },
   "file_extension": ".py",
   "mimetype": "text/x-python",
   "name": "python",
   "nbconvert_exporter": "python",
   "pygments_lexer": "ipython3",
   "version": "3.7.3"
  },
  "varInspector": {
   "cols": {
    "lenName": 16,
    "lenType": 16,
    "lenVar": 40
   },
   "kernels_config": {
    "python": {
     "delete_cmd_postfix": "",
     "delete_cmd_prefix": "del ",
     "library": "var_list.py",
     "varRefreshCmd": "print(var_dic_list())"
    },
    "r": {
     "delete_cmd_postfix": ") ",
     "delete_cmd_prefix": "rm(",
     "library": "var_list.r",
     "varRefreshCmd": "cat(var_dic_list()) "
    }
   },
   "types_to_exclude": [
    "module",
    "function",
    "builtin_function_or_method",
    "instance",
    "_Feature"
   ],
   "window_display": false
  }
 },
 "nbformat": 4,
 "nbformat_minor": 2
}
