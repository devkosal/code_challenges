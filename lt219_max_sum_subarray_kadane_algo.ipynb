{
 "cells": [
  {
   "cell_type": "markdown",
   "metadata": {},
   "source": [
    "https://leetcode.com/problems/maximum-subarray/"
   ]
  },
  {
   "cell_type": "markdown",
   "metadata": {},
   "source": [
    "The key idea with kadane's algo is that a negative num will never make a positive contribution to our sum. So, if our current sum, drops below zero, we should just reset by setting our current sum to be the current num. Otherwise, we keep adding cumulative sum. "
   ]
  },
  {
   "cell_type": "markdown",
   "metadata": {},
   "source": [
    "https://afshinm.name/2018/06/24/why-kadane-algorithm-works/"
   ]
  },
  {
   "cell_type": "code",
   "execution_count": 6,
   "metadata": {},
   "outputs": [],
   "source": [
    "def maxSubArray(nums) -> int:\n",
    "    \"\"\"\n",
    "    https://leetcode.com/problems/maximum-subarray/discuss/523386/Python-O(n)-Time-and-O(1)-Space%3A-Kadane's-Algorithm\n",
    "    \"\"\"\n",
    "    max_seq = nums[0]\n",
    "    curr_sum = nums[0]\n",
    "    for num in nums[1:]:\n",
    "        if curr_sum < 0:\n",
    "            curr_sum = num\n",
    "        else:\n",
    "            curr_sum += num\n",
    "        if curr_sum > max_seq:\n",
    "            max_seq = curr_sum\n",
    "    return max_seq"
   ]
  },
  {
   "cell_type": "code",
   "execution_count": 8,
   "metadata": {},
   "outputs": [
    {
     "data": {
      "text/plain": [
       "8"
      ]
     },
     "execution_count": 8,
     "metadata": {},
     "output_type": "execute_result"
    }
   ],
   "source": [
    "maxSubArray([-3,4,-1,5,-10,3])"
   ]
  },
  {
   "cell_type": "code",
   "execution_count": null,
   "metadata": {},
   "outputs": [],
   "source": []
  }
 ],
 "metadata": {
  "kernelspec": {
   "display_name": "Python3 (fastai)",
   "language": "python",
   "name": "fastai"
  },
  "language_info": {
   "codemirror_mode": {
    "name": "ipython",
    "version": 3
   },
   "file_extension": ".py",
   "mimetype": "text/x-python",
   "name": "python",
   "nbconvert_exporter": "python",
   "pygments_lexer": "ipython3",
   "version": "3.7.5"
  }
 },
 "nbformat": 4,
 "nbformat_minor": 2
}
